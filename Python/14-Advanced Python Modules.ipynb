{
 "cells": [
  {
   "cell_type": "markdown",
   "id": "7bc8a11b",
   "metadata": {},
   "source": [
    "# Module 14: Advanced Python Modules"
   ]
  },
  {
   "cell_type": "markdown",
   "id": "dd1f5aaf",
   "metadata": {},
   "source": [
    "## Collections Module"
   ]
  },
  {
   "cell_type": "markdown",
   "id": "13a36c04",
   "metadata": {},
   "source": [
    "**`collections` Module in Python**\n",
    "\n",
    "The `collections` module provides alternatives to built-in types that are optimized for specific tasks, such as handling unordered data, counting elements, or working with ordered collections.\n",
    "\n",
    "- **`Counter`**: A subclass of `dict` that counts the occurrences of elements in an iterable.\n",
    "- **`defaultdict`**: A subclass of `dict` that returns a default value if the key is not found.\n",
    "- **`namedtuple`**: Factory function for creating tuple subclasses with named fields.\n",
    "- **`OrderedDict`**: A dictionary that remembers the order in which items were inserted.\n",
    "- **`deque`**: A list-like container that supports fast appends and pops from both ends.\n",
    "\n",
    "These data structures help simplify common programming tasks and improve performance for specific use cases.\n"
   ]
  },
  {
   "cell_type": "code",
   "execution_count": 1,
   "id": "e642ae0e",
   "metadata": {},
   "outputs": [],
   "source": [
    "from collections import Counter"
   ]
  },
  {
   "cell_type": "code",
   "execution_count": 2,
   "id": "7c1a1d6e",
   "metadata": {},
   "outputs": [
    {
     "data": {
      "text/plain": [
       "Counter({3: 7, 2: 5, 1: 3, 4: 3, 5: 3})"
      ]
     },
     "execution_count": 2,
     "metadata": {},
     "output_type": "execute_result"
    }
   ],
   "source": [
    "mylist = [1,1,1,2,2,2,2,2,3,3,3,3,3,3,3,4,4,4,5,5,5]\n",
    "Counter(mylist)"
   ]
  },
  {
   "cell_type": "code",
   "execution_count": 3,
   "id": "3d9911fc",
   "metadata": {},
   "outputs": [
    {
     "data": {
      "text/plain": [
       "Counter({10: 3, 'a': 2})"
      ]
     },
     "execution_count": 3,
     "metadata": {},
     "output_type": "execute_result"
    }
   ],
   "source": [
    "mylist = ['a','a',10,10,10]\n",
    "Counter(mylist)"
   ]
  },
  {
   "cell_type": "code",
   "execution_count": 4,
   "id": "7b8fa830",
   "metadata": {},
   "outputs": [
    {
     "data": {
      "text/plain": [
       "Counter({'c': 5, 'a': 4, 'b': 3, 'd': 2, 'e': 1, 'f': 1})"
      ]
     },
     "execution_count": 4,
     "metadata": {},
     "output_type": "execute_result"
    }
   ],
   "source": [
    "Counter('aaaabbbcccccddef')"
   ]
  },
  {
   "cell_type": "code",
   "execution_count": 5,
   "id": "1db79aa1",
   "metadata": {},
   "outputs": [
    {
     "data": {
      "text/plain": [
       "Counter({'word': 2,\n",
       "         'How': 1,\n",
       "         'many': 1,\n",
       "         'times': 1,\n",
       "         'does': 1,\n",
       "         'each': 1,\n",
       "         'show': 1,\n",
       "         'up': 1,\n",
       "         'in': 1,\n",
       "         'this': 1,\n",
       "         'sentence': 1,\n",
       "         'with': 1,\n",
       "         'a': 1})"
      ]
     },
     "execution_count": 5,
     "metadata": {},
     "output_type": "execute_result"
    }
   ],
   "source": [
    "sentence = 'How many times does each word show up in this sentence with a word'\n",
    "\n",
    "Counter(sentence.split())"
   ]
  },
  {
   "cell_type": "code",
   "execution_count": 6,
   "id": "a10fe668",
   "metadata": {},
   "outputs": [],
   "source": [
    "letters = 'aaabbbbccccccdddddedfffffff'"
   ]
  },
  {
   "cell_type": "code",
   "execution_count": 7,
   "id": "27d79bb3",
   "metadata": {},
   "outputs": [],
   "source": [
    "c = Counter(letters)"
   ]
  },
  {
   "cell_type": "code",
   "execution_count": 8,
   "id": "3570c798",
   "metadata": {},
   "outputs": [
    {
     "data": {
      "text/plain": [
       "Counter({'f': 7, 'c': 6, 'd': 6, 'b': 4, 'a': 3, 'e': 1})"
      ]
     },
     "execution_count": 8,
     "metadata": {},
     "output_type": "execute_result"
    }
   ],
   "source": [
    "c"
   ]
  },
  {
   "cell_type": "code",
   "execution_count": 9,
   "id": "33d628c5",
   "metadata": {},
   "outputs": [
    {
     "data": {
      "text/plain": [
       "[('f', 7), ('c', 6), ('d', 6), ('b', 4), ('a', 3), ('e', 1)]"
      ]
     },
     "execution_count": 9,
     "metadata": {},
     "output_type": "execute_result"
    }
   ],
   "source": [
    "c.most_common()"
   ]
  },
  {
   "cell_type": "code",
   "execution_count": 10,
   "id": "fd0492e9",
   "metadata": {},
   "outputs": [
    {
     "data": {
      "text/plain": [
       "[('f', 7), ('c', 6)]"
      ]
     },
     "execution_count": 10,
     "metadata": {},
     "output_type": "execute_result"
    }
   ],
   "source": [
    "c.most_common(2)"
   ]
  },
  {
   "cell_type": "code",
   "execution_count": 11,
   "id": "dda7696a",
   "metadata": {},
   "outputs": [
    {
     "data": {
      "text/plain": [
       "['a', 'b', 'c', 'd', 'e', 'f']"
      ]
     },
     "execution_count": 11,
     "metadata": {},
     "output_type": "execute_result"
    }
   ],
   "source": [
    "list(c)"
   ]
  },
  {
   "cell_type": "code",
   "execution_count": 12,
   "id": "e5bd1e91",
   "metadata": {},
   "outputs": [],
   "source": [
    "from collections import defaultdict"
   ]
  },
  {
   "cell_type": "code",
   "execution_count": 13,
   "id": "1808781d",
   "metadata": {},
   "outputs": [],
   "source": [
    "d = {'a': 10}"
   ]
  },
  {
   "cell_type": "code",
   "execution_count": 14,
   "id": "a7d987a4",
   "metadata": {},
   "outputs": [
    {
     "data": {
      "text/plain": [
       "{'a': 10}"
      ]
     },
     "execution_count": 14,
     "metadata": {},
     "output_type": "execute_result"
    }
   ],
   "source": [
    "d"
   ]
  },
  {
   "cell_type": "code",
   "execution_count": 15,
   "id": "06b88b88",
   "metadata": {},
   "outputs": [
    {
     "data": {
      "text/plain": [
       "10"
      ]
     },
     "execution_count": 15,
     "metadata": {},
     "output_type": "execute_result"
    }
   ],
   "source": [
    "d['a']"
   ]
  },
  {
   "cell_type": "code",
   "execution_count": 16,
   "id": "c6c13cd2",
   "metadata": {},
   "outputs": [
    {
     "ename": "KeyError",
     "evalue": "'WRONG'",
     "output_type": "error",
     "traceback": [
      "\u001b[1;31m---------------------------------------------------------------------------\u001b[0m",
      "\u001b[1;31mKeyError\u001b[0m                                  Traceback (most recent call last)",
      "Cell \u001b[1;32mIn[16], line 1\u001b[0m\n\u001b[1;32m----> 1\u001b[0m d[\u001b[38;5;124m'\u001b[39m\u001b[38;5;124mWRONG\u001b[39m\u001b[38;5;124m'\u001b[39m]\n",
      "\u001b[1;31mKeyError\u001b[0m: 'WRONG'"
     ]
    }
   ],
   "source": [
    "d['WRONG']"
   ]
  },
  {
   "cell_type": "code",
   "execution_count": 17,
   "id": "48d1b9fb",
   "metadata": {},
   "outputs": [],
   "source": [
    "d = defaultdict(lambda: 0)"
   ]
  },
  {
   "cell_type": "code",
   "execution_count": 18,
   "id": "0b80c987",
   "metadata": {},
   "outputs": [],
   "source": [
    "d['correct'] = 100"
   ]
  },
  {
   "cell_type": "code",
   "execution_count": 19,
   "id": "45b234f3",
   "metadata": {},
   "outputs": [
    {
     "data": {
      "text/plain": [
       "100"
      ]
     },
     "execution_count": 19,
     "metadata": {},
     "output_type": "execute_result"
    }
   ],
   "source": [
    "d['correct']"
   ]
  },
  {
   "cell_type": "code",
   "execution_count": 20,
   "id": "8fa0bdba",
   "metadata": {},
   "outputs": [
    {
     "data": {
      "text/plain": [
       "0"
      ]
     },
     "execution_count": 20,
     "metadata": {},
     "output_type": "execute_result"
    }
   ],
   "source": [
    "d[\"Wrong\"]"
   ]
  },
  {
   "cell_type": "code",
   "execution_count": 21,
   "id": "94980859",
   "metadata": {},
   "outputs": [],
   "source": [
    "mytuple = (10,20,30)"
   ]
  },
  {
   "cell_type": "code",
   "execution_count": 22,
   "id": "d83f691f",
   "metadata": {},
   "outputs": [
    {
     "data": {
      "text/plain": [
       "10"
      ]
     },
     "execution_count": 22,
     "metadata": {},
     "output_type": "execute_result"
    }
   ],
   "source": [
    "mytuple[0]"
   ]
  },
  {
   "cell_type": "code",
   "execution_count": 23,
   "id": "9e96db5b",
   "metadata": {},
   "outputs": [],
   "source": [
    "from collections import namedtuple"
   ]
  },
  {
   "cell_type": "code",
   "execution_count": 24,
   "id": "fcaa35f4",
   "metadata": {},
   "outputs": [],
   "source": [
    "Dog = namedtuple('Dog',['age','breed','name'])"
   ]
  },
  {
   "cell_type": "code",
   "execution_count": 25,
   "id": "461f026b",
   "metadata": {},
   "outputs": [],
   "source": [
    "sammy = Dog(age=5,breed='Husky',name='Sammy')"
   ]
  },
  {
   "cell_type": "code",
   "execution_count": 26,
   "id": "23e72968",
   "metadata": {},
   "outputs": [
    {
     "data": {
      "text/plain": [
       "Dog(age=5, breed='Husky', name='Sammy')"
      ]
     },
     "execution_count": 26,
     "metadata": {},
     "output_type": "execute_result"
    }
   ],
   "source": [
    "sammy"
   ]
  },
  {
   "cell_type": "code",
   "execution_count": 27,
   "id": "47c94b37",
   "metadata": {},
   "outputs": [
    {
     "data": {
      "text/plain": [
       "__main__.Dog"
      ]
     },
     "execution_count": 27,
     "metadata": {},
     "output_type": "execute_result"
    }
   ],
   "source": [
    "type(sammy)"
   ]
  },
  {
   "cell_type": "code",
   "execution_count": 28,
   "id": "cc94ff62",
   "metadata": {},
   "outputs": [
    {
     "data": {
      "text/plain": [
       "5"
      ]
     },
     "execution_count": 28,
     "metadata": {},
     "output_type": "execute_result"
    }
   ],
   "source": [
    "sammy.age"
   ]
  },
  {
   "cell_type": "code",
   "execution_count": 29,
   "id": "8b2f5af9",
   "metadata": {},
   "outputs": [
    {
     "data": {
      "text/plain": [
       "'Husky'"
      ]
     },
     "execution_count": 29,
     "metadata": {},
     "output_type": "execute_result"
    }
   ],
   "source": [
    "sammy.breed"
   ]
  },
  {
   "cell_type": "code",
   "execution_count": 30,
   "id": "6b47c908",
   "metadata": {},
   "outputs": [
    {
     "data": {
      "text/plain": [
       "'Sammy'"
      ]
     },
     "execution_count": 30,
     "metadata": {},
     "output_type": "execute_result"
    }
   ],
   "source": [
    "sammy.name"
   ]
  },
  {
   "cell_type": "code",
   "execution_count": 31,
   "id": "9cf523be",
   "metadata": {},
   "outputs": [
    {
     "data": {
      "text/plain": [
       "5"
      ]
     },
     "execution_count": 31,
     "metadata": {},
     "output_type": "execute_result"
    }
   ],
   "source": [
    "sammy[0]"
   ]
  },
  {
   "cell_type": "markdown",
   "id": "7da051b9",
   "metadata": {},
   "source": [
    "## OS Module"
   ]
  },
  {
   "cell_type": "markdown",
   "id": "81d6e10b",
   "metadata": {},
   "source": [
    "**`os` Module in Python**\n",
    "\n",
    "The `os` module provides a way to interact with the operating system and perform tasks like file manipulation, process management, and environment management.\n",
    "\n",
    "- **File and Directory Operations**: Functions like `os.mkdir()`, `os.remove()`, and `os.rename()` to work with files and directories.\n",
    "- **Environment Variables**: Use `os.getenv()` and `os.environ` to access and modify environment variables.\n",
    "- **Path Operations**: Functions like `os.path.join()`, `os.path.exists()`, and `os.path.abspath()` help manipulate and query file paths.\n",
    "- **Process Management**: Use `os.system()` to run system commands and `os.getpid()` to get the current process ID.\n",
    "\n",
    "The `os` module is essential for working with the underlying operating system from Python code.\n"
   ]
  },
  {
   "cell_type": "code",
   "execution_count": 32,
   "id": "303a8724",
   "metadata": {},
   "outputs": [
    {
     "data": {
      "text/plain": [
       "'c:\\\\Users\\\\MeetRadadiya\\\\training-crest\\\\Python'"
      ]
     },
     "execution_count": 32,
     "metadata": {},
     "output_type": "execute_result"
    }
   ],
   "source": [
    "pwd"
   ]
  },
  {
   "cell_type": "code",
   "execution_count": 33,
   "id": "37afca0a",
   "metadata": {},
   "outputs": [],
   "source": [
    "f = open('practice.txt', 'w+')\n",
    "f.write('This is a test string')\n",
    "f.close()"
   ]
  },
  {
   "cell_type": "code",
   "execution_count": 34,
   "id": "1c696a94",
   "metadata": {},
   "outputs": [],
   "source": [
    "import os"
   ]
  },
  {
   "cell_type": "code",
   "execution_count": 35,
   "id": "599cc6d7",
   "metadata": {},
   "outputs": [
    {
     "data": {
      "text/plain": [
       "'c:\\\\Users\\\\MeetRadadiya\\\\training-crest\\\\Python'"
      ]
     },
     "execution_count": 35,
     "metadata": {},
     "output_type": "execute_result"
    }
   ],
   "source": [
    "os.getcwd()"
   ]
  },
  {
   "cell_type": "code",
   "execution_count": 36,
   "id": "83e4d621",
   "metadata": {},
   "outputs": [
    {
     "data": {
      "text/plain": [
       "['.ipynb_checkpoints',\n",
       " '1-DataTypes_Basics.ipynb',\n",
       " '10-Milestone Project 2.ipynb',\n",
       " '11-Milestone Project 2(Black Jack).ipynb',\n",
       " '12-Decorators.ipynb',\n",
       " '13-Generators.ipynb',\n",
       " '14-Advanced Python Modules.ipynb',\n",
       " '2-DataStructures.ipynb',\n",
       " '3-FileIO.ipynb',\n",
       " '4-Statementes and Comparison Operators.ipynb',\n",
       " '5-Methods in Python.ipynb',\n",
       " '6-Milestone Project.ipynb',\n",
       " '7-OOP.ipynb',\n",
       " '8-Modules and Packages.ipynb',\n",
       " '9-Errors and Exceptions Handling.ipynb',\n",
       " 'Assessments',\n",
       " 'practice.txt',\n",
       " 'pylint.py']"
      ]
     },
     "execution_count": 36,
     "metadata": {},
     "output_type": "execute_result"
    }
   ],
   "source": [
    "os.listdir()"
   ]
  },
  {
   "cell_type": "code",
   "execution_count": 37,
   "id": "2e9a5654",
   "metadata": {},
   "outputs": [],
   "source": [
    "import shutil"
   ]
  },
  {
   "cell_type": "code",
   "execution_count": null,
   "id": "c7cef02e",
   "metadata": {},
   "outputs": [],
   "source": [
    "shutil.move('practice.txt','C:\\Users\\Demo\\')"
   ]
  },
  {
   "cell_type": "code",
   "execution_count": 38,
   "id": "4efa4815",
   "metadata": {},
   "outputs": [],
   "source": [
    "import send2trash"
   ]
  },
  {
   "cell_type": "code",
   "execution_count": 39,
   "id": "a8972e6d",
   "metadata": {},
   "outputs": [],
   "source": [
    "send2trash.send2trash('practice.txt')"
   ]
  },
  {
   "cell_type": "code",
   "execution_count": 40,
   "id": "7276f50d",
   "metadata": {},
   "outputs": [
    {
     "name": "stdout",
     "output_type": "stream",
     "text": [
      "Currently looking at c:\\Users\\MeetRadadiya\\training-crest\\Python\n",
      "\n",
      "\n",
      "The subfolders are:\n",
      "\t Subfolder: .ipynb_checkpoints\n",
      "\t Subfolder: Assessments\n",
      "\n",
      "\n",
      "The files are:\n",
      "\t File: 1-DataTypes_Basics.ipynb\n",
      "\t File: 10-Milestone Project 2.ipynb\n",
      "\t File: 11-Milestone Project 2(Black Jack).ipynb\n",
      "\t File: 12-Decorators.ipynb\n",
      "\t File: 13-Generators.ipynb\n",
      "\t File: 14-Advanced Python Modules.ipynb\n",
      "\t File: 2-DataStructures.ipynb\n",
      "\t File: 3-FileIO.ipynb\n",
      "\t File: 4-Statementes and Comparison Operators.ipynb\n",
      "\t File: 5-Methods in Python.ipynb\n",
      "\t File: 6-Milestone Project.ipynb\n",
      "\t File: 7-OOP.ipynb\n",
      "\t File: 8-Modules and Packages.ipynb\n",
      "\t File: 9-Errors and Exceptions Handling.ipynb\n",
      "\t File: pylint.py\n",
      "\n",
      "\n",
      "Currently looking at c:\\Users\\MeetRadadiya\\training-crest\\Python\\.ipynb_checkpoints\n",
      "\n",
      "\n",
      "The subfolders are:\n",
      "\n",
      "\n",
      "The files are:\n",
      "\t File: 4-Statementes and Comparison Operators-checkpoint.ipynb\n",
      "\t File: DataStructures-checkpoint.ipynb\n",
      "\t File: DataTypes_Basics-checkpoint.ipynb\n",
      "\t File: FileIO-checkpoint.ipynb\n",
      "\t File: Untitled-checkpoint.ipynb\n",
      "\n",
      "\n",
      "Currently looking at c:\\Users\\MeetRadadiya\\training-crest\\Python\\Assessments\n",
      "\n",
      "\n",
      "The subfolders are:\n",
      "\n",
      "\n",
      "The files are:\n",
      "\t File: Module-3_Assesment.ipynb\n",
      "\t File: Module-5_Assesment.ipynb\n",
      "\t File: Module-5_Guessing Game Challenge.ipynb\n",
      "\t File: Module-6_Functions-Practice.ipynb\n",
      "\t File: Module-6_HomeWork.ipynb\n",
      "\t File: Module-8_Homework.ipynb\n",
      "\t File: Module-8_OOP Challenge.ipynb\n",
      "\n",
      "\n"
     ]
    }
   ],
   "source": [
    "for folder, subf_folders,files in os.walk(os.getcwd()):\n",
    "    print(f'Currently looking at {folder}')\n",
    "    print('\\n')\n",
    "    print('The subfolders are:')\n",
    "    for sub_fold in subf_folders:\n",
    "        print(f'\\t Subfolder: {sub_fold}')\n",
    "    \n",
    "    print('\\n')\n",
    "    print('The files are:')\n",
    "    for f in files:\n",
    "        print(f'\\t File: {f}')\n",
    "    print('\\n')"
   ]
  },
  {
   "cell_type": "markdown",
   "id": "53a0c0c0",
   "metadata": {},
   "source": [
    "# Date Time Module"
   ]
  },
  {
   "cell_type": "markdown",
   "id": "c2c13618",
   "metadata": {},
   "source": [
    "**`datetime` Module in Python**\n",
    "\n",
    "The `datetime` module provides classes for manipulating dates and times in both simple and complex ways.\n",
    "\n",
    "- **`datetime.datetime`**: Represents a single point in time, combining both date and time.\n",
    "- **`datetime.date`**: Represents just the date (year, month, day).\n",
    "- **`datetime.time`**: Represents just the time (hour, minute, second, microsecond).\n",
    "- **`datetime.timedelta`**: Represents the difference between two `datetime` objects (duration).\n",
    "- **`datetime.strftime()`**: Formats `datetime` objects into strings.\n",
    "- **`datetime.strptime()`**: Parses strings into `datetime` objects.\n",
    "\n",
    "The `datetime` module is useful for working with time-based data, performing date arithmetic, and formatting dates for display.\n"
   ]
  },
  {
   "cell_type": "code",
   "execution_count": 41,
   "id": "1f846663",
   "metadata": {},
   "outputs": [],
   "source": [
    "import datetime"
   ]
  },
  {
   "cell_type": "code",
   "execution_count": 42,
   "id": "1480d0c1",
   "metadata": {},
   "outputs": [],
   "source": [
    "mytime = datetime.time(2)"
   ]
  },
  {
   "cell_type": "code",
   "execution_count": 43,
   "id": "0f637061",
   "metadata": {},
   "outputs": [
    {
     "data": {
      "text/plain": [
       "0"
      ]
     },
     "execution_count": 43,
     "metadata": {},
     "output_type": "execute_result"
    }
   ],
   "source": [
    "mytime.minute"
   ]
  },
  {
   "cell_type": "code",
   "execution_count": 44,
   "id": "bb6007e5",
   "metadata": {},
   "outputs": [
    {
     "data": {
      "text/plain": [
       "2"
      ]
     },
     "execution_count": 44,
     "metadata": {},
     "output_type": "execute_result"
    }
   ],
   "source": [
    "mytime.hour"
   ]
  },
  {
   "cell_type": "code",
   "execution_count": 45,
   "id": "829e73c6",
   "metadata": {},
   "outputs": [
    {
     "name": "stdout",
     "output_type": "stream",
     "text": [
      "02:00:00\n"
     ]
    }
   ],
   "source": [
    "print(mytime)"
   ]
  },
  {
   "cell_type": "code",
   "execution_count": 46,
   "id": "933c43b0",
   "metadata": {},
   "outputs": [
    {
     "data": {
      "text/plain": [
       "0"
      ]
     },
     "execution_count": 46,
     "metadata": {},
     "output_type": "execute_result"
    }
   ],
   "source": [
    "mytime.microsecond"
   ]
  },
  {
   "cell_type": "code",
   "execution_count": 47,
   "id": "90b9a096",
   "metadata": {},
   "outputs": [
    {
     "data": {
      "text/plain": [
       "datetime.time"
      ]
     },
     "execution_count": 47,
     "metadata": {},
     "output_type": "execute_result"
    }
   ],
   "source": [
    "type(mytime)"
   ]
  },
  {
   "cell_type": "code",
   "execution_count": 48,
   "id": "dbf11b8c",
   "metadata": {},
   "outputs": [],
   "source": [
    "today = datetime.date.today()"
   ]
  },
  {
   "cell_type": "code",
   "execution_count": 49,
   "id": "c4a9e58a",
   "metadata": {},
   "outputs": [
    {
     "name": "stdout",
     "output_type": "stream",
     "text": [
      "2025-07-10\n"
     ]
    }
   ],
   "source": [
    "print(today)"
   ]
  },
  {
   "cell_type": "code",
   "execution_count": 50,
   "id": "9dd480bd",
   "metadata": {},
   "outputs": [
    {
     "data": {
      "text/plain": [
       "'Thu Jul 10 00:00:00 2025'"
      ]
     },
     "execution_count": 50,
     "metadata": {},
     "output_type": "execute_result"
    }
   ],
   "source": [
    "today.ctime()"
   ]
  },
  {
   "cell_type": "code",
   "execution_count": 51,
   "id": "78b98484",
   "metadata": {},
   "outputs": [],
   "source": [
    "from datetime import datetime\n",
    "\n",
    "mydatetime = datetime(2021,10,3,14,20,1)\n"
   ]
  },
  {
   "cell_type": "code",
   "execution_count": 52,
   "id": "7e309a5b",
   "metadata": {},
   "outputs": [
    {
     "name": "stdout",
     "output_type": "stream",
     "text": [
      "2021-10-03 14:20:01\n"
     ]
    }
   ],
   "source": [
    "print(mydatetime)"
   ]
  },
  {
   "cell_type": "code",
   "execution_count": 53,
   "id": "ff3f75e1",
   "metadata": {},
   "outputs": [],
   "source": [
    "mydatetime = mydatetime.replace(year=2020)"
   ]
  },
  {
   "cell_type": "code",
   "execution_count": 54,
   "id": "af5f3de8",
   "metadata": {},
   "outputs": [
    {
     "name": "stdout",
     "output_type": "stream",
     "text": [
      "2020-10-03 14:20:01\n"
     ]
    }
   ],
   "source": [
    "print(mydatetime)"
   ]
  },
  {
   "cell_type": "code",
   "execution_count": 55,
   "id": "2cdadb1e",
   "metadata": {},
   "outputs": [],
   "source": [
    "from datetime import date"
   ]
  },
  {
   "cell_type": "code",
   "execution_count": 56,
   "id": "9869db15",
   "metadata": {},
   "outputs": [],
   "source": [
    "date1 = date(2021,11,3)\n",
    "date2 = date(2020,11,3)\n",
    "\n",
    "result = date1 - date2"
   ]
  },
  {
   "cell_type": "code",
   "execution_count": 57,
   "id": "5d8a1a98",
   "metadata": {},
   "outputs": [
    {
     "data": {
      "text/plain": [
       "365"
      ]
     },
     "execution_count": 57,
     "metadata": {},
     "output_type": "execute_result"
    }
   ],
   "source": [
    "result.days"
   ]
  },
  {
   "cell_type": "code",
   "execution_count": 58,
   "id": "d7841e77",
   "metadata": {},
   "outputs": [],
   "source": [
    "datetime1 = datetime(2021,11,3,22,0)\n",
    "datetime2 = datetime(2020,11,3,12,0)"
   ]
  },
  {
   "cell_type": "code",
   "execution_count": 59,
   "id": "edc88856",
   "metadata": {},
   "outputs": [],
   "source": [
    "result = datetime1 - datetime2"
   ]
  },
  {
   "cell_type": "code",
   "execution_count": 60,
   "id": "cfc022e0",
   "metadata": {},
   "outputs": [
    {
     "data": {
      "text/plain": [
       "datetime.timedelta(days=365, seconds=36000)"
      ]
     },
     "execution_count": 60,
     "metadata": {},
     "output_type": "execute_result"
    }
   ],
   "source": [
    "result"
   ]
  },
  {
   "cell_type": "code",
   "execution_count": 61,
   "id": "34b08655",
   "metadata": {},
   "outputs": [
    {
     "data": {
      "text/plain": [
       "36000"
      ]
     },
     "execution_count": 61,
     "metadata": {},
     "output_type": "execute_result"
    }
   ],
   "source": [
    "result.seconds"
   ]
  },
  {
   "cell_type": "code",
   "execution_count": 62,
   "id": "f84d7f38",
   "metadata": {},
   "outputs": [
    {
     "data": {
      "text/plain": [
       "31572000.0"
      ]
     },
     "execution_count": 62,
     "metadata": {},
     "output_type": "execute_result"
    }
   ],
   "source": [
    "result.total_seconds()"
   ]
  },
  {
   "cell_type": "markdown",
   "id": "0fdefe4f",
   "metadata": {},
   "source": [
    "## Math Module"
   ]
  },
  {
   "cell_type": "markdown",
   "id": "3fd60653",
   "metadata": {},
   "source": [
    "**`math` Module in Python**\n",
    "\n",
    "The `math` module provides mathematical functions and constants that help with basic mathematical operations.\n",
    "\n",
    "- **Mathematical Constants**: Constants like `math.pi` (π), `math.e` (Euler’s number).\n",
    "- **Basic Operations**: Functions like `math.sqrt()`, `math.pow()`, `math.fsum()`.\n",
    "- **Trigonometry**: Functions like `math.sin()`, `math.cos()`, `math.tan()`.\n",
    "- **Logarithms**: Functions like `math.log()`, `math.log10()`, `math.exp()`.\n",
    "- **Factorial and Combinations**: Functions like `math.factorial()`, `math.comb()`, `math.perm()`.\n",
    "\n",
    "The `math` module is optimized for performing precise mathematical calculations and is widely used in scientific computing and data analysis.\n"
   ]
  },
  {
   "cell_type": "code",
   "execution_count": 63,
   "id": "c7a983a1",
   "metadata": {},
   "outputs": [],
   "source": [
    "import math"
   ]
  },
  {
   "cell_type": "code",
   "execution_count": 64,
   "id": "c7c1c143",
   "metadata": {},
   "outputs": [],
   "source": [
    "value = 4.35"
   ]
  },
  {
   "cell_type": "code",
   "execution_count": 65,
   "id": "5cfbaafd",
   "metadata": {},
   "outputs": [
    {
     "name": "stdout",
     "output_type": "stream",
     "text": [
      "4\n"
     ]
    }
   ],
   "source": [
    "print(math.floor(value))"
   ]
  },
  {
   "cell_type": "code",
   "execution_count": 66,
   "id": "75117967",
   "metadata": {},
   "outputs": [
    {
     "name": "stdout",
     "output_type": "stream",
     "text": [
      "5\n"
     ]
    }
   ],
   "source": [
    "print(math.ceil(value))"
   ]
  },
  {
   "cell_type": "code",
   "execution_count": 67,
   "id": "f62b7cd5",
   "metadata": {},
   "outputs": [
    {
     "name": "stdout",
     "output_type": "stream",
     "text": [
      "4\n"
     ]
    }
   ],
   "source": [
    "print(round(value))"
   ]
  },
  {
   "cell_type": "code",
   "execution_count": 68,
   "id": "085f1527",
   "metadata": {},
   "outputs": [
    {
     "name": "stdout",
     "output_type": "stream",
     "text": [
      "3.141592653589793\n"
     ]
    }
   ],
   "source": [
    "print(math.pi)"
   ]
  },
  {
   "cell_type": "code",
   "execution_count": 69,
   "id": "643e9f0d",
   "metadata": {},
   "outputs": [
    {
     "name": "stdout",
     "output_type": "stream",
     "text": [
      "2.718281828459045\n"
     ]
    }
   ],
   "source": [
    "print(math.e)"
   ]
  },
  {
   "cell_type": "code",
   "execution_count": 70,
   "id": "37a27d6b",
   "metadata": {},
   "outputs": [
    {
     "name": "stdout",
     "output_type": "stream",
     "text": [
      "inf\n"
     ]
    }
   ],
   "source": [
    "print(math.inf)"
   ]
  },
  {
   "cell_type": "code",
   "execution_count": 71,
   "id": "81f9ef75",
   "metadata": {},
   "outputs": [
    {
     "name": "stdout",
     "output_type": "stream",
     "text": [
      "nan\n"
     ]
    }
   ],
   "source": [
    "print(math.nan)"
   ]
  },
  {
   "cell_type": "code",
   "execution_count": 72,
   "id": "e240d0f1",
   "metadata": {},
   "outputs": [
    {
     "name": "stdout",
     "output_type": "stream",
     "text": [
      "1.0\n"
     ]
    }
   ],
   "source": [
    "print(math.log(math.e))"
   ]
  },
  {
   "cell_type": "code",
   "execution_count": 73,
   "id": "ba1cb47a",
   "metadata": {},
   "outputs": [
    {
     "name": "stdout",
     "output_type": "stream",
     "text": [
      "2.0\n"
     ]
    }
   ],
   "source": [
    "print(math.log(100,10))"
   ]
  },
  {
   "cell_type": "code",
   "execution_count": 74,
   "id": "1b2a1c33",
   "metadata": {},
   "outputs": [
    {
     "name": "stdout",
     "output_type": "stream",
     "text": [
      "-0.5440211108893698\n"
     ]
    }
   ],
   "source": [
    "print(math.sin(10))"
   ]
  },
  {
   "cell_type": "code",
   "execution_count": 75,
   "id": "c8c7462b",
   "metadata": {},
   "outputs": [
    {
     "name": "stdout",
     "output_type": "stream",
     "text": [
      "90.0\n"
     ]
    }
   ],
   "source": [
    "print(math.degrees(math.pi/2))"
   ]
  },
  {
   "cell_type": "code",
   "execution_count": 76,
   "id": "74fcec1a",
   "metadata": {},
   "outputs": [
    {
     "name": "stdout",
     "output_type": "stream",
     "text": [
      "3.141592653589793\n"
     ]
    }
   ],
   "source": [
    "print(math.radians(180))"
   ]
  },
  {
   "cell_type": "markdown",
   "id": "3f9cf0da",
   "metadata": {},
   "source": [
    "## Random Module"
   ]
  },
  {
   "cell_type": "markdown",
   "id": "4259877d",
   "metadata": {},
   "source": [
    "**`random` Module in Python**\n",
    "\n",
    "The `random` module provides functions for generating random numbers and performing random operations.\n",
    "\n",
    "- **`random.random()`**: Returns a random float between 0 and 1.\n",
    "- **`random.randint(a, b)`**: Returns a random integer between `a` and `b` (inclusive).\n",
    "- **`random.choice(sequence)`**: Selects a random element from a non-empty sequence.\n",
    "- **`random.shuffle(list)`**: Randomly reorders the elements of a list in place.\n",
    "- **`random.sample(population, k)`**: Returns a list of `k` unique elements chosen from the population.\n",
    "\n",
    "The `random` module is commonly used in simulations, games, and testing where random values are needed.\n"
   ]
  },
  {
   "cell_type": "code",
   "execution_count": 77,
   "id": "a899033e",
   "metadata": {},
   "outputs": [],
   "source": [
    "import random"
   ]
  },
  {
   "cell_type": "code",
   "execution_count": 78,
   "id": "0e0f6bbe",
   "metadata": {},
   "outputs": [
    {
     "data": {
      "text/plain": [
       "87"
      ]
     },
     "execution_count": 78,
     "metadata": {},
     "output_type": "execute_result"
    }
   ],
   "source": [
    "random.randint(0,100)"
   ]
  },
  {
   "cell_type": "code",
   "execution_count": 79,
   "id": "b178dc82",
   "metadata": {},
   "outputs": [],
   "source": [
    "mylist = list(range(0,20))"
   ]
  },
  {
   "cell_type": "code",
   "execution_count": 80,
   "id": "f0164a60",
   "metadata": {},
   "outputs": [
    {
     "data": {
      "text/plain": [
       "4"
      ]
     },
     "execution_count": 80,
     "metadata": {},
     "output_type": "execute_result"
    }
   ],
   "source": [
    "random.choice(mylist)"
   ]
  },
  {
   "cell_type": "code",
   "execution_count": 81,
   "id": "5bdcd7bb",
   "metadata": {},
   "outputs": [
    {
     "data": {
      "text/plain": [
       "[5, 11, 4, 9, 1, 2, 18, 8, 8, 3]"
      ]
     },
     "execution_count": 81,
     "metadata": {},
     "output_type": "execute_result"
    }
   ],
   "source": [
    "random.choices(population=mylist,k=10)"
   ]
  },
  {
   "cell_type": "code",
   "execution_count": 82,
   "id": "808562b8",
   "metadata": {},
   "outputs": [
    {
     "data": {
      "text/plain": [
       "[6, 11, 17, 10, 9, 14, 14, 6, 16, 11]"
      ]
     },
     "execution_count": 82,
     "metadata": {},
     "output_type": "execute_result"
    }
   ],
   "source": [
    "random.choices(population=mylist,k=10,weights=[0.5,0.1,0.1,0.1,0.1,0.1,1,1,1,1,1,1,1,1,1,1,1,1,1,1])"
   ]
  },
  {
   "cell_type": "code",
   "execution_count": 83,
   "id": "fd0e6435",
   "metadata": {},
   "outputs": [],
   "source": [
    "random.shuffle(mylist)"
   ]
  },
  {
   "cell_type": "code",
   "execution_count": 84,
   "id": "d295896f",
   "metadata": {},
   "outputs": [
    {
     "data": {
      "text/plain": [
       "[18, 1, 12, 6, 19, 2, 5, 13, 11, 8, 4, 16, 0, 10, 17, 7, 9, 15, 3, 14]"
      ]
     },
     "execution_count": 84,
     "metadata": {},
     "output_type": "execute_result"
    }
   ],
   "source": [
    "mylist"
   ]
  },
  {
   "cell_type": "code",
   "execution_count": 85,
   "id": "b7e35af6",
   "metadata": {},
   "outputs": [
    {
     "data": {
      "text/plain": [
       "14.69896536133717"
      ]
     },
     "execution_count": 85,
     "metadata": {},
     "output_type": "execute_result"
    }
   ],
   "source": [
    "random.uniform(a=0,b=100)"
   ]
  },
  {
   "cell_type": "code",
   "execution_count": 86,
   "id": "c1aae201",
   "metadata": {},
   "outputs": [
    {
     "data": {
      "text/plain": [
       "0.9819420511659149"
      ]
     },
     "execution_count": 86,
     "metadata": {},
     "output_type": "execute_result"
    }
   ],
   "source": [
    "random.gauss(mu=0,sigma=1)"
   ]
  },
  {
   "cell_type": "markdown",
   "id": "6c22059f",
   "metadata": {},
   "source": [
    "## Python Debugger"
   ]
  },
  {
   "cell_type": "markdown",
   "id": "59df8922",
   "metadata": {},
   "source": [
    "**Debugger in Python**\n",
    "\n",
    "The Python debugger, `pdb`, allows you to interactively trace and debug your Python programs. It helps to inspect variables, step through code, and diagnose errors during execution.\n",
    "\n",
    "- **Start Debugger**: Use `import pdb; pdb.set_trace()` to pause execution at a specific point and enter the debugger.\n",
    "- **Common Commands**:\n",
    "  - `n`: Execute the next line of code.\n",
    "  - `s`: Step into the function call.\n",
    "  - `c`: Continue execution until the next breakpoint.\n",
    "  - `p <expression>`: Print the value of an expression.\n",
    "  - `q`: Quit the debugger.\n",
    "  \n",
    "The `pdb` module is useful for inspecting runtime behavior and fixing bugs efficiently.\n"
   ]
  },
  {
   "cell_type": "code",
   "execution_count": 87,
   "id": "c21a6b5e",
   "metadata": {},
   "outputs": [
    {
     "ename": "TypeError",
     "evalue": "can only concatenate list (not \"int\") to list",
     "output_type": "error",
     "traceback": [
      "\u001b[1;31m---------------------------------------------------------------------------\u001b[0m",
      "\u001b[1;31mTypeError\u001b[0m                                 Traceback (most recent call last)",
      "Cell \u001b[1;32mIn[87], line 6\u001b[0m\n\u001b[0;32m      3\u001b[0m z \u001b[38;5;241m=\u001b[39m \u001b[38;5;241m3\u001b[39m\n\u001b[0;32m      5\u001b[0m result1 \u001b[38;5;241m=\u001b[39m y \u001b[38;5;241m+\u001b[39m z\n\u001b[1;32m----> 6\u001b[0m result2 \u001b[38;5;241m=\u001b[39m x \u001b[38;5;241m+\u001b[39m y \u001b[38;5;241m+\u001b[39m z\n\u001b[0;32m      7\u001b[0m result3 \u001b[38;5;241m=\u001b[39m x \u001b[38;5;241m+\u001b[39m result1\n\u001b[0;32m      8\u001b[0m result4 \u001b[38;5;241m=\u001b[39m result1 \u001b[38;5;241m+\u001b[39m result2 \u001b[38;5;241m+\u001b[39m result3\n",
      "\u001b[1;31mTypeError\u001b[0m: can only concatenate list (not \"int\") to list"
     ]
    }
   ],
   "source": [
    "x = [1,2,3]\n",
    "y = 2\n",
    "z = 3\n",
    "\n",
    "result1 = y + z\n",
    "result2 = x + y + z\n",
    "result3 = x + result1\n",
    "result4 = result1 + result2 + result3"
   ]
  },
  {
   "cell_type": "code",
   "execution_count": 88,
   "id": "a22b0ef3",
   "metadata": {},
   "outputs": [],
   "source": [
    "import pdb"
   ]
  },
  {
   "cell_type": "code",
   "execution_count": 89,
   "id": "112ae233",
   "metadata": {},
   "outputs": [
    {
     "name": "stdout",
     "output_type": "stream",
     "text": [
      "> \u001b[1;32mc:\\users\\meetradadiya\\appdata\\local\\temp\\ipykernel_17132\\139234087.py\u001b[0m(6)\u001b[0;36m<module>\u001b[1;34m()\u001b[0m\n",
      "\n",
      "[1, 2, 3]\n",
      "2\n",
      "*** NameError: name 'result2' is not defined\n"
     ]
    }
   ],
   "source": [
    "x = [1,2,3]\n",
    "y = 2\n",
    "z = 3\n",
    "\n",
    "result1 = y + z\n",
    "pdb.set_trace()\n",
    "result2 = x + y + z\n",
    "result3 = x + result1\n",
    "result4 = result1 + result2 + result3"
   ]
  }
 ],
 "metadata": {
  "kernelspec": {
   "display_name": "base",
   "language": "python",
   "name": "python3"
  },
  "language_info": {
   "codemirror_mode": {
    "name": "ipython",
    "version": 3
   },
   "file_extension": ".py",
   "mimetype": "text/x-python",
   "name": "python",
   "nbconvert_exporter": "python",
   "pygments_lexer": "ipython3",
   "version": "3.13.5"
  }
 },
 "nbformat": 4,
 "nbformat_minor": 5
}
