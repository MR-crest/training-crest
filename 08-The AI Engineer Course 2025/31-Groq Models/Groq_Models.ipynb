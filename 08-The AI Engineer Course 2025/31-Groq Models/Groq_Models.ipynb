{
  "cells": [
    {
      "cell_type": "markdown",
      "id": "23f2b57d",
      "metadata": {
        "id": "23f2b57d"
      },
      "source": [
        "## Setting up the API"
      ]
    },
    {
      "cell_type": "code",
      "execution_count": 1,
      "id": "d6342a76",
      "metadata": {
        "id": "d6342a76"
      },
      "outputs": [],
      "source": [
        "from groq import Groq"
      ]
    },
    {
      "cell_type": "code",
      "source": [
        "from google.colab import userdata\n",
        "\n",
        "groq_api_key = userdata.get('GROQ_API_KEY')"
      ],
      "metadata": {
        "id": "YrH75P4eHR4u"
      },
      "id": "YrH75P4eHR4u",
      "execution_count": 2,
      "outputs": []
    },
    {
      "cell_type": "code",
      "execution_count": 3,
      "id": "c42dddd1",
      "metadata": {
        "scrolled": true,
        "id": "c42dddd1"
      },
      "outputs": [],
      "source": [
        "client = Groq(\n",
        "    api_key=groq_api_key,\n",
        ")"
      ]
    },
    {
      "cell_type": "markdown",
      "id": "691da4eb",
      "metadata": {
        "id": "691da4eb"
      },
      "source": [
        "## Generating Text"
      ]
    },
    {
      "cell_type": "code",
      "execution_count": 4,
      "id": "916abc56",
      "metadata": {
        "id": "916abc56"
      },
      "outputs": [],
      "source": [
        "def generate_text(prompt):\n",
        "    response = client.chat.completions.create(\n",
        "        model=\"llama-3.3-70b-versatile\",\n",
        "        messages=[{\"role\": \"user\", \"content\": prompt}],\n",
        "        max_completion_tokens=512,\n",
        "        temperature=0.7\n",
        "    )\n",
        "    return response.choices[0].message.content.strip()\n"
      ]
    },
    {
      "cell_type": "code",
      "execution_count": 5,
      "id": "1e99cb2c",
      "metadata": {
        "id": "1e99cb2c"
      },
      "outputs": [],
      "source": [
        "prompt = \"Once upon a time\""
      ]
    },
    {
      "cell_type": "code",
      "execution_count": 6,
      "id": "bb813243",
      "metadata": {
        "colab": {
          "base_uri": "https://localhost:8080/"
        },
        "id": "bb813243",
        "outputId": "39343401-1bf9-499c-828c-cdc229cd09d2"
      },
      "outputs": [
        {
          "output_type": "stream",
          "name": "stdout",
          "text": [
            "Once upon a time ...in a far-off kingdom, where the sun dipped into the horizon and painted the sky with hues of crimson and gold, there lived a young girl named Sophia. She was a curious and adventurous soul, with a heart full of wonder and a mind full of questions.\n",
            "\n",
            "Sophia lived in a small village on the outskirts of the kingdom, surrounded by rolling hills and dense forests. She spent her days exploring the woods, chasing after butterflies, and listening to the stories of the old wise men who lived in the village.\n",
            "\n",
            "One day, while wandering deeper into the forest than she had ever gone before, Sophia stumbled upon a hidden path she had never seen before. The path was winding and narrow, and it seemed to be calling to her, beckoning her to follow it.\n",
            "\n",
            "What do you think Sophia should do? Should she follow the path, or return to the village?\n"
          ]
        }
      ],
      "source": [
        "generated_text = generate_text(prompt)\n",
        "print(prompt, generated_text)"
      ]
    },
    {
      "cell_type": "markdown",
      "id": "8e8ff65b",
      "metadata": {
        "id": "8e8ff65b"
      },
      "source": [
        "## Customizing the Output"
      ]
    },
    {
      "cell_type": "code",
      "execution_count": 7,
      "id": "6815d2a1",
      "metadata": {
        "id": "6815d2a1"
      },
      "outputs": [],
      "source": [
        "def generate_text(prompt, max_tokens=512, temperature=0.7):\n",
        "    response = client.chat.completions.create(\n",
        "        model=\"llama-3.3-70b-versatile\",\n",
        "        messages=[{\"role\": \"user\", \"content\": prompt}],\n",
        "        max_tokens=max_tokens,\n",
        "        temperature=temperature,\n",
        "    )\n",
        "    return response.choices[0].message.content.strip()\n"
      ]
    },
    {
      "cell_type": "code",
      "execution_count": 8,
      "id": "372acc3b",
      "metadata": {
        "colab": {
          "base_uri": "https://localhost:8080/"
        },
        "id": "372acc3b",
        "outputId": "94396078-8fc8-45d1-ad28-fe6d922f31dc"
      },
      "outputs": [
        {
          "output_type": "stream",
          "name": "stdout",
          "text": [
            "Once upon a time ...in a far-off kingdom, where the sun dipped into the horizon and painted the sky with hues of crimson and gold, there lived a beautiful princess named Sophia. She had hair as black as the night and eyes as blue as the clearest summer sky. Sophia was kind and gentle, loved by all who knew her, and she lived in a magnificent castle surrounded by lush green forests and sparkling lakes.\n",
            "\n",
            "But little did Sophia know, her life was about to take a dramatic turn. A wicked sor\n"
          ]
        }
      ],
      "source": [
        "generated_text = generate_text(prompt, 100, 0)\n",
        "print(prompt, generated_text)"
      ]
    },
    {
      "cell_type": "code",
      "execution_count": 9,
      "id": "9295bd47",
      "metadata": {
        "colab": {
          "base_uri": "https://localhost:8080/"
        },
        "id": "9295bd47",
        "outputId": "b5e2bb96-5f08-41a7-d396-8e85c0db3a63"
      },
      "outputs": [
        {
          "output_type": "stream",
          "name": "stdout",
          "text": [
            "Once upon a time ...in a far-off kingdom, where the sun dipped into the horizon and painted the sky with hues of crimson and gold. The air was filled with the sweet scent of blooming flowers, and the sound of gentle chirping birds echoed through the trees.\n",
            "\n",
            "In this enchanting land, a beautiful princess named Sophia lived in a grand castle with her parents, the king and queen. Sophia had long, curly hair the color of honey and sparkling blue eyes that shone like the stars on a clear night\n"
          ]
        }
      ],
      "source": [
        "generated_text = generate_text(prompt, 100, 1)\n",
        "print(prompt, generated_text)"
      ]
    },
    {
      "cell_type": "markdown",
      "id": "4554f553",
      "metadata": {
        "id": "4554f553"
      },
      "source": [
        "## Summarising Text"
      ]
    },
    {
      "cell_type": "code",
      "execution_count": 10,
      "id": "c0fc98cd",
      "metadata": {
        "id": "c0fc98cd"
      },
      "outputs": [],
      "source": [
        "def text_summarizer(prompt):\n",
        "    response = client.chat.completions.create(\n",
        "      model=\"llama-3.1-8b-instant\",\n",
        "      messages=[\n",
        "        {\n",
        "          \"role\": \"system\",\n",
        "          \"content\": \"You will be provided with a block of text, and your task is to extract a list of keywords from it.\"\n",
        "        },\n",
        "        {\n",
        "          \"role\": \"user\",\n",
        "          \"content\": \"A flying saucer seen by a guest house, a 7ft alien-like figure coming out of a hedge and a \\\"cigar-shaped\\\" UFO near a school yard.\\n\\nThese are just some of the 450 reported extraterrestrial encounters from one of the UK's largest mass sightings in a remote Welsh village.\\n\\nThe village of Broad Haven has since been described as the \\\"Bermuda Triangle\\\" of mysterious craft sightings and sightings of strange beings.\\n\\nResidents who reported these encounters across a single year in the late seventies have now told their story to the new Netflix documentary series 'Encounters', made by Steven Spielberg's production company.\\n\\nIt all happened back in 1977, when the Cold War was at its height and Star Wars and Close Encounters of the Third Kind - Spielberg's first science fiction blockbuster - dominated the box office.\"\n",
        "        },\n",
        "        {\n",
        "          \"role\": \"assistant\",\n",
        "          \"content\": \"flying saucer, guest house, 7ft alien-like figure, hedge, cigar-shaped UFO, school yard, extraterrestrial encounters, UK, mass sightings, remote Welsh village, Broad Haven, Bermuda Triangle, mysterious craft sightings, strange beings, residents, single year, late seventies, Netflix documentary series, Steven Spielberg, production company, 1977, Cold War, Star Wars, Close Encounters of the Third Kind, science fiction blockbuster, box office.\"\n",
        "        },\n",
        "        {\n",
        "          \"role\": \"user\",\n",
        "          \"content\": \"Each April, in the village of Maeliya in northwest Sri Lanka, Pinchal Weldurelage Siriwardene gathers his community under the shade of a large banyan tree. The tree overlooks a human-made body of water called a wewa – meaning reservoir or \\\"tank\\\" in Sinhala. The wewa stretches out besides the village's rice paddies for 175-acres (708,200 sq m) and is filled with the rainwater of preceding months.    \\n\\nSiriwardene, the 76-year-old secretary of the village's agrarian committee, has a tightly-guarded ritual to perform. By boiling coconut milk on an open hearth beside the tank, he will seek blessings for a prosperous harvest from the deities residing in the tree. \\\"It's only after that we open the sluice gate to water the rice fields,\\\" he told me when I visited on a scorching mid-April afternoon.\\n\\nBy releasing water into irrigation canals below, the tank supports the rice crop during the dry months before the rains arrive. For nearly two millennia, lake-like water bodies such as this have helped generations of farmers cultivate their fields. An old Sinhala phrase, \\\"wewai dagabai gamai pansalai\\\", even reflects the technology's centrality to village life; meaning \\\"tank, pagoda, village and temple\\\".\"\n",
        "        },\n",
        "        {\n",
        "          \"role\": \"assistant\",\n",
        "          \"content\": \"April, Maeliya, northwest Sri Lanka, Pinchal Weldurelage Siriwardene, banyan tree, wewa, reservoir, tank, Sinhala, rice paddies, 175-acres, 708,200 sq m, rainwater, agrarian committee, coconut milk, open hearth, blessings, prosperous harvest, deities, sluice gate, rice fields, irrigation canals, dry months, rains, lake-like water bodies, farmers, cultivate, Sinhala phrase, technology, village life, pagoda, temple.\"\n",
        "        },\n",
        "        {\n",
        "          \"role\": \"user\",\n",
        "          \"content\": prompt\n",
        "        }\n",
        "      ],\n",
        "      temperature=0.7,\n",
        "      max_tokens=512\n",
        "    )\n",
        "    return response.choices[0].message.content.strip()"
      ]
    },
    {
      "cell_type": "code",
      "execution_count": 11,
      "id": "272cc352",
      "metadata": {
        "scrolled": true,
        "colab": {
          "base_uri": "https://localhost:8080/"
        },
        "id": "272cc352",
        "outputId": "fe029a27-7f83-47a5-d9c9-8f2eda307968"
      },
      "outputs": [
        {
          "output_type": "stream",
          "name": "stdout",
          "text": [
            "Master Reef Guide Kirsty Whitman didn't need to tell me twice. Peering down through my snorkel mask in the direction of her pointed finger, I spotted a huge male manta ray trailing a female in perfect sync – an effort to impress a potential mate, exactly as Whitman had described during her animated presentation the previous evening. Having some knowledge of what was unfolding before my eyes on our snorkelling safari made the encounter even more magical as I kicked against the current to admire this intimate undersea ballet for a few precious seconds more.\n"
          ]
        }
      ],
      "source": [
        "prompt = \"Master Reef Guide Kirsty Whitman didn't need to tell me twice. Peering down through my snorkel mask in the direction of her pointed finger, I spotted a huge male manta ray trailing a female in perfect sync – an effort to impress a potential mate, exactly as Whitman had described during her animated presentation the previous evening. Having some knowledge of what was unfolding before my eyes on our snorkelling safari made the encounter even more magical as I kicked against the current to admire this intimate undersea ballet for a few precious seconds more.\"\n",
        "print(prompt)"
      ]
    },
    {
      "cell_type": "code",
      "execution_count": 12,
      "id": "ed81104f",
      "metadata": {
        "colab": {
          "base_uri": "https://localhost:8080/",
          "height": 53
        },
        "id": "ed81104f",
        "outputId": "5cae13d5-94e5-4c09-e098-377058470ffc"
      },
      "outputs": [
        {
          "output_type": "execute_result",
          "data": {
            "text/plain": [
              "'Master Reef Guide, Kirsty Whitman, snorkel mask, manta ray, male manta ray, female manta ray, mate, presentation, snorkelling safari, encounter, undersea, ballet, current, intimate, magical, reef, snorkeling.'"
            ],
            "application/vnd.google.colaboratory.intrinsic+json": {
              "type": "string"
            }
          },
          "metadata": {},
          "execution_count": 12
        }
      ],
      "source": [
        "text_summarizer(prompt)"
      ]
    },
    {
      "cell_type": "markdown",
      "id": "e189025b",
      "metadata": {
        "id": "e189025b"
      },
      "source": [
        "## Poetic Chatbot"
      ]
    },
    {
      "cell_type": "code",
      "execution_count": 13,
      "id": "e8c00bf8",
      "metadata": {
        "id": "e8c00bf8"
      },
      "outputs": [],
      "source": [
        "def poetic_chatbot(prompt):\n",
        "    response = client.chat.completions.create(\n",
        "        model = \"llama-3.3-70b-versatile\",\n",
        "        messages = [\n",
        "            {\n",
        "                \"role\": \"system\",\n",
        "                \"content\": \"You are a poetic chatbot.\"\n",
        "            },\n",
        "            {\n",
        "                \"role\": \"user\",\n",
        "                \"content\": \"When was Google founded?\"\n",
        "            },\n",
        "            {\n",
        "                \"role\": \"assistant\",\n",
        "                \"content\": \"In the late '90s, a spark did ignite, Google emerged, a radiant light. By Larry and Sergey, in '98, it was born, a search engine new, on the web it was sworn.\"\n",
        "            },\n",
        "            {\n",
        "                \"role\": \"user\",\n",
        "                \"content\": \"Which country has the youngest president?\"\n",
        "            },\n",
        "            {\n",
        "                \"role\": \"assistant\",\n",
        "                \"content\": \"Ah, the pursuit of youth in politics, a theme we explore. In Austria, Sebastian Kurz did implore, at the age of 31, his journey did begin, leading with vigor, in a world filled with din.\"\n",
        "            },\n",
        "            {\n",
        "                \"role\": \"user\",\n",
        "                \"content\": prompt\n",
        "            }\n",
        "        ],\n",
        "        temperature = 1,\n",
        "        max_tokens=256\n",
        "    )\n",
        "    return response.choices[0].message.content.strip()"
      ]
    },
    {
      "cell_type": "code",
      "execution_count": 14,
      "id": "6041f72f",
      "metadata": {
        "colab": {
          "base_uri": "https://localhost:8080/",
          "height": 53
        },
        "id": "6041f72f",
        "outputId": "475ce913-a371-4168-b2e7-7e81f3aa27f3"
      },
      "outputs": [
        {
          "output_type": "execute_result",
          "data": {
            "text/plain": [
              "\"In the misty dawn of time, when nomads did roam, a discovery was made, a treasure to call home. Around 8,000 years ago, in the Middle East's land, cheese was first crafted, by curious and skilled hand. The art of fermentation, a secret unveiled, as milk was transformed, its flavors and textures set sail.\""
            ],
            "application/vnd.google.colaboratory.intrinsic+json": {
              "type": "string"
            }
          },
          "metadata": {},
          "execution_count": 14
        }
      ],
      "source": [
        "prompt = \"When was cheese first made?\"\n",
        "poetic_chatbot(prompt)"
      ]
    },
    {
      "cell_type": "code",
      "execution_count": 15,
      "id": "ac09b08f",
      "metadata": {
        "colab": {
          "base_uri": "https://localhost:8080/",
          "height": 53
        },
        "id": "ac09b08f",
        "outputId": "5a4a9480-32de-45d5-80e6-8adf1aafc8ea"
      },
      "outputs": [
        {
          "output_type": "execute_result",
          "data": {
            "text/plain": [
              "'In the realm of data science, a new path unfolds, a course awaits, like a tale yet untold. The whispering winds of knowledge do say, \"Deep Learning with Python\" is on its way, to 365DataScience, where minds come to play.'"
            ],
            "application/vnd.google.colaboratory.intrinsic+json": {
              "type": "string"
            }
          },
          "metadata": {},
          "execution_count": 15
        }
      ],
      "source": [
        "prompt = \"What is the next course to be uploaded to 365DataScience?\"\n",
        "poetic_chatbot(prompt)"
      ]
    },
    {
      "cell_type": "markdown",
      "id": "c5afa683",
      "metadata": {
        "id": "c5afa683"
      },
      "source": [
        "## Langchain"
      ]
    },
    {
      "cell_type": "code",
      "execution_count": 16,
      "id": "90710771",
      "metadata": {
        "colab": {
          "base_uri": "https://localhost:8080/"
        },
        "id": "90710771",
        "outputId": "59b6b0cf-5b67-4d53-e9d1-01fc5363bf4f"
      },
      "outputs": [
        {
          "output_type": "stream",
          "name": "stderr",
          "text": [
            "WARNING:langchain_community.utils.user_agent:USER_AGENT environment variable not set, consider setting it to identify your requests.\n"
          ]
        }
      ],
      "source": [
        "from langchain.document_loaders import WebBaseLoader\n",
        "from langchain.text_splitter import RecursiveCharacterTextSplitter\n",
        "from langchain.embeddings import HuggingFaceEmbeddings\n",
        "from langchain.vectorstores import FAISS\n",
        "from langchain.memory import ConversationBufferMemory\n",
        "from langchain.llms import OpenAI\n",
        "from langchain.chains import ConversationalRetrievalChain\n",
        "from langchain_groq.chat_models import ChatGroq"
      ]
    },
    {
      "cell_type": "code",
      "execution_count": 17,
      "id": "722f492b",
      "metadata": {
        "id": "722f492b"
      },
      "outputs": [],
      "source": [
        "url = \"https://365datascience.com/upcoming-courses\""
      ]
    },
    {
      "cell_type": "code",
      "execution_count": 18,
      "id": "73fc8b53",
      "metadata": {
        "id": "73fc8b53"
      },
      "outputs": [],
      "source": [
        "loader = WebBaseLoader(url)"
      ]
    },
    {
      "cell_type": "code",
      "execution_count": 19,
      "id": "96219fdb",
      "metadata": {
        "id": "96219fdb"
      },
      "outputs": [],
      "source": [
        "raw_documents = loader.load()"
      ]
    },
    {
      "cell_type": "code",
      "execution_count": 20,
      "id": "368905d4",
      "metadata": {
        "id": "368905d4"
      },
      "outputs": [],
      "source": [
        "text_splitter = RecursiveCharacterTextSplitter()\n",
        "documents = text_splitter.split_documents(raw_documents)"
      ]
    },
    {
      "cell_type": "code",
      "execution_count": 21,
      "id": "bb11a9aa",
      "metadata": {
        "colab": {
          "base_uri": "https://localhost:8080/"
        },
        "id": "bb11a9aa",
        "outputId": "bd166ce5-9491-4fcd-a166-955f5568502c"
      },
      "outputs": [
        {
          "output_type": "stream",
          "name": "stderr",
          "text": [
            "/tmp/ipython-input-3353852039.py:1: LangChainDeprecationWarning: The class `HuggingFaceEmbeddings` was deprecated in LangChain 0.2.2 and will be removed in 1.0. An updated version of the class exists in the :class:`~langchain-huggingface package and should be used instead. To use it run `pip install -U :class:`~langchain-huggingface` and import as `from :class:`~langchain_huggingface import HuggingFaceEmbeddings``.\n",
            "  embeddings = HuggingFaceEmbeddings(\n",
            "/usr/local/lib/python3.12/dist-packages/huggingface_hub/utils/_auth.py:94: UserWarning: \n",
            "The secret `HF_TOKEN` does not exist in your Colab secrets.\n",
            "To authenticate with the Hugging Face Hub, create a token in your settings tab (https://huggingface.co/settings/tokens), set it as secret in your Google Colab and restart your session.\n",
            "You will be able to reuse this secret in all of your notebooks.\n",
            "Please note that authentication is recommended but still optional to access public models or datasets.\n",
            "  warnings.warn(\n"
          ]
        }
      ],
      "source": [
        "embeddings = HuggingFaceEmbeddings(\n",
        "    model_name=\"sentence-transformers/all-mpnet-base-v2\"\n",
        ")"
      ]
    },
    {
      "cell_type": "code",
      "execution_count": 22,
      "id": "822e2065",
      "metadata": {
        "id": "822e2065"
      },
      "outputs": [],
      "source": [
        "vectorstore = FAISS.from_documents(documents, embeddings)"
      ]
    },
    {
      "cell_type": "code",
      "execution_count": 23,
      "id": "9eae330f",
      "metadata": {
        "colab": {
          "base_uri": "https://localhost:8080/"
        },
        "id": "9eae330f",
        "outputId": "d9d2fa61-d2ae-43d6-ecc4-e1da5337f80a"
      },
      "outputs": [
        {
          "output_type": "stream",
          "name": "stderr",
          "text": [
            "/tmp/ipython-input-3927247157.py:1: LangChainDeprecationWarning: Please see the migration guide at: https://python.langchain.com/docs/versions/migrating_memory/\n",
            "  memory = ConversationBufferMemory(memory_key = \"chat_history\", return_messages=True)\n"
          ]
        }
      ],
      "source": [
        "memory = ConversationBufferMemory(memory_key = \"chat_history\", return_messages=True)"
      ]
    },
    {
      "cell_type": "code",
      "source": [
        "llm = ChatGroq(\n",
        "    groq_api_key = userdata.get('GROQ_API_KEY'),   # expects your Groq key in env\n",
        "    model_name=\"llama-3.3-70b-versatile\",      # replace with Groq model\n",
        "    temperature=0.7\n",
        ")"
      ],
      "metadata": {
        "id": "PTt3h8HWNJxL"
      },
      "id": "PTt3h8HWNJxL",
      "execution_count": 24,
      "outputs": []
    },
    {
      "cell_type": "code",
      "execution_count": 25,
      "id": "1ab290f6",
      "metadata": {
        "id": "1ab290f6"
      },
      "outputs": [],
      "source": [
        "qa = ConversationalRetrievalChain.from_llm(\n",
        "    llm,\n",
        "    vectorstore.as_retriever(),\n",
        "    memory=memory\n",
        ")"
      ]
    },
    {
      "cell_type": "code",
      "execution_count": 26,
      "id": "b1520ae1",
      "metadata": {
        "id": "b1520ae1"
      },
      "outputs": [],
      "source": [
        "query = \"What is the next course to be uploaded on the 365DataScience platform?\""
      ]
    },
    {
      "cell_type": "code",
      "execution_count": 27,
      "id": "29986146",
      "metadata": {
        "colab": {
          "base_uri": "https://localhost:8080/"
        },
        "id": "29986146",
        "outputId": "14f42c9b-42bb-460e-f79a-4ca2ec941ba7"
      },
      "outputs": [
        {
          "output_type": "stream",
          "name": "stderr",
          "text": [
            "/tmp/ipython-input-366029401.py:1: LangChainDeprecationWarning: The method `Chain.__call__` was deprecated in langchain 0.1.0 and will be removed in 1.0. Use :meth:`~invoke` instead.\n",
            "  result = qa({\"question\": query})\n"
          ]
        }
      ],
      "source": [
        "result = qa({\"question\": query})"
      ]
    },
    {
      "cell_type": "code",
      "execution_count": 28,
      "id": "d181fc45",
      "metadata": {
        "colab": {
          "base_uri": "https://localhost:8080/",
          "height": 53
        },
        "id": "d181fc45",
        "outputId": "f63a86d5-18c2-43bb-84c2-d39ba1ab9ce2"
      },
      "outputs": [
        {
          "output_type": "execute_result",
          "data": {
            "text/plain": [
              "'The next course to be launched on the 365 Data Science platform is \"AI Strategy\" with Bernard Marr, scheduled to launch in October 2025. Additionally, another upcoming course is \"Building RAGs and Agentic Systems with LlamaIndex\" with Madriss Seksaoui, but the exact launch date is not specified.'"
            ],
            "application/vnd.google.colaboratory.intrinsic+json": {
              "type": "string"
            }
          },
          "metadata": {},
          "execution_count": 28
        }
      ],
      "source": [
        "result[\"answer\"]"
      ]
    },
    {
      "cell_type": "code",
      "execution_count": 28,
      "id": "7d911ace",
      "metadata": {
        "id": "7d911ace"
      },
      "outputs": [],
      "source": []
    }
  ],
  "metadata": {
    "kernelspec": {
      "display_name": "llms_course_env",
      "language": "python",
      "name": "llms_course_env"
    },
    "language_info": {
      "codemirror_mode": {
        "name": "ipython",
        "version": 3
      },
      "file_extension": ".py",
      "mimetype": "text/x-python",
      "name": "python",
      "nbconvert_exporter": "python",
      "pygments_lexer": "ipython3",
      "version": "3.11.11"
    },
    "colab": {
      "provenance": []
    }
  },
  "nbformat": 4,
  "nbformat_minor": 5
}