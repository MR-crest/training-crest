{
 "cells": [
  {
   "cell_type": "markdown",
   "id": "64e0b0dd",
   "metadata": {},
   "source": [
    "# Task: Count the Frequency of Matrix Row Length\n",
    "\n",
    "## Problem Statement:\n",
    "Given a matrix (list of lists), the task is to write a Python program to count the frequency of the lengths of its rows.\n",
    "\n",
    "### Steps:\n",
    "1. Iterate through each row of the matrix and record its length.\n",
    "2. Use a dictionary or collections module to count how many times each row length appears.\n",
    "3. Return the frequency count as a mapping of row length to its occurrence.\n"
   ]
  }
 ],
 "metadata": {
  "language_info": {
   "name": "python"
  }
 },
 "nbformat": 4,
 "nbformat_minor": 5
}
