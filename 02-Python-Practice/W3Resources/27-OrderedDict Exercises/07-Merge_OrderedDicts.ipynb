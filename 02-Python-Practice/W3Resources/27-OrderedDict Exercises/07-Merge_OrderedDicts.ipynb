{
 "cells": [
  {
   "cell_type": "markdown",
   "id": "d09a7768",
   "metadata": {},
   "source": [
    "# Task: Merge OrderedDicts\n",
    "\n",
    "## Problem Statement\n",
    "Write a Python function that merges two `OrderedDict` objects.  \n",
    "If both dictionaries contain the same key, their values should be **summed** in the merged result.  \n",
    "Finally, print the resulting merged `OrderedDict`.\n",
    "\n",
    "## Steps\n",
    "1. Import `OrderedDict` from the `collections` module.\n",
    "2. Define two `OrderedDict` objects with some overlapping keys.\n",
    "3. Iterate through the second `OrderedDict`:\n",
    "   - If the key exists in the first, **add** the value to the existing one.\n",
    "   - Otherwise, **add the new key-value** pair to the first dictionary.\n",
    "4. Print the updated `OrderedDict` as the merged result.\n"
   ]
  },
  {
   "cell_type": "code",
   "execution_count": 1,
   "id": "549c2db4",
   "metadata": {},
   "outputs": [],
   "source": [
    "from collections import OrderedDict"
   ]
  },
  {
   "cell_type": "code",
   "execution_count": 2,
   "id": "393520fc",
   "metadata": {},
   "outputs": [],
   "source": [
    "def merge_ordered_dicts(dict1, dict2):\n",
    "    merged_dict = OrderedDict()\n",
    "\n",
    "    for key, value in dict1.items():\n",
    "        if key in merged_dict:\n",
    "            merged_dict[key] += value\n",
    "        else:\n",
    "            merged_dict[key] = value\n",
    "\n",
    "    for key, value in dict2.items():\n",
    "        if key in merged_dict:\n",
    "            merged_dict[key] += value\n",
    "        else:\n",
    "            merged_dict[key] = value\n",
    "\n",
    "    return merged_dict"
   ]
  },
  {
   "cell_type": "code",
   "execution_count": 3,
   "id": "2a12da93",
   "metadata": {},
   "outputs": [],
   "source": [
    "ordered_dict1 = OrderedDict([\n",
    "    ('Laptop', 40),\n",
    "    ('Desktop', 45),\n",
    "    ('Mobile', 35)\n",
    "])"
   ]
  },
  {
   "cell_type": "code",
   "execution_count": 4,
   "id": "7c431678",
   "metadata": {},
   "outputs": [
    {
     "name": "stdout",
     "output_type": "stream",
     "text": [
      "\n",
      "OrderedDict-1: OrderedDict({'Laptop': 40, 'Desktop': 45, 'Mobile': 35})\n"
     ]
    }
   ],
   "source": [
    "print(\"\\nOrderedDict-1:\",ordered_dict1)"
   ]
  },
  {
   "cell_type": "code",
   "execution_count": 5,
   "id": "d8b29978",
   "metadata": {},
   "outputs": [],
   "source": [
    "ordered_dict2 = OrderedDict([\n",
    "    ('Laptop', 40),\n",
    "    ('Charger', 25)\n",
    "])"
   ]
  },
  {
   "cell_type": "code",
   "execution_count": 6,
   "id": "72fde046",
   "metadata": {},
   "outputs": [
    {
     "name": "stdout",
     "output_type": "stream",
     "text": [
      "\n",
      "OrderedDict-2: OrderedDict({'Laptop': 40, 'Charger': 25})\n"
     ]
    }
   ],
   "source": [
    "print(\"\\nOrderedDict-2:\",ordered_dict2)"
   ]
  },
  {
   "cell_type": "code",
   "execution_count": 7,
   "id": "565649de",
   "metadata": {},
   "outputs": [
    {
     "name": "stdout",
     "output_type": "stream",
     "text": [
      "\n",
      "Merged Dictionary:  OrderedDict({'Laptop': 80, 'Desktop': 45, 'Mobile': 35, 'Charger': 25})\n"
     ]
    }
   ],
   "source": [
    "merged_ordered_dict = merge_ordered_dicts(ordered_dict1, ordered_dict2)\n",
    "print(\"\\nMerged Dictionary: \",merged_ordered_dict)"
   ]
  }
 ],
 "metadata": {
  "kernelspec": {
   "display_name": "base",
   "language": "python",
   "name": "python3"
  },
  "language_info": {
   "codemirror_mode": {
    "name": "ipython",
    "version": 3
   },
   "file_extension": ".py",
   "mimetype": "text/x-python",
   "name": "python",
   "nbconvert_exporter": "python",
   "pygments_lexer": "ipython3",
   "version": "3.13.5"
  }
 },
 "nbformat": 4,
 "nbformat_minor": 5
}
