{
 "cells": [
  {
   "cell_type": "code",
   "execution_count": 1,
   "id": "cc8504c5-19ee-44d2-b48c-a87ec003db6d",
   "metadata": {},
   "outputs": [
    {
     "name": "stdout",
     "output_type": "stream",
     "text": [
      "Yestraday:  2025-09-23\n",
      "Today:  2025-09-24\n",
      "Tomorrow:  2025-09-25\n"
     ]
    }
   ],
   "source": [
    "import numpy as np\n",
    "\n",
    "yesterday = np.datetime64('today', 'D') - np.timedelta64(1, 'D')\n",
    "print(\"Yestraday: \", yesterday)\n",
    "\n",
    "today = np.datetime64('today', 'D')\n",
    "print(\"Today: \", today)\n",
    "\n",
    "tomorrow = np.datetime64('today', 'D') + np.timedelta64(1, 'D')\n",
    "print(\"Tomorrow: \", tomorrow) "
   ]
  },
  {
   "cell_type": "code",
   "execution_count": 4,
   "id": "76dac636-4a70-4134-a321-76bd1b40b7eb",
   "metadata": {},
   "outputs": [
    {
     "name": "stdout",
     "output_type": "stream",
     "text": [
      "Original Array:\n",
      "['Python' 'PHP' 'Java' 'C++']\n",
      "New array:\n",
      "['PythonPythonPython' 'PHPPHPPHP' 'JavaJavaJava' 'C++C++C++']\n"
     ]
    }
   ],
   "source": [
    "import numpy as np\n",
    "\n",
    "x1 = np.array(['Python', 'PHP', 'Java', 'C++'], dtype=str)  # ✅ use dtype=str\n",
    "\n",
    "print(\"Original Array:\")\n",
    "print(x1)\n",
    "\n",
    "new_array = np.char.multiply(x1, 3)  # Repeat each string 3 times\n",
    "print(\"New array:\")\n",
    "print(new_array)\n"
   ]
  },
  {
   "cell_type": "code",
   "execution_count": null,
   "id": "6bc20e4a-93c8-4b9e-a293-7bb79ad14870",
   "metadata": {},
   "outputs": [],
   "source": []
  }
 ],
 "metadata": {
  "kernelspec": {
   "display_name": "Python 3 (ipykernel)",
   "language": "python",
   "name": "python3"
  },
  "language_info": {
   "codemirror_mode": {
    "name": "ipython",
    "version": 3
   },
   "file_extension": ".py",
   "mimetype": "text/x-python",
   "name": "python",
   "nbconvert_exporter": "python",
   "pygments_lexer": "ipython3",
   "version": "3.13.5"
  }
 },
 "nbformat": 4,
 "nbformat_minor": 5
}
