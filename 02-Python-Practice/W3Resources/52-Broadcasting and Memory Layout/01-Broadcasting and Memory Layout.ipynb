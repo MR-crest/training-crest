{
 "cells": [
  {
   "cell_type": "code",
   "execution_count": 1,
   "id": "8d77a3a3-fbe1-4a36-908f-f5d79693edd3",
   "metadata": {},
   "outputs": [
    {
     "name": "stdout",
     "output_type": "stream",
     "text": [
      "[[ 2  8 14]\n",
      " [ 3  9 15]\n",
      " [ 4 10 16]\n",
      " [ 5 11 17]\n",
      " [ 6 12 18]]\n"
     ]
    }
   ],
   "source": [
    "import numpy as np\n",
    "\n",
    "array_2d = np.array([[1, 2, 3, 4, 5],\n",
    "                     [6, 7, 8, 9, 10],\n",
    "                     [11, 12, 13, 14, 15]])\n",
    "\n",
    "array_1d = np.array([1, 2, 3])\n",
    "\n",
    "transposed_array = np.transpose(array_2d)\n",
    "\n",
    "result_array = transposed_array + array_1d\n",
    "\n",
    "print(result_array)"
   ]
  },
  {
   "cell_type": "code",
   "execution_count": 2,
   "id": "44637ce7-ba93-45fe-ba00-5a5a3037424a",
   "metadata": {},
   "outputs": [
    {
     "name": "stdout",
     "output_type": "stream",
     "text": [
      "[ 1  2  3  4  5  6  7  8  9 10 11 12 13 14 15 16 17 18 19 20 21 22 23 24\n",
      " 25 26 27]\n"
     ]
    }
   ],
   "source": [
    "import numpy as np\n",
    "array_3d = np.array([[[1, 2, 3],\n",
    "                      [4, 5, 6],\n",
    "                      [7, 8, 9]],\n",
    "                     \n",
    "                     [[10, 11, 12],\n",
    "                      [13, 14, 15],\n",
    "                      [16, 17, 18]],\n",
    "                     \n",
    "                     [[19, 20, 21],\n",
    "                      [22, 23, 24],\n",
    "                      [25, 26, 27]]])\n",
    "\n",
    "flattened_array = array_3d.ravel()\n",
    "\n",
    "print(flattened_array)"
   ]
  },
  {
   "cell_type": "code",
   "execution_count": null,
   "id": "6159afb3-1ee5-4ff8-a870-aef006e0dff0",
   "metadata": {},
   "outputs": [],
   "source": []
  }
 ],
 "metadata": {
  "kernelspec": {
   "display_name": "Python 3 (ipykernel)",
   "language": "python",
   "name": "python3"
  },
  "language_info": {
   "codemirror_mode": {
    "name": "ipython",
    "version": 3
   },
   "file_extension": ".py",
   "mimetype": "text/x-python",
   "name": "python",
   "nbconvert_exporter": "python",
   "pygments_lexer": "ipython3",
   "version": "3.13.5"
  }
 },
 "nbformat": 4,
 "nbformat_minor": 5
}
