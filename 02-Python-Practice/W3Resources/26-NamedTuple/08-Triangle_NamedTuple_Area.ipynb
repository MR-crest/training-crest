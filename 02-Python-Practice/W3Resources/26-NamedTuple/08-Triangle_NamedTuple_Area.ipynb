{
 "cells": [
  {
   "cell_type": "markdown",
   "id": "ec9d3bf6",
   "metadata": {},
   "source": [
    "# Task: Triangle NamedTuple Area\n",
    "\n",
    "## Problem Statement\n",
    "Write a Python program that defines a `NamedTuple` called **Triangle** with fields: `'side1'`, `'side2'`, and `'side3'`.  \n",
    "Then implement a function that accepts a `Triangle` NamedTuple as input and calculates its area using **Heron’s formula**.\n",
    "\n",
    "## Steps\n",
    "1. Import `NamedTuple` from the `typing` module.\n",
    "2. Define a `Triangle` NamedTuple with three side attributes.\n",
    "3. Create a function that:\n",
    "   - Accepts a `Triangle` instance.\n",
    "   - Calculates the semi-perimeter using \\( s = \\frac{a + b + c}{2} \\).\n",
    "   - Applies Heron’s formula:  \n",
    "     \\[ \\text{area} = \\sqrt{s(s-a)(s-b)(s-c)} \\]\n",
    "4. Return or print the computed area.\n"
   ]
  },
  {
   "cell_type": "code",
   "execution_count": 1,
   "id": "4afcb668",
   "metadata": {},
   "outputs": [],
   "source": [
    "from collections import namedtuple\n",
    "import math"
   ]
  },
  {
   "cell_type": "code",
   "execution_count": 2,
   "id": "2c79fbad",
   "metadata": {},
   "outputs": [],
   "source": [
    "Triangle = namedtuple('Triangle', ['a', 'b', 'c'])"
   ]
  },
  {
   "cell_type": "code",
   "execution_count": 3,
   "id": "f1dd48b3",
   "metadata": {},
   "outputs": [],
   "source": [
    "def triangle_area(triangle):\n",
    "    print(\"Sides of the triangle:\",triangle.a,triangle.b,triangle.c)\n",
    "    s = (triangle.a + triangle.b + triangle.c) / 2\n",
    "    \n",
    "    area = math.sqrt(s * (s - triangle.a) * (s - triangle.b) * (s - triangle.c))\n",
    "    return area"
   ]
  },
  {
   "cell_type": "code",
   "execution_count": 4,
   "id": "62818d5e",
   "metadata": {},
   "outputs": [],
   "source": [
    "triangle_instance = Triangle(a=4, b=5, c=7)"
   ]
  },
  {
   "cell_type": "code",
   "execution_count": 5,
   "id": "6a8fe184",
   "metadata": {},
   "outputs": [
    {
     "name": "stdout",
     "output_type": "stream",
     "text": [
      "Sides of the triangle: 4 5 7\n",
      "Triangle Area: 9.797958971132712\n"
     ]
    }
   ],
   "source": [
    "area = triangle_area(triangle_instance)\n",
    "print(\"Triangle Area:\", area)"
   ]
  }
 ],
 "metadata": {
  "kernelspec": {
   "display_name": "base",
   "language": "python",
   "name": "python3"
  },
  "language_info": {
   "codemirror_mode": {
    "name": "ipython",
    "version": 3
   },
   "file_extension": ".py",
   "mimetype": "text/x-python",
   "name": "python",
   "nbconvert_exporter": "python",
   "pygments_lexer": "ipython3",
   "version": "3.13.5"
  }
 },
 "nbformat": 4,
 "nbformat_minor": 5
}
