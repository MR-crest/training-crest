{
 "cells": [
  {
   "cell_type": "code",
   "execution_count": 3,
   "id": "4f72d5c1-ddfd-420c-9fed-b5f2667659dc",
   "metadata": {},
   "outputs": [
    {
     "name": "stdout",
     "output_type": "stream",
     "text": [
      "15 random numbers from a standard normal distribution:\n",
      "[ 0.08340595  0.62917035  1.03913507 -0.75029984  0.14175947  0.81512745\n",
      " -0.74676318 -0.55845119  0.79380802  0.20965476 -0.56374815 -0.58820951\n",
      "  0.44200997 -0.95039539  0.11224036]\n"
     ]
    }
   ],
   "source": [
    "import numpy as np\n",
    "\n",
    "rand_num = np.random.normal(0, 1, 15)\n",
    "\n",
    "print(\"15 random numbers from a standard normal distribution:\")\n",
    "\n",
    "print(rand_num) "
   ]
  },
  {
   "cell_type": "code",
   "execution_count": 4,
   "id": "476ab50c-f9c9-4437-b14c-26efb66e42a7",
   "metadata": {},
   "outputs": [
    {
     "name": "stdout",
     "output_type": "stream",
     "text": [
      "3x3 matrix:\n",
      "[[1. 0. 0.]\n",
      " [0. 1. 0.]\n",
      " [0. 0. 1.]]\n"
     ]
    }
   ],
   "source": [
    "import numpy as np\n",
    "\n",
    "array_2D = np.identity(3)\n",
    "\n",
    "print('3x3 matrix:')\n",
    "\n",
    "print(array_2D) "
   ]
  },
  {
   "cell_type": "code",
   "execution_count": 2,
   "id": "f45aaf84-08ce-4429-8dea-f7602df946f5",
   "metadata": {},
   "outputs": [
    {
     "name": "stdout",
     "output_type": "stream",
     "text": [
      "Original array\n",
      "[1, 2, 3, 4]\n",
      "Repeating 2 times\n",
      "[1 2 3 4 1 2 3 4]\n",
      "Repeating 3 times\n",
      "[1 2 3 4 1 2 3 4 1 2 3 4]\n"
     ]
    }
   ],
   "source": [
    "import numpy as np\n",
    "\n",
    "a = [1, 2, 3, 4]\n",
    "print(\"Original array\")\n",
    "print(a)\n",
    "\n",
    "print(\"Repeating 2 times\")\n",
    "x = np.tile(a, 2)\n",
    "print(x)\n",
    "\n",
    "print(\"Repeating 3 times\")\n",
    "x = np.tile(a, 3)\n",
    "print(x)"
   ]
  },
  {
   "cell_type": "code",
   "execution_count": null,
   "id": "984bd5fb-2590-4baa-adce-690df17d2bb9",
   "metadata": {},
   "outputs": [],
   "source": []
  }
 ],
 "metadata": {
  "kernelspec": {
   "display_name": "Python 3 (ipykernel)",
   "language": "python",
   "name": "python3"
  },
  "language_info": {
   "codemirror_mode": {
    "name": "ipython",
    "version": 3
   },
   "file_extension": ".py",
   "mimetype": "text/x-python",
   "name": "python",
   "nbconvert_exporter": "python",
   "pygments_lexer": "ipython3",
   "version": "3.13.5"
  }
 },
 "nbformat": 4,
 "nbformat_minor": 5
}
