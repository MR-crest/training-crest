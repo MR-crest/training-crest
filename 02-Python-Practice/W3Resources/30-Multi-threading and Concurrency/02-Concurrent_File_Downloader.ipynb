{
 "cells": [
  {
   "cell_type": "markdown",
   "id": "662f19ef",
   "metadata": {},
   "source": [
    "# Task: Concurrent File Downloader\n",
    "\n",
    "## Problem Statement\n",
    "Write a Python program to download multiple files concurrently using threads. This program will allow you to download files from different URLs in parallel, improving download efficiency.\n",
    "\n",
    "## Steps\n",
    "1. **Define a function `download_file(url, filename)`**:\n",
    "   - This function will take a URL and a filename, download the file from the URL, and save it locally using `urllib.request.urlretrieve()`.\n",
    "   \n",
    "2. **Create a list of files to download**:\n",
    "   - Each file will have a dictionary with a URL and a filename.\n",
    "\n",
    "3. **Create and start threads**:\n",
    "   - For each file in the list, create a separate thread to download the file concurrently.\n",
    "   - Append each thread to a list to keep track of them.\n",
    "\n",
    "4. **Wait for all threads to complete**:\n",
    "   - Use `thread.join()` to wait for all threads to finish downloading before the program terminates.\n"
   ]
  },
  {
   "cell_type": "code",
   "execution_count": 1,
   "id": "c6a242cc",
   "metadata": {},
   "outputs": [],
   "source": [
    "import threading\n",
    "import urllib.request\n",
    "import os"
   ]
  },
  {
   "cell_type": "code",
   "execution_count": 2,
   "id": "c2f9744c",
   "metadata": {},
   "outputs": [],
   "source": [
    "def download_file(url, filename):\n",
    "    directory = os.path.dirname(filename)\n",
    "    if not os.path.exists(directory) and directory != '':\n",
    "        os.makedirs(directory)\n",
    "    \n",
    "    print(f\"\\nDownloading {filename} from {url}...\")\n",
    "    urllib.request.urlretrieve(url, filename)\n",
    "    print(f\"\\n{filename} downloaded successfully.\")"
   ]
  },
  {
   "cell_type": "code",
   "execution_count": 3,
   "id": "2eee57fc",
   "metadata": {},
   "outputs": [],
   "source": [
    "cwd = os.getcwd()"
   ]
  },
  {
   "cell_type": "code",
   "execution_count": 4,
   "id": "3243b685",
   "metadata": {},
   "outputs": [],
   "source": [
    "files_to_download = [\n",
    "    {\"url\": \"https://en.wikipedia.org/wiki/British_logistics_in_the_Normandy_campaign\", \"filename\": os.path.join(cwd, \"wfile1.html\")},\n",
    "    {\"url\": \"https://en.wikipedia.org/wiki/Graph_(abstract_data_type)\", \"filename\": os.path.join(cwd, \"Graph_abstract_data_type.html\")},\n",
    "]"
   ]
  },
  {
   "cell_type": "code",
   "execution_count": 5,
   "id": "854b523c",
   "metadata": {},
   "outputs": [],
   "source": [
    "threads = []"
   ]
  },
  {
   "cell_type": "code",
   "execution_count": null,
   "id": "9f46d934",
   "metadata": {},
   "outputs": [
    {
     "name": "stdout",
     "output_type": "stream",
     "text": [
      "\n",
      "Downloading c:\\Users\\MeetRadadiya\\training-crest\\02-Python-Practice\\W3Resources\\30-Multi-threading and Concurrency\\wfile1.html from https://en.wikipedia.org/wiki/British_logistics_in_the_Normandy_campaign...\n",
      "\n",
      "Downloading c:\\Users\\MeetRadadiya\\training-crest\\02-Python-Practice\\W3Resources\\30-Multi-threading and Concurrency\\Graph_abstract_data_type.html from https://en.wikipedia.org/wiki/Graph_(abstract_data_type)...\n"
     ]
    },
    {
     "name": "stdout",
     "output_type": "stream",
     "text": [
      "\n",
      "c:\\Users\\MeetRadadiya\\training-crest\\02-Python-Practice\\W3Resources\\30-Multi-threading and Concurrency\\Graph_abstract_data_type.html downloaded successfully.\n",
      "\n",
      "c:\\Users\\MeetRadadiya\\training-crest\\02-Python-Practice\\W3Resources\\30-Multi-threading and Concurrency\\wfile1.html downloaded successfully.\n"
     ]
    }
   ],
   "source": [
    "for file_info in files_to_download:\n",
    "    thread = threading.Thread(\n",
    "        target=download_file,\n",
    "        args=(file_info[\"url\"], file_info[\"filename\"])\n",
    "    )\n",
    "    thread.start()\n",
    "    threads.append(thread)"
   ]
  },
  {
   "cell_type": "code",
   "execution_count": 7,
   "id": "0c335a41",
   "metadata": {},
   "outputs": [],
   "source": [
    "for thread in threads:\n",
    "    thread.join()"
   ]
  }
 ],
 "metadata": {
  "kernelspec": {
   "display_name": "base",
   "language": "python",
   "name": "python3"
  },
  "language_info": {
   "codemirror_mode": {
    "name": "ipython",
    "version": 3
   },
   "file_extension": ".py",
   "mimetype": "text/x-python",
   "name": "python",
   "nbconvert_exporter": "python",
   "pygments_lexer": "ipython3",
   "version": "3.13.5"
  }
 },
 "nbformat": 4,
 "nbformat_minor": 5
}
