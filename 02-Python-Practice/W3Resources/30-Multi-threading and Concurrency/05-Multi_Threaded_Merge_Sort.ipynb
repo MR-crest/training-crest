{
 "cells": [
  {
   "cell_type": "markdown",
   "id": "78a520f3",
   "metadata": {},
   "source": [
    "# Task: Multi-threaded Merge Sort\n",
    "\n",
    "## Problem Statement\n",
    "Write a Python program to implement a multi-threaded merge sort algorithm. This program will sort an input list using the merge sort algorithm in parallel, utilizing multiple threads to speed up the sorting process.\n",
    "\n",
    "## Steps\n",
    "1. **Define the merge sort function (`merge_sort`)**:\n",
    "   - This function will recursively divide the array into sublists and merge them back in sorted order.\n",
    "\n",
    "2. **Define the merge function (`merge`)**:\n",
    "   - This function will merge two sorted sublists into a single sorted list.\n",
    "\n",
    "3. **Define the multi-threaded merge sort function (`multi_threaded_merge_sort`)**:\n",
    "   - Divide the input list into equal-sized sublists based on the number of threads.\n",
    "   - Create a thread for each sublist to sort them concurrently.\n",
    "   - Wait for all threads to complete and merge the sorted sublists back together.\n",
    "\n",
    "4. **Run the program**:\n",
    "   - Use a sample input list and a desired number of threads to perform multi-threaded sorting.\n"
   ]
  },
  {
   "cell_type": "code",
   "execution_count": 1,
   "id": "e8e71831",
   "metadata": {},
   "outputs": [],
   "source": [
    "import threading"
   ]
  },
  {
   "cell_type": "code",
   "execution_count": 2,
   "id": "8c42b7fb",
   "metadata": {},
   "outputs": [],
   "source": [
    "def merge_sort(arr):\n",
    "    if len(arr) <= 1:\n",
    "        return arr\n",
    "    mid = len(arr) // 2\n",
    "    left = arr[:mid]\n",
    "    right = arr[mid:]\n",
    "    left = merge_sort(left)\n",
    "    right = merge_sort(right)\n",
    "    return merge(left, right)"
   ]
  },
  {
   "cell_type": "code",
   "execution_count": 3,
   "id": "22f9d410",
   "metadata": {},
   "outputs": [],
   "source": [
    "def merge(left,  right):\n",
    "    merged = []\n",
    "    i = j = 0\n",
    "\n",
    "    while i < len(left) and j < len(right):\n",
    "        if left[i] <= right[j]:\n",
    "            merged.append(left[i])\n",
    "            i += 1\n",
    "        else:\n",
    "            merged.append(right[j])\n",
    "            j += 1\n",
    "    \n",
    "    while i < len(left):\n",
    "        merged.append(left[i])\n",
    "        i += 1\n",
    "\n",
    "    while j < len(right):\n",
    "        merged.append(right[j])\n",
    "        j += 1\n",
    "\n",
    "    return merged"
   ]
  },
  {
   "cell_type": "code",
   "execution_count": 4,
   "id": "f1da426e",
   "metadata": {},
   "outputs": [],
   "source": [
    "def multi_threaded_merge_sort(arr, num_threads):\n",
    "    if num_threads <= 1:\n",
    "        return merge_sort(arr)\n",
    "    \n",
    "    size = len(arr) // num_threads\n",
    "    sublists = [arr[i:i + size] for i in range(0, len(arr), size)]\n",
    "    threads = []\n",
    "    sorted_sublists = []\n",
    "\n",
    "    for sublist in sublists:\n",
    "        thread = threading.Thread(target=lambda sublist: sorted_sublists.append(merge_sort(sublist)), args=(sublist,))\n",
    "        thread.start()\n",
    "        threads.append(thread)\n",
    "    for thread in threads:\n",
    "        thread.join()\n",
    "    \n",
    "    merged = sorted_sublists[0]\n",
    "    for sublist in sorted_sublists[1:]:\n",
    "        merged = merge(merged, sublist)\n",
    "    \n",
    "    return merged"
   ]
  },
  {
   "cell_type": "code",
   "execution_count": 5,
   "id": "dcb7d675",
   "metadata": {},
   "outputs": [
    {
     "name": "stdout",
     "output_type": "stream",
     "text": [
      "Original List: [4, 5, 8, 3, 0, 5, 3, 9, 4, 3]\n",
      "Sorted list: [0, 3, 3, 3, 4, 4, 5, 5, 8, 9]\n"
     ]
    }
   ],
   "source": [
    "input_list = [4, 5, 8, 3, 0, 5, 3, 9, 4, 3]\n",
    "num_threads = 2\n",
    "print(\"Original List:\", input_list)\n",
    "sorted_list = multi_threaded_merge_sort(input_list, num_threads)\n",
    "print(\"Sorted list:\", sorted_list)"
   ]
  }
 ],
 "metadata": {
  "kernelspec": {
   "display_name": "base",
   "language": "python",
   "name": "python3"
  },
  "language_info": {
   "codemirror_mode": {
    "name": "ipython",
    "version": 3
   },
   "file_extension": ".py",
   "mimetype": "text/x-python",
   "name": "python",
   "nbconvert_exporter": "python",
   "pygments_lexer": "ipython3",
   "version": "3.13.5"
  }
 },
 "nbformat": 4,
 "nbformat_minor": 5
}
