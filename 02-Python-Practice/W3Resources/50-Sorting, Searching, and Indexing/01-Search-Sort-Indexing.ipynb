{
 "cells": [
  {
   "cell_type": "code",
   "execution_count": 1,
   "id": "d2320add-6d7f-4c89-8a3e-5663e64bc63e",
   "metadata": {},
   "outputs": [
    {
     "name": "stdout",
     "output_type": "stream",
     "text": [
      "Original array:\n",
      "[[10 40]\n",
      " [30 20]]\n",
      "Sort the array along the first axis:\n",
      "[[10 20]\n",
      " [30 40]]\n",
      "Sort the array along the last axis:\n",
      "[[10 40]\n",
      " [20 30]]\n",
      "Sort the flattened array:\n",
      "[10 20 30 40]\n"
     ]
    }
   ],
   "source": [
    "import numpy as np\n",
    "\n",
    "a = np.array([[10, 40], [30, 20]])\n",
    "\n",
    "print(\"Original array:\")\n",
    "print(a)\n",
    "\n",
    "print(\"Sort the array along the first axis:\")\n",
    "print(np.sort(a, axis=0))\n",
    "\n",
    "print(\"Sort the array along the last axis:\")\n",
    "print(np.sort(a))\n",
    "\n",
    "print(\"Sort the flattened array:\")\n",
    "print(np.sort(a, axis=None)) "
   ]
  },
  {
   "cell_type": "code",
   "execution_count": 2,
   "id": "9dbda2bb-bb32-4454-9c2a-80cbb42600d0",
   "metadata": {},
   "outputs": [
    {
     "name": "stdout",
     "output_type": "stream",
     "text": [
      "Original 3D array:\n",
      " [[[68 33 57 58 12]\n",
      "  [65  9 29 15 45]\n",
      "  [70 82 53 66 12]\n",
      "  [37 55 94 47 99]]\n",
      "\n",
      " [[61  1 91  9 85]\n",
      "  [34 46 75 36 93]\n",
      "  [44 27 25 89 88]\n",
      "  [21 53 56 14 66]]\n",
      "\n",
      " [[59 11 93 78 80]\n",
      "  [24 83 27 74 11]\n",
      "  [81  1 27 83 34]\n",
      "  [57 95 89 71 43]]]\n",
      "Row indices:\n",
      " [0 1 2]\n",
      "Column indices:\n",
      " [1 2 3]\n",
      "Selected elements:\n",
      " [[[65  9 29 15 45]\n",
      "  [70 82 53 66 12]\n",
      "  [37 55 94 47 99]]\n",
      "\n",
      " [[34 46 75 36 93]\n",
      "  [44 27 25 89 88]\n",
      "  [21 53 56 14 66]]\n",
      "\n",
      " [[24 83 27 74 11]\n",
      "  [81  1 27 83 34]\n",
      "  [57 95 89 71 43]]]\n"
     ]
    }
   ],
   "source": [
    "import numpy as np\n",
    "\n",
    "array_3d = np.random.randint(0, 100, size=(3, 4, 5))\n",
    "\n",
    "row_indices = np.array([0, 1, 2])\n",
    "col_indices = np.array([1, 2, 3])\n",
    "\n",
    "selected_elements = array_3d[row_indices[:, np.newaxis], col_indices]\n",
    "\n",
    "print('Original 3D array:\\n', array_3d)\n",
    "print('Row indices:\\n', row_indices)\n",
    "print('Column indices:\\n', col_indices)\n",
    "print('Selected elements:\\n', selected_elements)"
   ]
  },
  {
   "cell_type": "code",
   "execution_count": null,
   "id": "4f90502e-fc8b-4c87-b9fd-8538701881ff",
   "metadata": {},
   "outputs": [],
   "source": []
  }
 ],
 "metadata": {
  "kernelspec": {
   "display_name": "Python 3 (ipykernel)",
   "language": "python",
   "name": "python3"
  },
  "language_info": {
   "codemirror_mode": {
    "name": "ipython",
    "version": 3
   },
   "file_extension": ".py",
   "mimetype": "text/x-python",
   "name": "python",
   "nbconvert_exporter": "python",
   "pygments_lexer": "ipython3",
   "version": "3.13.5"
  }
 },
 "nbformat": 4,
 "nbformat_minor": 5
}
