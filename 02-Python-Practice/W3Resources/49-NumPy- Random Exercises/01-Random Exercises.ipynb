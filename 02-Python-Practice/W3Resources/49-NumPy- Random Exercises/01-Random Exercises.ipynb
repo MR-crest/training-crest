{
 "cells": [
  {
   "cell_type": "code",
   "execution_count": 1,
   "id": "43a649a3-2398-42ee-8066-829575095a7a",
   "metadata": {},
   "outputs": [
    {
     "name": "stdout",
     "output_type": "stream",
     "text": [
      "[13 19 14 17 29 26]\n"
     ]
    }
   ],
   "source": [
    "import numpy as np\n",
    "\n",
    "x = np.random.randint(low=10, high=30, size=6)\n",
    "\n",
    "print(x) "
   ]
  },
  {
   "cell_type": "code",
   "execution_count": 2,
   "id": "89bad7d8-a48d-43dc-8dc2-4dc7a95edf97",
   "metadata": {},
   "outputs": [
    {
     "name": "stdout",
     "output_type": "stream",
     "text": [
      "3.3475871787466303\n"
     ]
    }
   ],
   "source": [
    "import numpy as np\n",
    "\n",
    "x = np.random.uniform(1, 12, 5)\n",
    "\n",
    "v = 4\n",
    "\n",
    "n = x.flat[np.abs(x - v).argmin()]\n",
    "\n",
    "print(n) "
   ]
  },
  {
   "cell_type": "code",
   "execution_count": null,
   "id": "8d061192-3d18-45c7-ac59-786297a705d1",
   "metadata": {},
   "outputs": [],
   "source": []
  }
 ],
 "metadata": {
  "kernelspec": {
   "display_name": "Python 3 (ipykernel)",
   "language": "python",
   "name": "python3"
  },
  "language_info": {
   "codemirror_mode": {
    "name": "ipython",
    "version": 3
   },
   "file_extension": ".py",
   "mimetype": "text/x-python",
   "name": "python",
   "nbconvert_exporter": "python",
   "pygments_lexer": "ipython3",
   "version": "3.13.5"
  }
 },
 "nbformat": 4,
 "nbformat_minor": 5
}
