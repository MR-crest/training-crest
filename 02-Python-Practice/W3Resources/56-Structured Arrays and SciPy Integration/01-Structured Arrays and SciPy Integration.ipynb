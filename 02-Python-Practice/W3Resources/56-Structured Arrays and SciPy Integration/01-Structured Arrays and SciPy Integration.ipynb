{
 "cells": [
  {
   "cell_type": "code",
   "execution_count": 1,
   "id": "0649d0ac-fac5-4910-b7a3-d52028915440",
   "metadata": {},
   "outputs": [
    {
     "name": "stdout",
     "output_type": "stream",
     "text": [
      "All values of the 'name' field:\n",
      "['Lehi Piero' 'Albin Acha' 'Zerach Hav' 'Edmund Ter' 'Laura Feli']\n"
     ]
    }
   ],
   "source": [
    "import numpy as np\n",
    "\n",
    "dtype = [('name', 'U10'), ('age', 'i4'), ('height', 'f4')]\n",
    "\n",
    "structured_array = np.array([\n",
    "    ('Lehi Piero', 25, 5.5),\n",
    "    ('Albin Achan', 30, 5.8),\n",
    "    ('Zerach Hava', 35, 6.1),\n",
    "    ('Edmund Tereza', 40, 5.9),\n",
    "    ('Laura Felinus', 28, 5.7)\n",
    "], dtype=dtype)\n",
    "\n",
    "name_field_values = structured_array['name']\n",
    "\n",
    "print(\"All values of the 'name' field:\")\n",
    "print(name_field_values)"
   ]
  },
  {
   "cell_type": "code",
   "execution_count": 2,
   "id": "bed5976f-e233-4aac-bb6e-6ca708d1e499",
   "metadata": {},
   "outputs": [
    {
     "name": "stdout",
     "output_type": "stream",
     "text": [
      "Mean: 0.5317074429162095\n",
      "Median: 0.5576064088974754\n",
      "Variance: 0.0831253060812392\n"
     ]
    }
   ],
   "source": [
    "import numpy as np\n",
    "from scipy import stats\n",
    "\n",
    "data = np.random.rand(100)\n",
    "\n",
    "mean = stats.tmean(data)\n",
    "\n",
    "median = np.median(data)\n",
    "\n",
    "variance = stats.tvar(data)\n",
    "\n",
    "print(\"Mean:\", mean)\n",
    "print(\"Median:\", median)\n",
    "print(\"Variance:\", variance)"
   ]
  },
  {
   "cell_type": "code",
   "execution_count": null,
   "id": "6e6ae3ed-72ef-4760-abad-4381e342cbec",
   "metadata": {},
   "outputs": [],
   "source": []
  }
 ],
 "metadata": {
  "kernelspec": {
   "display_name": "Python 3 (ipykernel)",
   "language": "python",
   "name": "python3"
  },
  "language_info": {
   "codemirror_mode": {
    "name": "ipython",
    "version": 3
   },
   "file_extension": ".py",
   "mimetype": "text/x-python",
   "name": "python",
   "nbconvert_exporter": "python",
   "pygments_lexer": "ipython3",
   "version": "3.13.5"
  }
 },
 "nbformat": 4,
 "nbformat_minor": 5
}
