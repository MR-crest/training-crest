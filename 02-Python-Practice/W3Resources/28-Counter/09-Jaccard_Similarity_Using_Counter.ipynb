{
 "cells": [
  {
   "cell_type": "markdown",
   "id": "51f25bf4",
   "metadata": {},
   "source": [
    "# Task: Jaccard Similarity Using Counter\n",
    "\n",
    "## Problem Statement\n",
    "Write a Python program that calculates the **Jaccard similarity coefficient** between two lists using the `collections.Counter` class.  \n",
    "The Jaccard similarity is defined as the size of the intersection divided by the size of the union of the sample sets (including duplicate elements based on frequency).\n",
    "\n",
    "## Steps\n",
    "1. Import the `Counter` class from the `collections` module.\n",
    "2. Define a function `jaccard_similarity(list1, list2)`:\n",
    "   - Convert both lists to `Counter` objects.\n",
    "   - Compute the **intersection count** using the `&` operator.\n",
    "   - Compute the **union count** using the `|` operator.\n",
    "   - Return the ratio of intersection count to union count.\n",
    "3. Define a `main()` function:\n",
    "   - Create two sample lists.\n",
    "   - Call `jaccard_similarity()` and print the result.\n",
    "4. Call the `main()` function if the script is executed directly.\n"
   ]
  },
  {
   "cell_type": "code",
   "execution_count": 1,
   "id": "61d15ff4",
   "metadata": {},
   "outputs": [],
   "source": [
    "from collections import Counter"
   ]
  },
  {
   "cell_type": "code",
   "execution_count": 2,
   "id": "3dc417b8",
   "metadata": {},
   "outputs": [],
   "source": [
    "def jaccard_similarity(list1, list2):\n",
    "    counter1 = Counter(list1)\n",
    "    counter2 = Counter(list2)\n",
    "    \n",
    "    intersection_count = sum((counter1 & counter2).values())\n",
    "    union_count = sum((counter1 | counter2).values())\n",
    "\n",
    "    jaccard_coefficient = intersection_count / union_count\n",
    "    return jaccard_coefficient"
   ]
  },
  {
   "cell_type": "code",
   "execution_count": 3,
   "id": "eb0767f0",
   "metadata": {},
   "outputs": [],
   "source": [
    "def main():\n",
    "    list1 = ['Red', 'Green', 'Blue', 'Orange']\n",
    "    list2 = ['Green', 'Pink', 'Blue']\n",
    "    \n",
    "    jaccard_coefficient = jaccard_similarity(list1, list2)\n",
    "    print(\"List 1:\", list1)\n",
    "    print(\"List 2:\", list2)\n",
    "    print(\"Jaccard Similarity Coefficient:\", jaccard_coefficient)"
   ]
  },
  {
   "cell_type": "code",
   "execution_count": 4,
   "id": "813eb682",
   "metadata": {},
   "outputs": [
    {
     "name": "stdout",
     "output_type": "stream",
     "text": [
      "List 1: ['Red', 'Green', 'Blue', 'Orange']\n",
      "List 2: ['Green', 'Pink', 'Blue']\n",
      "Jaccard Similarity Coefficient: 0.4\n"
     ]
    }
   ],
   "source": [
    "if __name__ == \"__main__\":\n",
    "    main()"
   ]
  }
 ],
 "metadata": {
  "kernelspec": {
   "display_name": "base",
   "language": "python",
   "name": "python3"
  },
  "language_info": {
   "codemirror_mode": {
    "name": "ipython",
    "version": 3
   },
   "file_extension": ".py",
   "mimetype": "text/x-python",
   "name": "python",
   "nbconvert_exporter": "python",
   "pygments_lexer": "ipython3",
   "version": "3.13.5"
  }
 },
 "nbformat": 4,
 "nbformat_minor": 5
}
