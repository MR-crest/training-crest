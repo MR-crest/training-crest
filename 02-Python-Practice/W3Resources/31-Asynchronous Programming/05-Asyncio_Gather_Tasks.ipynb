{
 "cells": [
  {
   "cell_type": "markdown",
   "id": "69af63b7",
   "metadata": {},
   "source": [
    "# Task: Asyncio Gather Tasks\n",
    "\n",
    "## Problem Statement:\n",
    "Write a Python program that runs multiple asynchronous tasks concurrently using `asyncio.gather()` and measures the time taken to execute all the tasks.\n",
    "\n",
    "## Steps:\n",
    "1. **Import necessary libraries**:\n",
    "   - Use `asyncio` for asynchronous programming.\n",
    "   - Use `time` to measure the execution time of tasks.\n",
    "\n",
    "2. **Define the asynchronous task function** (`async_task`):\n",
    "   - Create a coroutine that simulates a time-consuming operation (like fetching data or performing a calculation).\n",
    "\n",
    "3. **Define the main coroutine** (`main`):\n",
    "   - Create multiple tasks using `asyncio.gather()` to run them concurrently.\n",
    "   - Measure the time taken for all tasks to complete using `time.time()` before and after gathering the tasks.\n",
    "\n",
    "4. **Run the event loop**:\n",
    "   - Use `await main()` to run the event loop and execute the concurrent tasks.\n",
    "\n",
    "5. **Output**:\n",
    "   - Print the time taken to run all tasks concurrently.\n",
    "\n",
    "## Example Output:\n"
   ]
  },
  {
   "cell_type": "code",
   "execution_count": 1,
   "id": "59c1c458",
   "metadata": {},
   "outputs": [],
   "source": [
    "import asyncio\n",
    "import time"
   ]
  },
  {
   "cell_type": "code",
   "execution_count": 2,
   "id": "38a436e6",
   "metadata": {},
   "outputs": [],
   "source": [
    "async def task1():\n",
    "    print(\"Task-1 started\")\n",
    "    await asyncio.sleep(4)\n",
    "    print(\"Task-1 completed\")\n",
    "async def task2():\n",
    "    print(\"Task-2 started\")\n",
    "    await asyncio.sleep(1)\n",
    "    print(\"Task-2 completed\")\n",
    "async def task3():\n",
    "    print(\"Task-3 started\\n\")\n",
    "    await asyncio.sleep(2)\n",
    "    print(\"Task-3 completed\")"
   ]
  },
  {
   "cell_type": "code",
   "execution_count": 3,
   "id": "bb33df04",
   "metadata": {},
   "outputs": [],
   "source": [
    "async def main():\n",
    "    start_time = time.time()    \n",
    "    await asyncio.gather(task1(), task2(), task3())    \n",
    "    end_time = time.time()\n",
    "    elapsed_time = end_time - start_time\n",
    "    print(\"\\nAll tasks completed in {:.2f} seconds\".format(elapsed_time))"
   ]
  },
  {
   "cell_type": "code",
   "execution_count": 4,
   "id": "a94c7d8a",
   "metadata": {},
   "outputs": [
    {
     "name": "stdout",
     "output_type": "stream",
     "text": [
      "Task-1 started\n",
      "Task-2 started\n",
      "Task-3 started\n",
      "\n",
      "Task-2 completed\n",
      "Task-3 completed\n",
      "Task-1 completed\n",
      "\n",
      "All tasks completed in 4.01 seconds\n"
     ]
    }
   ],
   "source": [
    "await main()"
   ]
  }
 ],
 "metadata": {
  "kernelspec": {
   "display_name": "base",
   "language": "python",
   "name": "python3"
  },
  "language_info": {
   "codemirror_mode": {
    "name": "ipython",
    "version": 3
   },
   "file_extension": ".py",
   "mimetype": "text/x-python",
   "name": "python",
   "nbconvert_exporter": "python",
   "pygments_lexer": "ipython3",
   "version": "3.13.5"
  }
 },
 "nbformat": 4,
 "nbformat_minor": 5
}
