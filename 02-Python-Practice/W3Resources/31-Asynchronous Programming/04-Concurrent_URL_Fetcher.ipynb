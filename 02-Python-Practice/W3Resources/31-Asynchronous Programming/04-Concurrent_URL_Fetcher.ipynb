{
 "cells": [
  {
   "cell_type": "markdown",
   "id": "d84efb22",
   "metadata": {},
   "source": [
    "# Task: Concurrent URL Fetcher\n",
    "\n",
    "## Problem Statement:\n",
    "Write a Python program that implements a coroutine to fetch data from two different URLs simultaneously using the \"aiohttp\" library. The program should fetch data concurrently and display the length of the data fetched from both URLs.\n",
    "\n",
    "## Steps:\n",
    "1. **Import necessary libraries**:\n",
    "   - Use `asyncio` for asynchronous programming and `aiohttp` for HTTP requests.\n",
    "\n",
    "2. **Define the asynchronous fetch function** (`fetch_url`):\n",
    "   - Create a coroutine that takes a URL as input, makes an asynchronous request, and returns the fetched data.\n",
    "\n",
    "3. **Define the main coroutine** (`main`):\n",
    "   - Create tasks for fetching data from two URLs concurrently.\n",
    "   - Await the completion of both tasks to fetch the data simultaneously.\n",
    "\n",
    "4. **Run the event loop**:\n",
    "   - Use `await main()` to run the event loop and execute the concurrent URL fetcher.\n",
    "\n",
    "5. **Output**:\n",
    "   - Print the length of the fetched data from both URLs.\n"
   ]
  },
  {
   "cell_type": "code",
   "execution_count": 1,
   "id": "77de0235",
   "metadata": {},
   "outputs": [],
   "source": [
    "import asyncio\n",
    "import aiohttp"
   ]
  },
  {
   "cell_type": "code",
   "execution_count": 5,
   "id": "fc011e14",
   "metadata": {},
   "outputs": [],
   "source": [
    "async def fetch_url(url):\n",
    "    async with aiohttp.ClientSession() as session:\n",
    "        async with session.get(url) as response:\n",
    "            return await response.text()"
   ]
  },
  {
   "cell_type": "code",
   "execution_count": 6,
   "id": "1fa02bc7",
   "metadata": {},
   "outputs": [],
   "source": [
    "async def main():\n",
    "    url_1 = \"https://www.wikipedia.org/\"\n",
    "    url_2 = \"https://www.google.com\"\n",
    "    task1 = asyncio.create_task(fetch_url(url_1))\n",
    "    task2 = asyncio.create_task(fetch_url(url_2))\n",
    "    data1 = await task1\n",
    "    data2 = await task2\n",
    "    print(\"Data from \", url_1, len(data1), \"bytes\")\n",
    "    print(\"Data from \", url_2, len(data2), \"bytes\")"
   ]
  },
  {
   "cell_type": "code",
   "execution_count": 8,
   "id": "a82309aa",
   "metadata": {},
   "outputs": [
    {
     "name": "stdout",
     "output_type": "stream",
     "text": [
      "Data from  https://www.wikipedia.org/ 89364 bytes\n",
      "Data from  https://www.google.com 19735 bytes\n"
     ]
    }
   ],
   "source": [
    "await main()"
   ]
  }
 ],
 "metadata": {
  "kernelspec": {
   "display_name": "base",
   "language": "python",
   "name": "python3"
  },
  "language_info": {
   "codemirror_mode": {
    "name": "ipython",
    "version": 3
   },
   "file_extension": ".py",
   "mimetype": "text/x-python",
   "name": "python",
   "nbconvert_exporter": "python",
   "pygments_lexer": "ipython3",
   "version": "3.13.5"
  }
 },
 "nbformat": 4,
 "nbformat_minor": 5
}
