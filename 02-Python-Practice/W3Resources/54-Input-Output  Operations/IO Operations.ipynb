{
 "cells": [
  {
   "cell_type": "code",
   "execution_count": 1,
   "id": "b94bf666-58b5-41cb-b93e-2fcc07cf816b",
   "metadata": {},
   "outputs": [
    {
     "name": "stdout",
     "output_type": "stream",
     "text": [
      "Data has been written to output.csv\n"
     ]
    }
   ],
   "source": [
    "import numpy as np\n",
    "import csv\n",
    "\n",
    "data_array = np.array([\n",
    "    [1, 'Jorah Liina', 95.5],\n",
    "    [2, 'Basil Aisha', 90.0],\n",
    "    [3, 'Helga Myrthe', 80.0],\n",
    "    [4, 'Lehi Piero', 91.5]\n",
    "], dtype=object)\n",
    "\n",
    "csv_file_path = 'output.csv'\n",
    "\n",
    "with open(csv_file_path, 'w', newline='') as csvfile:\n",
    "    writer = csv.writer(csvfile, delimiter=',')\n",
    "    for row in data_array:\n",
    "        writer.writerow(row)\n",
    "\n",
    "print(f\"Data has been written to {csv_file_path}\")"
   ]
  },
  {
   "cell_type": "code",
   "execution_count": null,
   "id": "f5c367d9-dd32-46f3-9608-d6d5a709b39c",
   "metadata": {},
   "outputs": [],
   "source": []
  }
 ],
 "metadata": {
  "kernelspec": {
   "display_name": "Python 3 (ipykernel)",
   "language": "python",
   "name": "python3"
  },
  "language_info": {
   "codemirror_mode": {
    "name": "ipython",
    "version": 3
   },
   "file_extension": ".py",
   "mimetype": "text/x-python",
   "name": "python",
   "nbconvert_exporter": "python",
   "pygments_lexer": "ipython3",
   "version": "3.13.5"
  }
 },
 "nbformat": 4,
 "nbformat_minor": 5
}
