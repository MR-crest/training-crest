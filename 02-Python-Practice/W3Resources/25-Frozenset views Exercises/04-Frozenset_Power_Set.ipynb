{
 "cells": [
  {
   "cell_type": "markdown",
   "id": "b67b1650",
   "metadata": {},
   "source": [
    "# Task: Frozenset Power Set\n",
    "\n",
    "## Problem Statement\n",
    "Write a Python program that defines a function to generate the **power set** (the set of all possible subsets) of a given `frozenset`.  \n",
    "The result should be a set of frozensets, representing all combinations including the empty set and the set itself.\n",
    "\n",
    "## Steps\n",
    "1. Accept a `frozenset` as input.\n",
    "2. Convert the `frozenset` to a list to allow indexing.\n",
    "3. Use the `itertools` module to generate all possible combinations (subsets).\n",
    "4. Convert each subset to a `frozenset` and add it to the final power set.\n",
    "5. Return the power set as a `set` of `frozenset`s.\n"
   ]
  },
  {
   "cell_type": "code",
   "execution_count": 1,
   "id": "969744f8",
   "metadata": {},
   "outputs": [],
   "source": [
    "def powerset(frozenset_input):\n",
    "    power_set = [[]]\n",
    "\n",
    "    for element in frozenset_input:\n",
    "        new_subsets = []\n",
    "        for subset in power_set:\n",
    "            new_subset = subset + [element]\n",
    "            new_subsets.append(new_subset)\n",
    "        power_set.extend(new_subsets)\n",
    "\n",
    "    return [frozenset(subset) for subset in power_set]"
   ]
  },
  {
   "cell_type": "code",
   "execution_count": 2,
   "id": "5c0a6dd0",
   "metadata": {},
   "outputs": [],
   "source": [
    "def main():\n",
    "    frozen_set = frozenset([1, 2, 3, 4])\n",
    "    print(\"Original Power set\")\n",
    "\n",
    "    power_set_result = powerset(frozen_set)\n",
    "    \n",
    "    print(\"Power Set:\")\n",
    "    for subset in power_set_result:\n",
    "        print(subset)"
   ]
  },
  {
   "cell_type": "code",
   "execution_count": 3,
   "id": "1d8bced0",
   "metadata": {},
   "outputs": [
    {
     "name": "stdout",
     "output_type": "stream",
     "text": [
      "Original Power set\n",
      "Power Set:\n",
      "frozenset()\n",
      "frozenset({1})\n",
      "frozenset({2})\n",
      "frozenset({1, 2})\n",
      "frozenset({3})\n",
      "frozenset({1, 3})\n",
      "frozenset({2, 3})\n",
      "frozenset({1, 2, 3})\n",
      "frozenset({4})\n",
      "frozenset({1, 4})\n",
      "frozenset({2, 4})\n",
      "frozenset({1, 2, 4})\n",
      "frozenset({3, 4})\n",
      "frozenset({1, 3, 4})\n",
      "frozenset({2, 3, 4})\n",
      "frozenset({1, 2, 3, 4})\n"
     ]
    }
   ],
   "source": [
    "if __name__ == \"__main__\":\n",
    "    main()"
   ]
  }
 ],
 "metadata": {
  "kernelspec": {
   "display_name": "base",
   "language": "python",
   "name": "python3"
  },
  "language_info": {
   "codemirror_mode": {
    "name": "ipython",
    "version": 3
   },
   "file_extension": ".py",
   "mimetype": "text/x-python",
   "name": "python",
   "nbconvert_exporter": "python",
   "pygments_lexer": "ipython3",
   "version": "3.13.5"
  }
 },
 "nbformat": 4,
 "nbformat_minor": 5
}
