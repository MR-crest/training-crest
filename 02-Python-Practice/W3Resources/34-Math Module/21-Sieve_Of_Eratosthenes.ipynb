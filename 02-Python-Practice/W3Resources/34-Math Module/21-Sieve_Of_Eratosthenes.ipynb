{
 "cells": [
  {
   "cell_type": "markdown",
   "id": "852141af",
   "metadata": {},
   "source": [
    "# Task: Sieve of Eratosthenes\n",
    "\n",
    "## Problem Statement:\n",
    "Write a Python program that prints all prime numbers smaller than or equal to a specified number using the Sieve of Eratosthenes algorithm. The sieve of Eratosthenes is an ancient algorithm for finding all prime numbers up to a given limit by iteratively marking the multiples of each prime number as composite (not prime).\n",
    "\n",
    "## Steps:\n",
    "1. Create a list `is_prime` initialized to `True` for numbers from 0 to the given number `n`.\n",
    "2. Start from the first prime number (2) and mark all of its multiples as `False`.\n",
    "3. Move to the next unmarked number, and repeat the process of marking its multiples.\n",
    "4. Continue until you reach the square root of `n`.\n",
    "5. Return or print all numbers that remain marked as `True` (i.e., prime numbers).\n"
   ]
  },
  {
   "cell_type": "code",
   "execution_count": 1,
   "id": "2449f80b",
   "metadata": {},
   "outputs": [],
   "source": [
    "def sieve_of_Eratosthenes(num):\n",
    "    limitn = num+1\n",
    "    not_prime_num = set()\n",
    "    prime_nums = []\n",
    "\n",
    "    for i in range(2, limitn):\n",
    "        if i in not_prime_num:\n",
    "            continue\n",
    "\n",
    "        for f in range(i*2, limitn, i):\n",
    "            not_prime_num.add(f)\n",
    "\n",
    "        prime_nums.append(i)\n",
    "    \n",
    "    return prime_nums"
   ]
  },
  {
   "cell_type": "code",
   "execution_count": 2,
   "id": "7a496f87",
   "metadata": {},
   "outputs": [
    {
     "name": "stdout",
     "output_type": "stream",
     "text": [
      "[2, 3, 5, 7, 11, 13, 17, 19, 23, 29, 31, 37, 41, 43, 47, 53, 59, 61, 67, 71, 73, 79, 83, 89, 97]\n"
     ]
    }
   ],
   "source": [
    "print(sieve_of_Eratosthenes(100))"
   ]
  }
 ],
 "metadata": {
  "kernelspec": {
   "display_name": "base",
   "language": "python",
   "name": "python3"
  },
  "language_info": {
   "codemirror_mode": {
    "name": "ipython",
    "version": 3
   },
   "file_extension": ".py",
   "mimetype": "text/x-python",
   "name": "python",
   "nbconvert_exporter": "python",
   "pygments_lexer": "ipython3",
   "version": "3.13.5"
  }
 },
 "nbformat": 4,
 "nbformat_minor": 5
}
