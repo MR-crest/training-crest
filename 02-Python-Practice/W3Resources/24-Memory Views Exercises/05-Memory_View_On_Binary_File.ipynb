{
 "cells": [
  {
   "cell_type": "markdown",
   "id": "e6c43e01",
   "metadata": {},
   "source": [
    "# Task: Memory View on Binary File\n",
    "\n",
    "## Problem Statement\n",
    "Write a Python program that reads a **binary file** into a **memory view**, modifies the data, and saves the modified version to a new file.  \n",
    "Using memory views enables efficient manipulation of binary data without copying.\n",
    "\n",
    "## Steps\n",
    "1. Open the binary file in read-binary (`rb`) mode.\n",
    "2. Read its content into a `bytearray` to allow modification.\n",
    "3. Create a `memoryview` of the bytearray.\n",
    "4. Apply desired modifications using the memoryview.\n",
    "5. Write the modified content to a new binary file.\n"
   ]
  },
  {
   "cell_type": "code",
   "execution_count": 1,
   "id": "ec7ee6a7",
   "metadata": {},
   "outputs": [],
   "source": [
    "with open(\"input.bin\", \"wb\") as f:\n",
    "    f.write(bytes(range(256)))"
   ]
  },
  {
   "cell_type": "code",
   "execution_count": 2,
   "id": "237c7eae",
   "metadata": {},
   "outputs": [],
   "source": [
    "def modify_binary_file(input_path, output_path):\n",
    "    try:\n",
    "        with open(input_path, 'rb') as file:\n",
    "            data = bytearray(file.read())\n",
    "\n",
    "        mem_view = memoryview(data)\n",
    "\n",
    "        for i in range(len(mem_view)):\n",
    "            mem_view[i] = 255 - mem_view[i]\n",
    "\n",
    "        with open(output_path, 'wb') as new_file:\n",
    "            new_file.write(mem_view)\n",
    "\n",
    "        print(f\"Modified file saved to: {output_path}\")\n",
    "\n",
    "    except FileNotFoundError:\n",
    "        print(f\"File not found: {input_path}\")\n",
    "    except Exception as e:\n",
    "        print(f\"An error occurred: {e}\")\n"
   ]
  },
  {
   "cell_type": "code",
   "execution_count": 3,
   "id": "a57202c2",
   "metadata": {},
   "outputs": [
    {
     "name": "stdout",
     "output_type": "stream",
     "text": [
      "Modified file saved to: output_modified.bin\n"
     ]
    }
   ],
   "source": [
    "modify_binary_file(\"input.bin\", \"output_modified.bin\")"
   ]
  }
 ],
 "metadata": {
  "kernelspec": {
   "display_name": "base",
   "language": "python",
   "name": "python3"
  },
  "language_info": {
   "codemirror_mode": {
    "name": "ipython",
    "version": 3
   },
   "file_extension": ".py",
   "mimetype": "text/x-python",
   "name": "python",
   "nbconvert_exporter": "python",
   "pygments_lexer": "ipython3",
   "version": "3.13.5"
  }
 },
 "nbformat": 4,
 "nbformat_minor": 5
}
