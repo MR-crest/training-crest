{
 "cells": [
  {
   "cell_type": "markdown",
   "id": "4d421ca7",
   "metadata": {},
   "source": [
    "# Task: Timezone Components Fetcher\n",
    "\n",
    "## Problem Statement:\n",
    "Write a Python program to **fetch and display various time-related components** including:\n",
    "- Local timezone and its offset\n",
    "- Timezone abbreviations (standard and DST)\n",
    "- Current local time\n",
    "- Time in different timezones\n",
    "\n",
    "This is useful for logging, scheduling, or any application needing timezone-aware timestamps.\n",
    "\n",
    "## Steps:\n",
    "1. **Import** required modules: `datetime`, `pytz`, and `time`.\n",
    "2. Get the **current local time** and display its components.\n",
    "3. Retrieve and print:\n",
    "   - Local timezone name\n",
    "   - Local timezone offset from UTC\n",
    "   - DST timezone name and offset if applicable\n",
    "4. Use the `pytz` library to fetch and display **time in various other timezones** like:\n",
    "   - UTC\n",
    "   - US/Eastern\n",
    "   - Asia/Kolkata\n",
    "   - Europe/London\n",
    "5. Format and print the time and timezone details cleanly.\n"
   ]
  },
  {
   "cell_type": "code",
   "execution_count": 1,
   "id": "9d7ee7bd",
   "metadata": {},
   "outputs": [],
   "source": [
    "from datetime import datetime\n",
    "import pytz\n",
    "import time"
   ]
  },
  {
   "cell_type": "code",
   "execution_count": 2,
   "id": "b93c6d40",
   "metadata": {},
   "outputs": [],
   "source": [
    "local_time = datetime.now()\n",
    "local_tz = time.tzname\n",
    "utc_offset = time.timezone\n",
    "dst_offset = time.altzone if time.daylight else time.timezone"
   ]
  },
  {
   "cell_type": "code",
   "execution_count": 3,
   "id": "2e8e6906",
   "metadata": {},
   "outputs": [
    {
     "name": "stdout",
     "output_type": "stream",
     "text": [
      "Local Time: 2025-07-24 10:17:18\n",
      "Timezone Abbreviations: ('India Standard Time', 'India Daylight Time')\n",
      "UTC Offset (seconds): 19800\n",
      "DST Offset (seconds): 19800\n"
     ]
    }
   ],
   "source": [
    "print(\"Local Time:\", local_time.strftime(\"%Y-%m-%d %H:%M:%S\"))\n",
    "print(\"Timezone Abbreviations:\", local_tz)\n",
    "print(\"UTC Offset (seconds):\", -utc_offset)\n",
    "print(\"DST Offset (seconds):\", -dst_offset)"
   ]
  },
  {
   "cell_type": "code",
   "execution_count": 4,
   "id": "bf5ce82a",
   "metadata": {},
   "outputs": [],
   "source": [
    "def print_timezone_info(tz_name):\n",
    "    tz = pytz.timezone(tz_name)\n",
    "    now = datetime.now(tz)\n",
    "    print(f\"\\nTimezone: {tz_name}\")\n",
    "    print(\"Time: \",now.strftime(\"%Y-%m-%d %H:%M:%S\"))\n",
    "    print(\"Abbreviation: \",now.tzname())\n",
    "    print(\"UTC Offset: \",now.utcoffset())"
   ]
  },
  {
   "cell_type": "code",
   "execution_count": 5,
   "id": "a1a823f7",
   "metadata": {},
   "outputs": [],
   "source": [
    "timezones = ['UTC', 'US/Eastern', 'Asia/Kolkata', 'Europe/London']"
   ]
  },
  {
   "cell_type": "code",
   "execution_count": 6,
   "id": "3bc41213",
   "metadata": {},
   "outputs": [
    {
     "name": "stdout",
     "output_type": "stream",
     "text": [
      "\n",
      "Timezone: UTC\n",
      "Time:  2025-07-24 04:47:18\n",
      "Abbreviation:  UTC\n",
      "UTC Offset:  0:00:00\n",
      "\n",
      "Timezone: US/Eastern\n",
      "Time:  2025-07-24 00:47:19\n",
      "Abbreviation:  EDT\n",
      "UTC Offset:  -1 day, 20:00:00\n",
      "\n",
      "Timezone: Asia/Kolkata\n",
      "Time:  2025-07-24 10:17:19\n",
      "Abbreviation:  IST\n",
      "UTC Offset:  5:30:00\n",
      "\n",
      "Timezone: Europe/London\n",
      "Time:  2025-07-24 05:47:19\n",
      "Abbreviation:  BST\n",
      "UTC Offset:  1:00:00\n"
     ]
    }
   ],
   "source": [
    "for tz in timezones:\n",
    "    print_timezone_info(tz)"
   ]
  }
 ],
 "metadata": {
  "kernelspec": {
   "display_name": "base",
   "language": "python",
   "name": "python3"
  },
  "language_info": {
   "codemirror_mode": {
    "name": "ipython",
    "version": 3
   },
   "file_extension": ".py",
   "mimetype": "text/x-python",
   "name": "python",
   "nbconvert_exporter": "python",
   "pygments_lexer": "ipython3",
   "version": "3.13.5"
  }
 },
 "nbformat": 4,
 "nbformat_minor": 5
}
