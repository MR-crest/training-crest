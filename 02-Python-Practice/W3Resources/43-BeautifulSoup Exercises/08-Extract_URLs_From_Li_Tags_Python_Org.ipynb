{
 "cells": [
  {
   "cell_type": "markdown",
   "id": "53fdeeea",
   "metadata": {},
   "source": [
    "# Task: Extract URLs from `<li>` Tags on Python.org Webpage\n",
    "\n",
    "## Problem Statement:\n",
    "Write a Python program that extracts all the URLs that are nested within `<li>` tags from the webpage \"https://www.python.org\".\n",
    "\n",
    "## Steps:\n",
    "1. **Send a GET request** to the webpage \"https://www.python.org\" using the `requests` library.\n",
    "2. **Parse the HTML content** using `BeautifulSoup` from the `bs4` library and `lxml` parser.\n",
    "3. **Find all `<li>` tags** in the parsed content and extract the URLs from the nested `<a>` tags.\n",
    "4. **Store and print** all the extracted URLs from the `<a>` tags.\n"
   ]
  },
  {
   "cell_type": "code",
   "execution_count": 1,
   "id": "69899ac5",
   "metadata": {},
   "outputs": [],
   "source": [
    "import requests\n",
    "from bs4 import BeautifulSoup"
   ]
  },
  {
   "cell_type": "code",
   "execution_count": 2,
   "id": "ac58741a",
   "metadata": {},
   "outputs": [],
   "source": [
    "url = \"https://python.org/\""
   ]
  },
  {
   "cell_type": "code",
   "execution_count": 3,
   "id": "7f090273",
   "metadata": {},
   "outputs": [],
   "source": [
    "reqs = requests.get(url)"
   ]
  },
  {
   "cell_type": "code",
   "execution_count": 4,
   "id": "45c5d1df",
   "metadata": {},
   "outputs": [],
   "source": [
    "soup = BeautifulSoup(reqs.text, 'lxml')"
   ]
  },
  {
   "cell_type": "code",
   "execution_count": 5,
   "id": "e93ab310",
   "metadata": {},
   "outputs": [],
   "source": [
    "urls = []"
   ]
  },
  {
   "cell_type": "code",
   "execution_count": 6,
   "id": "e225f314",
   "metadata": {},
   "outputs": [],
   "source": [
    "for h in soup.find_all('li'):\n",
    "    a = h.find('a')\n",
    "    urls.append(a.attrs['href'])"
   ]
  },
  {
   "cell_type": "code",
   "execution_count": 7,
   "id": "a4f70e36",
   "metadata": {},
   "outputs": [
    {
     "name": "stdout",
     "output_type": "stream",
     "text": [
      "['/', 'https://www.python.org/psf/', 'https://docs.python.org', 'https://pypi.org/', '/jobs/', '/community/', '#', 'javascript:;', 'javascript:;', 'javascript:;', '#', 'https://www.linkedin.com/company/python-software-foundation/', 'https://fosstodon.org/@ThePSF', '/community/irc/', 'https://twitter.com/ThePSF', '/about/', '/about/apps/', '/about/quotes/', '/about/gettingstarted/', '/about/help/', 'http://brochure.getpython.info/', '/downloads/', '/downloads/', '/downloads/source/', '/downloads/windows/', '/downloads/macos/', '/download/other/', 'https://docs.python.org/3/license.html', '/download/alternatives', '/doc/', '/doc/', '/doc/av', 'https://wiki.python.org/moin/BeginnersGuide', 'https://devguide.python.org/', 'https://docs.python.org/faq/', 'http://wiki.python.org/moin/Languages', 'https://peps.python.org', 'https://wiki.python.org/moin/PythonBooks', '/doc/essays/', '/community/', '/community/diversity/', '/community/lists/', '/community/irc/', '/community/forums/', '/psf/annual-report/2024/', '/community/workshops/', '/community/sigs/', '/community/logos/', 'https://wiki.python.org/moin/', '/psf/conduct/', '/community/awards', '/psf/get-involved/', '/psf/community-stories/', '/success-stories/', '/success-stories/category/arts/', '/success-stories/category/business/', '/success-stories/category/education/', '/success-stories/category/engineering/', '/success-stories/category/government/', '/success-stories/category/scientific/', '/success-stories/category/software-development/', '/blogs/', '/blogs/', '/psf/newsletter/', 'http://pyfound.blogspot.com/', 'http://pycon.blogspot.com/', 'http://planetpython.org/', '/events/', '/events/python-events/', '/events/python-user-group/', '/events/python-events/past/', '/events/python-user-group/past/', 'https://wiki.python.org/moin/PythonEventsCalendar#Submitting_an_Event', '/shell/', '//docs.python.org/3/tutorial/controlflow.html#defining-functions', '//docs.python.org/3/tutorial/introduction.html#lists', 'http://docs.python.org/3/tutorial/introduction.html#using-python-as-a-calculator', '//docs.python.org/3/tutorial/controlflow.html', '//docs.python.org/3/tutorial/', 'https://pyfound.blogspot.com/2025/07/psf-board-nominations-opening-july-29th.html', 'https://pythoninsider.blogspot.com/2025/07/python-314-release-candidate-1-is-go.html', 'https://pyfound.blogspot.com/2025/07/affirm-your-psf-membership-voting-status.html', 'https://mailchi.mp/python/python-software-foundation-july-2024-newsletter-19880429', 'https://pyfound.blogspot.com/2025/07/notice-of-python-software-foundation.html', '/events/python-user-group/2081/', '/events/python-events/2011/', '/events/python-events/2077/', '/events/python-events/1973/', '/events/python-events/1971/', 'http://www.djangoproject.com/', 'http://wiki.python.org/moin/TkInter', 'http://www.scipy.org', 'http://buildbot.net/', 'http://www.ansible.com', '/about/', '/about/apps/', '/about/quotes/', '/about/gettingstarted/', '/about/help/', 'http://brochure.getpython.info/', '/downloads/', '/downloads/', '/downloads/source/', '/downloads/windows/', '/downloads/macos/', '/download/other/', 'https://docs.python.org/3/license.html', '/download/alternatives', '/doc/', '/doc/', '/doc/av', 'https://wiki.python.org/moin/BeginnersGuide', 'https://devguide.python.org/', 'https://docs.python.org/faq/', 'http://wiki.python.org/moin/Languages', 'https://peps.python.org', 'https://wiki.python.org/moin/PythonBooks', '/doc/essays/', '/community/', '/community/diversity/', '/community/lists/', '/community/irc/', '/community/forums/', '/psf/annual-report/2024/', '/community/workshops/', '/community/sigs/', '/community/logos/', 'https://wiki.python.org/moin/', '/psf/conduct/', '/community/awards', '/psf/get-involved/', '/psf/community-stories/', '/success-stories/', '/success-stories/category/arts/', '/success-stories/category/business/', '/success-stories/category/education/', '/success-stories/category/engineering/', '/success-stories/category/government/', '/success-stories/category/scientific/', '/success-stories/category/software-development/', '/blogs/', '/blogs/', '/psf/newsletter/', 'http://pyfound.blogspot.com/', 'http://pycon.blogspot.com/', 'http://planetpython.org/', '/events/', '/events/python-events/', '/events/python-user-group/', '/events/python-events/past/', '/events/python-user-group/past/', 'https://wiki.python.org/moin/PythonEventsCalendar#Submitting_an_Event', '/dev/', 'https://devguide.python.org/', 'https://github.com/python/cpython/issues', 'https://mail.python.org/mailman/listinfo/python-dev', '/dev/core-mentorship/', '/dev/security/', '/about/help/', '/community/diversity/', 'https://github.com/python/pythondotorg/issues', 'https://status.python.org/']\n"
     ]
    }
   ],
   "source": [
    "print(urls)"
   ]
  }
 ],
 "metadata": {
  "kernelspec": {
   "display_name": "base",
   "language": "python",
   "name": "python3"
  },
  "language_info": {
   "codemirror_mode": {
    "name": "ipython",
    "version": 3
   },
   "file_extension": ".py",
   "mimetype": "text/x-python",
   "name": "python",
   "nbconvert_exporter": "python",
   "pygments_lexer": "ipython3",
   "version": "3.13.5"
  }
 },
 "nbformat": 4,
 "nbformat_minor": 5
}
