{
 "cells": [
  {
   "cell_type": "markdown",
   "id": "5fee0346",
   "metadata": {},
   "source": [
    "# Task: Multidimensional Array Slicer\n",
    "\n",
    "## Problem Statement\n",
    "Write a Python function that takes a **multidimensional NumPy array** and slices the **first two elements from the third dimension**. This is useful when you want to reduce or extract specific components from a 3D dataset (e.g., images, tensors, etc.).\n",
    "\n",
    "## Steps\n",
    "1. Import the `numpy` module as `np`.\n",
    "2. Define a function `slice_third_dimension(arr)`:\n",
    "   - Use NumPy slicing syntax `arr[..., :2]` to retain all rows and columns, but slice only the **first two elements** of the third axis.\n",
    "3. Create a sample 3D NumPy array (`nums`) for demonstration.\n",
    "4. Call the slicing function and print both the **original** and the **sliced** array to observe the transformation.\n"
   ]
  },
  {
   "cell_type": "code",
   "execution_count": 1,
   "id": "ac224603",
   "metadata": {},
   "outputs": [],
   "source": [
    "import numpy as np"
   ]
  },
  {
   "cell_type": "code",
   "execution_count": 2,
   "id": "31197e0a",
   "metadata": {},
   "outputs": [],
   "source": [
    "def slice_third_dimension(arr):\n",
    "    return arr[..., :2]"
   ]
  },
  {
   "cell_type": "code",
   "execution_count": 3,
   "id": "81856ad3",
   "metadata": {},
   "outputs": [],
   "source": [
    "nums = np.array([[[1, 2, 3], [4, 5, 6]],\n",
    "                           [[7, 8, 9], [10, 11, 12]],\n",
    "                           [[13, 14, 15], [16, 17, 18]]])"
   ]
  },
  {
   "cell_type": "code",
   "execution_count": 4,
   "id": "62ae928d",
   "metadata": {},
   "outputs": [
    {
     "name": "stdout",
     "output_type": "stream",
     "text": [
      "Original multidimensional array:\n",
      "[[[ 1  2  3]\n",
      "  [ 4  5  6]]\n",
      "\n",
      " [[ 7  8  9]\n",
      "  [10 11 12]]\n",
      "\n",
      " [[13 14 15]\n",
      "  [16 17 18]]]\n"
     ]
    }
   ],
   "source": [
    "print(\"Original multidimensional array:\")\n",
    "print(nums)"
   ]
  },
  {
   "cell_type": "code",
   "execution_count": 5,
   "id": "c5401266",
   "metadata": {},
   "outputs": [],
   "source": [
    "sliced_array = slice_third_dimension(nums)"
   ]
  },
  {
   "cell_type": "code",
   "execution_count": 6,
   "id": "708e3ca2",
   "metadata": {},
   "outputs": [
    {
     "name": "stdout",
     "output_type": "stream",
     "text": [
      "\n",
      "Slices the first two elements from the said array:\n",
      "[[[ 1  2]\n",
      "  [ 4  5]]\n",
      "\n",
      " [[ 7  8]\n",
      "  [10 11]]\n",
      "\n",
      " [[13 14]\n",
      "  [16 17]]]\n"
     ]
    }
   ],
   "source": [
    "print(\"\\nSlices the first two elements from the said array:\")\n",
    "print(sliced_array)"
   ]
  }
 ],
 "metadata": {
  "kernelspec": {
   "display_name": "base",
   "language": "python",
   "name": "python3"
  },
  "language_info": {
   "codemirror_mode": {
    "name": "ipython",
    "version": 3
   },
   "file_extension": ".py",
   "mimetype": "text/x-python",
   "name": "python",
   "nbconvert_exporter": "python",
   "pygments_lexer": "ipython3",
   "version": "3.13.5"
  }
 },
 "nbformat": 4,
 "nbformat_minor": 5
}
