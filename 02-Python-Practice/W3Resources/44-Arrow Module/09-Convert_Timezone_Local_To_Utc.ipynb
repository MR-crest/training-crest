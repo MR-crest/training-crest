{
 "cells": [
  {
   "cell_type": "markdown",
   "id": "6f7278ba",
   "metadata": {},
   "source": [
    "# Task: Convert Timezone from Local to UTC, UTC to Local, or Specified Zones\n",
    "\n",
    "## Problem Statement:\n",
    "Write a Python program to convert timezones from local to UTC, UTC to local, or to any specified timezone using the Arrow library.\n",
    "\n",
    "## Steps:\n",
    "1. Install the `arrow` package by running `pip install arrow`.\n",
    "2. Use `arrow.utcnow()` to get the current UTC time.\n",
    "3. Convert UTC to local time using `.to('local')`.\n",
    "4. Convert local time back to UTC using `.to('utc')`.\n",
    "5. Convert the time to any specific timezone using `.to('US/Pacific')`."
   ]
  },
  {
   "cell_type": "code",
   "execution_count": 1,
   "id": "f8983295",
   "metadata": {},
   "outputs": [],
   "source": [
    "import arrow"
   ]
  },
  {
   "cell_type": "code",
   "execution_count": 2,
   "id": "f0f71d08",
   "metadata": {},
   "outputs": [],
   "source": [
    "def get_utc_time():\n",
    "    return arrow.utcnow()"
   ]
  },
  {
   "cell_type": "code",
   "execution_count": 3,
   "id": "852bbc1b",
   "metadata": {},
   "outputs": [],
   "source": [
    "def convert_utc_to_local(utc_time):\n",
    "    return utc_time.to('local')"
   ]
  },
  {
   "cell_type": "code",
   "execution_count": 4,
   "id": "84b2944a",
   "metadata": {},
   "outputs": [],
   "source": [
    "def convert_local_to_utc(local_time):\n",
    "    return local_time.to('utc')"
   ]
  },
  {
   "cell_type": "code",
   "execution_count": 5,
   "id": "b9cf9e0a",
   "metadata": {},
   "outputs": [],
   "source": [
    "def convert_utc_to_specified_location(utc_time, location):\n",
    "    return utc_time.to(location)"
   ]
  },
  {
   "cell_type": "code",
   "execution_count": 6,
   "id": "35cfccb3",
   "metadata": {},
   "outputs": [],
   "source": [
    "def print_time_conversions():\n",
    "    utc_time = get_utc_time()\n",
    "    \n",
    "    print(\"UTC Time:\")\n",
    "    print(utc_time)\n",
    "    \n",
    "    local_time = convert_utc_to_local(utc_time)\n",
    "    print(\"\\nUTC to Local Time:\")\n",
    "    print(local_time)\n",
    "    \n",
    "    utc_from_local = convert_local_to_utc(local_time)\n",
    "    print(\"\\nLocal Time back to UTC:\")\n",
    "    print(utc_from_local)\n",
    "    \n",
    "    pacific_time = convert_utc_to_specified_location(utc_time, 'US/Pacific')\n",
    "    print(\"\\nUTC to US/Pacific Time:\")\n",
    "    print(pacific_time)\n"
   ]
  },
  {
   "cell_type": "code",
   "execution_count": 7,
   "id": "eed1361b",
   "metadata": {},
   "outputs": [
    {
     "name": "stdout",
     "output_type": "stream",
     "text": [
      "UTC Time:\n",
      "2025-07-28T06:50:29.168930+00:00\n",
      "\n",
      "UTC to Local Time:\n",
      "2025-07-28T12:20:29.168930+05:30\n",
      "\n",
      "Local Time back to UTC:\n",
      "2025-07-28T06:50:29.168930+00:00\n",
      "\n",
      "UTC to US/Pacific Time:\n",
      "2025-07-27T23:50:29.168930-07:00\n"
     ]
    }
   ],
   "source": [
    "print_time_conversions()"
   ]
  }
 ],
 "metadata": {
  "kernelspec": {
   "display_name": "base",
   "language": "python",
   "name": "python3"
  },
  "language_info": {
   "codemirror_mode": {
    "name": "ipython",
    "version": 3
   },
   "file_extension": ".py",
   "mimetype": "text/x-python",
   "name": "python",
   "nbconvert_exporter": "python",
   "pygments_lexer": "ipython3",
   "version": "3.13.5"
  }
 },
 "nbformat": 4,
 "nbformat_minor": 5
}
