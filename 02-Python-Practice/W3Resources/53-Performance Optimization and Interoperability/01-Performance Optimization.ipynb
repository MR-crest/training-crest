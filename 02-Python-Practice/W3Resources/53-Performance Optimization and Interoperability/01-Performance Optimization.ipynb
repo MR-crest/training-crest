{
 "cells": [
  {
   "cell_type": "code",
   "execution_count": 1,
   "id": "a39eb830-a18e-4fa9-92e9-e3c9522093bc",
   "metadata": {},
   "outputs": [
    {
     "name": "stdout",
     "output_type": "stream",
     "text": [
      "Sum using nested for loops: 499112.56745059777\n",
      "Sum using NumPy's built-in function: 499112.5674505899\n"
     ]
    }
   ],
   "source": [
    "import numpy as np\n",
    "\n",
    "large_array = np.random.rand(100, 100, 100)\n",
    "\n",
    "def sum_using_loops(array):\n",
    "    total_sum = 0.0\n",
    "    for i in range(array.shape[0]):\n",
    "        for j in range(array.shape[1]):\n",
    "            for k in range(array.shape[2]):\n",
    "                total_sum += array[i, j, k]\n",
    "    return total_sum\n",
    "\n",
    "sum_loop = sum_using_loops(large_array)\n",
    "print(\"Sum using nested for loops:\", sum_loop)\n",
    "\n",
    "sum_numpy = np.sum(large_array)\n",
    "print(\"Sum using NumPy's built-in function:\", sum_numpy)"
   ]
  },
  {
   "cell_type": "code",
   "execution_count": 2,
   "id": "ddfdc60c-496f-44d0-8b18-f3cc1fc05d0a",
   "metadata": {},
   "outputs": [
    {
     "name": "stdout",
     "output_type": "stream",
     "text": [
      "Original Python tuple: (1, 2, 3, 4, 5)\n",
      "Type: <class 'tuple'>\n",
      "\n",
      "Python tuple to a NumPy array:\n",
      "[1 2 3 4 5]\n",
      "Type: <class 'numpy.ndarray'>\n"
     ]
    }
   ],
   "source": [
    "import numpy as np\n",
    "\n",
    "python_tuple = (1, 2, 3, 4, 5)\n",
    "print(\"Original Python tuple:\",python_tuple)\n",
    "print(\"Type:\",type(python_tuple))\n",
    "\n",
    "numpy_array = np.array(python_tuple)\n",
    "print(\"\\nPython tuple to a NumPy array:\")\n",
    "\n",
    "print(numpy_array)\n",
    "print(\"Type:\",type(numpy_array))"
   ]
  },
  {
   "cell_type": "code",
   "execution_count": null,
   "id": "e5383f21-d24e-44f7-ab29-cd7e46dc29b6",
   "metadata": {},
   "outputs": [],
   "source": []
  }
 ],
 "metadata": {
  "kernelspec": {
   "display_name": "Python 3 (ipykernel)",
   "language": "python",
   "name": "python3"
  },
  "language_info": {
   "codemirror_mode": {
    "name": "ipython",
    "version": 3
   },
   "file_extension": ".py",
   "mimetype": "text/x-python",
   "name": "python",
   "nbconvert_exporter": "python",
   "pygments_lexer": "ipython3",
   "version": "3.13.5"
  }
 },
 "nbformat": 4,
 "nbformat_minor": 5
}
