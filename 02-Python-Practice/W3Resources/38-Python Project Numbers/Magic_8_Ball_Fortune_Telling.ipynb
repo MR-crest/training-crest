{
 "cells": [
  {
   "cell_type": "markdown",
   "id": "1931e871",
   "metadata": {},
   "source": [
    "# Task: Magic 8 Ball for Fortune-Telling or Seeking Advice\n",
    "\n",
    "## Problem Statement:\n",
    "Create a Python project that simulates a Magic 8 Ball, a toy used for fortune-telling or seeking advice. The program should allow the user to input their question and then show a random response from a set of predefined answers. The user should have the option to ask another question or quit the game.\n",
    "\n",
    "## Steps:\n",
    "1. **Prompt the user for a question** they want to ask the Magic 8 Ball.\n",
    "2. **Display an \"in-progress\" message** like \"Thinking...\" while generating a response.\n",
    "3. **Create a list of 10 to 20 responses** that the Magic 8 Ball can give, such as \"Yes\", \"No\", \"Maybe\", \"Ask again later\", etc.\n",
    "4. **Randomly select a response** from the list using Python’s `random.choice()` method.\n",
    "5. **Display the chosen response** to the user.\n",
    "6. **Ask if the user wants to ask another question** or quit the game. Repeat the process until the user decides to quit.\n"
   ]
  },
  {
   "cell_type": "code",
   "execution_count": 1,
   "id": "10e00421",
   "metadata": {},
   "outputs": [],
   "source": [
    "import random"
   ]
  },
  {
   "cell_type": "code",
   "execution_count": 2,
   "id": "ebce0e84",
   "metadata": {},
   "outputs": [],
   "source": [
    "answers = ['It is certain', 'It is decidedly so', 'Without a doubt', 'Yes – definitely', 'You may rely on it', 'As I see it, yes', 'Most likely', 'Outlook good', 'Yes Signs point to yes', 'Reply hazy', 'try again', 'Ask again later', 'Better not tell you now', 'Cannot predict now', 'Concentrate and ask again', 'Dont count on it', 'My reply is no', 'My sources say no', 'Outlook not so good', 'Very doubtful']"
   ]
  },
  {
   "cell_type": "code",
   "execution_count": 3,
   "id": "bc694aab",
   "metadata": {},
   "outputs": [
    {
     "name": "stdout",
     "output_type": "stream",
     "text": [
      "  __  __          _____ _____ _____    ___  \n",
      " |  \\/  |   /\\   / ____|_   _/ ____|  / _ \\ \n",
      " | \\  / |  /  \\ | |  __  | || |      | (_) |\n",
      " | |\\/| | / /\\ \\| | |_ | | || |       > _ < \n",
      " | |  | |/ ____ \\ |__| |_| || |____  | (_) |\n",
      " |_|  |_/_/    \\_\\_____|_____\\_____|  \\___/ \n",
      "\n",
      "\n",
      "\n",
      "Hello World, I am the Magic 8 Ball, What is your name?\n",
      "hello MR\n"
     ]
    }
   ],
   "source": [
    "print('  __  __          _____ _____ _____    ___  ')\n",
    "print(' |  \\/  |   /\\   / ____|_   _/ ____|  / _ \\ ')\n",
    "print(' | \\  / |  /  \\ | |  __  | || |      | (_) |')\n",
    "print(' | |\\/| | / /\\ \\| | |_ | | || |       > _ < ')\n",
    "print(' | |  | |/ ____ \\ |__| |_| || |____  | (_) |')\n",
    "print(' |_|  |_/_/    \\_\\_____|_____\\_____|  \\___/ ')\n",
    "print('')\n",
    "print('')\n",
    "print('')\n",
    "print('Hello World, I am the Magic 8 Ball, What is your name?')\n",
    "name = input()\n",
    "print('hello ' + name)"
   ]
  },
  {
   "cell_type": "code",
   "execution_count": 4,
   "id": "c856136a",
   "metadata": {},
   "outputs": [],
   "source": [
    "def Magic8Ball():\n",
    "    print('Ask me a question.')\n",
    "    input()\n",
    "    print (answers[random.randint(0, len(answers)-1)] )\n",
    "    print('I hope that helped!')\n",
    "    Replay()"
   ]
  },
  {
   "cell_type": "code",
   "execution_count": 5,
   "id": "d2718b96",
   "metadata": {},
   "outputs": [],
   "source": [
    "def Replay():\n",
    "    print ('Do you have another question? [Y/N] ')\n",
    "    reply = input()\n",
    "    if reply == 'Y':\n",
    "        Magic8Ball()\n",
    "    elif reply == 'N':\n",
    "        exit()\n",
    "    else:\n",
    "        print('I apologies, I did not catch that. Please repeat.')\n",
    "        Replay()"
   ]
  },
  {
   "cell_type": "code",
   "execution_count": null,
   "id": "d53f915d",
   "metadata": {},
   "outputs": [
    {
     "name": "stdout",
     "output_type": "stream",
     "text": [
      "Ask me a question.\n",
      "Outlook not so good\n",
      "I hope that helped!\n",
      "Do you have another question? [Y/N] \n"
     ]
    },
    {
     "ename": "",
     "evalue": "",
     "output_type": "error",
     "traceback": [
      "\u001b[1;31mThe Kernel crashed while executing code in the current cell or a previous cell. \n",
      "\u001b[1;31mPlease review the code in the cell(s) to identify a possible cause of the failure. \n",
      "\u001b[1;31mClick <a href='https://aka.ms/vscodeJupyterKernelCrash'>here</a> for more info. \n",
      "\u001b[1;31mView Jupyter <a href='command:jupyter.viewOutput'>log</a> for further details."
     ]
    }
   ],
   "source": [
    "Magic8Ball()"
   ]
  }
 ],
 "metadata": {
  "kernelspec": {
   "display_name": "base",
   "language": "python",
   "name": "python3"
  },
  "language_info": {
   "codemirror_mode": {
    "name": "ipython",
    "version": 3
   },
   "file_extension": ".py",
   "mimetype": "text/x-python",
   "name": "python",
   "nbconvert_exporter": "python",
   "pygments_lexer": "ipython3",
   "version": "3.13.5"
  }
 },
 "nbformat": 4,
 "nbformat_minor": 5
}
