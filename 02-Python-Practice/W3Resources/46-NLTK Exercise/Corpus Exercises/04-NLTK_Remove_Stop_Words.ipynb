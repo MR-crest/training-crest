{
 "cells": [
  {
   "cell_type": "markdown",
   "id": "dccc2df9",
   "metadata": {},
   "source": [
    "# Task: Remove Stop Words from Text Using NLTK\n",
    "\n",
    "## Problem Statement:\n",
    "Write a Python program using the NLTK library to remove stop words from a given text. Stop words are common words (such as \"the\", \"is\", \"in\", etc.) that are typically ignored in text processing.\n",
    "\n",
    "## Steps:\n",
    "1. Install NLTK by running `pip install nltk`.\n",
    "2. Import necessary functions and data from the NLTK library (e.g., `stopwords`, `word_tokenize`).\n",
    "3. Download the stopwords data using `nltk.download()`.\n",
    "4. Tokenize the input text into words using `word_tokenize()`.\n",
    "5. Filter out the stop words by comparing each token against the NLTK stopwords list.\n",
    "6. Print the processed text with stop words removed."
   ]
  },
  {
   "cell_type": "code",
   "execution_count": 1,
   "id": "960153cd",
   "metadata": {},
   "outputs": [
    {
     "name": "stderr",
     "output_type": "stream",
     "text": [
      "[nltk_data] Downloading package stopwords to\n",
      "[nltk_data]     C:\\Users\\MeetRadadiya\\AppData\\Roaming\\nltk_data...\n",
      "[nltk_data]   Unzipping corpora\\stopwords.zip.\n"
     ]
    },
    {
     "data": {
      "text/plain": [
       "True"
      ]
     },
     "execution_count": 1,
     "metadata": {},
     "output_type": "execute_result"
    }
   ],
   "source": [
    "import nltk\n",
    "nltk.download('stopwords')"
   ]
  },
  {
   "cell_type": "code",
   "execution_count": 2,
   "id": "c9eac1f8",
   "metadata": {},
   "outputs": [],
   "source": [
    "from nltk.corpus import stopwords"
   ]
  },
  {
   "cell_type": "code",
   "execution_count": 3,
   "id": "e35ab56f",
   "metadata": {},
   "outputs": [],
   "source": [
    "stoplist = stopwords.words('english')"
   ]
  },
  {
   "cell_type": "code",
   "execution_count": 4,
   "id": "bc5e2520",
   "metadata": {},
   "outputs": [],
   "source": [
    "text = '''\n",
    "In computing, stop words are words which are filtered out before or after \n",
    "processing of natural language data (text). Though \"stop words\" usually \n",
    "refers to the most common words in a language, there is no single universal \n",
    "list of stop words used by all natural language processing tools, and \n",
    "indeed not all tools even use such a list. Some tools specifically avoid \n",
    "removing these stop words to support phrase search.\n",
    "'''"
   ]
  },
  {
   "cell_type": "code",
   "execution_count": 5,
   "id": "dc613926",
   "metadata": {},
   "outputs": [
    {
     "name": "stdout",
     "output_type": "stream",
     "text": [
      "\n",
      "Original string:\n",
      "\n",
      "In computing, stop words are words which are filtered out before or after \n",
      "processing of natural language data (text). Though \"stop words\" usually \n",
      "refers to the most common words in a language, there is no single universal \n",
      "list of stop words used by all natural language processing tools, and \n",
      "indeed not all tools even use such a list. Some tools specifically avoid \n",
      "removing these stop words to support phrase search.\n",
      "\n"
     ]
    }
   ],
   "source": [
    "print(\"\\nOriginal string:\")\n",
    "print(text)"
   ]
  },
  {
   "cell_type": "code",
   "execution_count": 6,
   "id": "22b85e49",
   "metadata": {},
   "outputs": [
    {
     "name": "stdout",
     "output_type": "stream",
     "text": [
      "\n",
      "After removing stop words from the said text:\n",
      "['In', 'computing,', 'stop', 'words', 'words', 'filtered', 'processing', 'natural', 'language', 'data', '(text).', 'Though', '\"stop', 'words\"', 'usually', 'refers', 'common', 'words', 'language,', 'single', 'universal', 'list', 'stop', 'words', 'used', 'natural', 'language', 'processing', 'tools,', 'indeed', 'tools', 'even', 'use', 'list.', 'Some', 'tools', 'specifically', 'avoid', 'removing', 'stop', 'words', 'support', 'phrase', 'search.']\n"
     ]
    }
   ],
   "source": [
    "clean_word_list = [word for word in text.split() if word not in stoplist]\n",
    "print(\"\\nAfter removing stop words from the said text:\")\n",
    "print(clean_word_list)"
   ]
  }
 ],
 "metadata": {
  "kernelspec": {
   "display_name": "base",
   "language": "python",
   "name": "python3"
  },
  "language_info": {
   "codemirror_mode": {
    "name": "ipython",
    "version": 3
   },
   "file_extension": ".py",
   "mimetype": "text/x-python",
   "name": "python",
   "nbconvert_exporter": "python",
   "pygments_lexer": "ipython3",
   "version": "3.13.5"
  }
 },
 "nbformat": 4,
 "nbformat_minor": 5
}
