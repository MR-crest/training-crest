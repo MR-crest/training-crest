{
 "cells": [
  {
   "cell_type": "code",
   "execution_count": 1,
   "id": "21bf3433-6e9f-42df-8b5f-760cffb4dfb1",
   "metadata": {},
   "outputs": [
    {
     "name": "stdout",
     "output_type": "stream",
     "text": [
      "3x3 identity matrix:\n",
      "[[1. 0. 0.]\n",
      " [0. 1. 0.]\n",
      " [0. 0. 1.]]\n",
      "Vertical Stack:\n",
      " [[1. 0. 0.]\n",
      " [0. 1. 0.]\n",
      " [0. 0. 1.]\n",
      " [1. 0. 0.]\n",
      " [0. 1. 0.]\n",
      " [0. 0. 1.]\n",
      " [1. 0. 0.]\n",
      " [0. 1. 0.]\n",
      " [0. 0. 1.]]\n",
      "Horizontal Stack:\n",
      " [[1. 0. 0. 1. 0. 0. 1. 0. 0.]\n",
      " [0. 1. 0. 0. 1. 0. 0. 1. 0.]\n",
      " [0. 0. 1. 0. 0. 1. 0. 0. 1.]]\n"
     ]
    }
   ],
   "source": [
    "import numpy as np\n",
    "\n",
    "matrix = np.identity(3)\n",
    "print(\"3x3 identity matrix:\")\n",
    "print(matrix)\n",
    "\n",
    "vert_stack = np.vstack((matrix, matrix, matrix))\n",
    "\n",
    "horz_stack = np.hstack((matrix, matrix, matrix))\n",
    "print(\"Vertical Stack:\\n\", vert_stack)\n",
    "print(\"Horizontal Stack:\\n\", horz_stack)"
   ]
  },
  {
   "cell_type": "code",
   "execution_count": 2,
   "id": "2fd38b4a-4b12-443d-9bfa-a09dd3447347",
   "metadata": {},
   "outputs": [
    {
     "name": "stdout",
     "output_type": "stream",
     "text": [
      "[[0.83434697 0.72450826 0.38358792 0.82762704]\n",
      " [0.1064208  0.27276706 0.1064208  0.62490058]\n",
      " [0.51928544 0.89155091 0.56529199 0.61221487]]\n"
     ]
    }
   ],
   "source": [
    "import numpy as np\n",
    "\n",
    "matrix = np.random.random((3, 4))\n",
    "\n",
    "max_value_index = np.unravel_index(np.argmax(matrix), matrix.shape)\n",
    "min_value = np.min(matrix)\n",
    "\n",
    "matrix[max_value_index] = min_value\n",
    "\n",
    "print(matrix)"
   ]
  },
  {
   "cell_type": "code",
   "execution_count": null,
   "id": "0ed3232d-2f56-4167-8d57-a0259ed4ce62",
   "metadata": {},
   "outputs": [],
   "source": []
  }
 ],
 "metadata": {
  "kernelspec": {
   "display_name": "Python 3 (ipykernel)",
   "language": "python",
   "name": "python3"
  },
  "language_info": {
   "codemirror_mode": {
    "name": "ipython",
    "version": 3
   },
   "file_extension": ".py",
   "mimetype": "text/x-python",
   "name": "python",
   "nbconvert_exporter": "python",
   "pygments_lexer": "ipython3",
   "version": "3.13.5"
  }
 },
 "nbformat": 4,
 "nbformat_minor": 5
}
