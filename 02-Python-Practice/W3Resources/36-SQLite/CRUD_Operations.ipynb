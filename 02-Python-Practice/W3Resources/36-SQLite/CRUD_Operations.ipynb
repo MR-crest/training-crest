{
 "cells": [
  {
   "cell_type": "markdown",
   "id": "cbbcc0b1",
   "metadata": {},
   "source": [
    "# Task: Create Table and Insert Records\n",
    "\n",
    "## Problem Statement:\n",
    "Write a Python program to:\n",
    "1. Create a table in a database.\n",
    "2. Insert records into the table.\n",
    "3. Select all rows from the table and display the records.\n",
    "\n",
    "## Steps:\n",
    "1. **Import the `sqlite3` module** (or another database module of your choice) to interact with a database.\n",
    "2. **Connect to a database** (either a new or existing one).\n",
    "3. **Create a table** with appropriate columns using SQL `CREATE TABLE` statement.\n",
    "4. **Insert records** into the table using SQL `INSERT INTO` statement.\n",
    "5. **Select all rows** from the table using SQL `SELECT *` statement and fetch the results.\n",
    "6. **Display the records** on the screen.\n"
   ]
  },
  {
   "cell_type": "code",
   "execution_count": 1,
   "id": "8a8b6e38",
   "metadata": {},
   "outputs": [],
   "source": [
    "import sqlite3\n",
    "from sqlite3 import Error"
   ]
  },
  {
   "cell_type": "code",
   "execution_count": 2,
   "id": "e50bde61",
   "metadata": {},
   "outputs": [],
   "source": [
    "def sql_connection():\n",
    "   try:\n",
    "     conn = sqlite3.connect('mydatabase.db')\n",
    "     return conn\n",
    "   except Error:\n",
    "     print(Error)"
   ]
  },
  {
   "cell_type": "code",
   "execution_count": 3,
   "id": "9daa0551",
   "metadata": {},
   "outputs": [],
   "source": [
    "def create_table(conn):\n",
    "   cursorObj = conn.cursor()\n",
    "   cursorObj.execute(\"CREATE TABLE IF NOT EXISTS salesman(salesman_id INTEGER PRIMARY KEY, name TEXT, city TEXT, commission REAL);\")\n",
    "   conn.commit()"
   ]
  },
  {
   "cell_type": "code",
   "execution_count": 4,
   "id": "693d922b",
   "metadata": {},
   "outputs": [],
   "source": [
    "def insert_record(conn, salesman_id, name, city, commission):\n",
    "   cursorObj = conn.cursor()\n",
    "   cursorObj.execute(\"INSERT INTO salesman (salesman_id, name, city, commission) VALUES (?, ?, ?, ?)\", \n",
    "                     (salesman_id, name, city, commission))\n",
    "   conn.commit()"
   ]
  },
  {
   "cell_type": "code",
   "execution_count": 5,
   "id": "eef372bb",
   "metadata": {},
   "outputs": [],
   "source": [
    "def read_records(conn):\n",
    "   cursorObj = conn.cursor()\n",
    "   cursorObj.execute(\"SELECT * FROM salesman\")\n",
    "   rows = cursorObj.fetchall()\n",
    "   print(\"Agent details:\")\n",
    "   for row in rows:\n",
    "       print(row)"
   ]
  },
  {
   "cell_type": "code",
   "execution_count": 6,
   "id": "c3db434a",
   "metadata": {},
   "outputs": [],
   "source": [
    "def update_record(conn, salesman_id, name, city, commission):\n",
    "   cursorObj = conn.cursor()\n",
    "   cursorObj.execute(\"UPDATE salesman SET name = ?, city = ?, commission = ? WHERE salesman_id = ?\", \n",
    "                     (name, city, commission, salesman_id))\n",
    "   conn.commit()"
   ]
  },
  {
   "cell_type": "code",
   "execution_count": 7,
   "id": "cadb1715",
   "metadata": {},
   "outputs": [],
   "source": [
    "def delete_record(conn, salesman_id):\n",
    "   cursorObj = conn.cursor()\n",
    "   cursorObj.execute(\"DELETE FROM salesman WHERE salesman_id = ?\", (salesman_id,))\n",
    "   conn.commit()"
   ]
  },
  {
   "cell_type": "code",
   "execution_count": 8,
   "id": "7460b986",
   "metadata": {},
   "outputs": [],
   "source": [
    "def main():\n",
    "   sqllite_conn = sql_connection()\n",
    "   \n",
    "   if sqllite_conn:\n",
    "       create_table(sqllite_conn)\n",
    "\n",
    "       insert_record(sqllite_conn, 5001, 'James Hoog', 'New York', 0.15)\n",
    "       insert_record(sqllite_conn, 5002, 'Nail Knite', 'Paris', 0.25)\n",
    "       insert_record(sqllite_conn, 5003, 'Pit Alex', 'London', 0.15)\n",
    "       \n",
    "       read_records(sqllite_conn)\n",
    "       \n",
    "       update_record(sqllite_conn, 5001, 'James Hoog', 'San Francisco', 0.20)\n",
    "       print(\"\\nAfter update:\")\n",
    "       read_records(sqllite_conn)\n",
    "       \n",
    "       delete_record(sqllite_conn, 5002)\n",
    "       print(\"\\nAfter deletion:\")\n",
    "       read_records(sqllite_conn)\n",
    "\n",
    "       sqllite_conn.close()\n",
    "       print(\"\\nThe SQLite connection is closed.\")"
   ]
  },
  {
   "cell_type": "code",
   "execution_count": 9,
   "id": "b1d8376d",
   "metadata": {},
   "outputs": [
    {
     "name": "stdout",
     "output_type": "stream",
     "text": [
      "Agent details:\n",
      "(5001, 'James Hoog', 'New York', 0.15)\n",
      "(5002, 'Nail Knite', 'Paris', 0.25)\n",
      "(5003, 'Pit Alex', 'London', 0.15)\n",
      "\n",
      "After update:\n",
      "Agent details:\n",
      "(5001, 'James Hoog', 'San Francisco', 0.2)\n",
      "(5002, 'Nail Knite', 'Paris', 0.25)\n",
      "(5003, 'Pit Alex', 'London', 0.15)\n",
      "\n",
      "After deletion:\n",
      "Agent details:\n",
      "(5001, 'James Hoog', 'San Francisco', 0.2)\n",
      "(5003, 'Pit Alex', 'London', 0.15)\n",
      "\n",
      "The SQLite connection is closed.\n"
     ]
    }
   ],
   "source": [
    "if __name__ == \"__main__\":\n",
    "   main()"
   ]
  }
 ],
 "metadata": {
  "kernelspec": {
   "display_name": "base",
   "language": "python",
   "name": "python3"
  },
  "language_info": {
   "codemirror_mode": {
    "name": "ipython",
    "version": 3
   },
   "file_extension": ".py",
   "mimetype": "text/x-python",
   "name": "python",
   "nbconvert_exporter": "python",
   "pygments_lexer": "ipython3",
   "version": "3.13.5"
  }
 },
 "nbformat": 4,
 "nbformat_minor": 5
}
