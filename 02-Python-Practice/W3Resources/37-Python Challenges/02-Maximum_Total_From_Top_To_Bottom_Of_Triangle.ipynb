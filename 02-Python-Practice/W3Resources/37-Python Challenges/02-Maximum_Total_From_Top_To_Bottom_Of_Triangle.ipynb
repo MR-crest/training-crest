{
 "cells": [
  {
   "cell_type": "markdown",
   "id": "e4e7457d",
   "metadata": {},
   "source": [
    "# Task: Find the maximum total from top to bottom of the triangle below\n",
    "\n",
    "## Problem Statement:\n",
    "Given a triangle, write a Python program to find the maximum total from top to bottom. Starting from the top of the triangle, you can only move to adjacent numbers on the row below. Find the maximum total possible.\n",
    "\n",
    "For example, in the triangle below:\n",
    "\n",
    "      3\n",
    "     7 4\n",
    "    2 4 6\n",
    "   8 5 9 3\n",
    "\n",
    "\n",
    "The maximum total from top to bottom is 23 (3 + 7 + 4 + 9).\n",
    "\n",
    "## Steps:\n",
    "1. **Represent the triangle as a list of lists** in Python.\n",
    "2. **Start from the second-last row** and move upwards. For each element, calculate the maximum sum from the adjacent elements below.\n",
    "3. **Update the current element** to reflect the sum of the maximum adjacent path.\n",
    "4. **Return the value of the top element** after processing all rows, which will hold the maximum total.\n"
   ]
  },
  {
   "cell_type": "code",
   "execution_count": 1,
   "id": "75658d06",
   "metadata": {},
   "outputs": [],
   "source": [
    "def digits_sum():\n",
    "\tfor i in reversed(range(len(triangle_num) - 1)):\n",
    "\t\tfor j in range(len(triangle_num[i])):\n",
    "\t\t\ttriangle_num[i][j] += max(triangle_num[i + 1][j], triangle_num[i + 1][j + 1])\n",
    "\treturn str(triangle_num[0][0])"
   ]
  },
  {
   "cell_type": "code",
   "execution_count": 2,
   "id": "e6803a62",
   "metadata": {},
   "outputs": [],
   "source": [
    "triangle_num = [\n",
    "\t[75],\n",
    "\t[95,64],\n",
    "\t[17,47,82],\n",
    "\t[18,35,87,10],\n",
    "\t[20, 4,82,47,65],\n",
    "\t[19, 1,23,75, 3,34],\n",
    "\t[88, 2,77,73, 7,63,67],\n",
    "\t[99,65, 4,28, 6,16,70,92],\n",
    "\t[41,41,26,56,83,40,80,70,33],\n",
    "\t[41,48,72,33,47,32,37,16,94,29],\n",
    "\t[53,71,44,65,25,43,91,52,97,51,14],\n",
    "\t[70,11,33,28,77,73,17,78,39,68,17,57],\n",
    "\t[91,71,52,38,17,14,91,43,58,50,27,29,48],\n",
    "\t[63,66, 4,68,89,53,67,30,73,16,69,87,40,31],\n",
    "\t[ 4,62,98,27,23, 9,70,98,73,93,38,53,60, 4,23],\n",
    "]"
   ]
  },
  {
   "cell_type": "code",
   "execution_count": 3,
   "id": "3ab59e35",
   "metadata": {},
   "outputs": [
    {
     "name": "stdout",
     "output_type": "stream",
     "text": [
      "1074\n"
     ]
    }
   ],
   "source": [
    "print(digits_sum())"
   ]
  }
 ],
 "metadata": {
  "kernelspec": {
   "display_name": "base",
   "language": "python",
   "name": "python3"
  },
  "language_info": {
   "codemirror_mode": {
    "name": "ipython",
    "version": 3
   },
   "file_extension": ".py",
   "mimetype": "text/x-python",
   "name": "python",
   "nbconvert_exporter": "python",
   "pygments_lexer": "ipython3",
   "version": "3.13.5"
  }
 },
 "nbformat": 4,
 "nbformat_minor": 5
}
