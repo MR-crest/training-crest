{
 "cells": [
  {
   "cell_type": "markdown",
   "id": "9a89588c",
   "metadata": {},
   "source": [
    "# Task: Compute the sum of all the multiples of 3 or 5 below 500\n",
    "\n",
    "## Problem Statement:\n",
    "Write a Python program to compute the sum of all multiples of 3 or 5 below the number 500.\n",
    "\n",
    "## Steps:\n",
    "1. Loop through all numbers from 1 to 499.\n",
    "2. Check if each number is divisible by either 3 or 5.\n",
    "3. Sum up all the numbers that are divisible by 3 or 5.\n"
   ]
  },
  {
   "cell_type": "code",
   "execution_count": 1,
   "id": "4618b9b2",
   "metadata": {},
   "outputs": [
    {
     "name": "stdout",
     "output_type": "stream",
     "text": [
      "57918\n"
     ]
    }
   ],
   "source": [
    "n = 0\n",
    "for i in range(1,500):\n",
    "     if not i % 5 or not i % 3:\n",
    "         n = n + i\n",
    "print(n)\n"
   ]
  }
 ],
 "metadata": {
  "kernelspec": {
   "display_name": "base",
   "language": "python",
   "name": "python3"
  },
  "language_info": {
   "codemirror_mode": {
    "name": "ipython",
    "version": 3
   },
   "file_extension": ".py",
   "mimetype": "text/x-python",
   "name": "python",
   "nbconvert_exporter": "python",
   "pygments_lexer": "ipython3",
   "version": "3.13.5"
  }
 },
 "nbformat": 4,
 "nbformat_minor": 5
}
