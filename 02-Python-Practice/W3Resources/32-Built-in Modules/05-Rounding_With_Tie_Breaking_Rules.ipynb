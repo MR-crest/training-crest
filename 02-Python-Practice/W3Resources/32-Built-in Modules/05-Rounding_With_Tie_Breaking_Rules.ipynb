{
 "cells": [
  {
   "cell_type": "markdown",
   "id": "43d2201a",
   "metadata": {},
   "source": [
    "# Task: Rounding with Tie-Breaking Rules\n",
    "\n",
    "## Problem Statement:\n",
    "Write a Python program that can round a floating-point number to the nearest integer using configurable tie-breaking rules. The program should allow rounding where ties go either **towards 0** or **away from 0** using `decimal.ROUND_HALF_DOWN` and `decimal.ROUND_HALF_UP`.\n",
    "\n",
    "## Steps:\n",
    "1. **Import the `decimal` module**: Use the `decimal` module to handle high precision arithmetic.\n",
    "2. **Create a function to round the number**: The function should take a floating-point number and a rounding method (`HALF_UP` or `HALF_DOWN`) to return the rounded value.\n",
    "3. **Test with sample numbers**: Demonstrate how rounding works with both rules (towards 0 and away from 0).\n"
   ]
  },
  {
   "cell_type": "code",
   "execution_count": 1,
   "id": "db28a415",
   "metadata": {},
   "outputs": [],
   "source": [
    "import decimal"
   ]
  },
  {
   "cell_type": "code",
   "execution_count": 2,
   "id": "b280d70b",
   "metadata": {},
   "outputs": [
    {
     "name": "stdout",
     "output_type": "stream",
     "text": [
      "Configure the rounding to round to the nearest, with ties going towards 0:\n"
     ]
    }
   ],
   "source": [
    "print(\"Configure the rounding to round to the nearest, with ties going towards 0:\")"
   ]
  },
  {
   "cell_type": "code",
   "execution_count": 3,
   "id": "0d8e711a",
   "metadata": {},
   "outputs": [],
   "source": [
    "decimal.getcontext().prec = 1"
   ]
  },
  {
   "cell_type": "code",
   "execution_count": 4,
   "id": "5bda8f6e",
   "metadata": {},
   "outputs": [],
   "source": [
    "decimal.getcontext().rounding = decimal.ROUND_HALF_DOWN"
   ]
  },
  {
   "cell_type": "code",
   "execution_count": 5,
   "id": "6306bf6e",
   "metadata": {},
   "outputs": [
    {
     "name": "stdout",
     "output_type": "stream",
     "text": [
      "2\n"
     ]
    }
   ],
   "source": [
    "print(decimal.Decimal(10) / decimal.Decimal(4))"
   ]
  },
  {
   "cell_type": "code",
   "execution_count": 6,
   "id": "0e4c3c94",
   "metadata": {},
   "outputs": [
    {
     "name": "stdout",
     "output_type": "stream",
     "text": [
      "\n",
      "Configure the rounding to round to the nearest, with ties going away from 0:\n"
     ]
    }
   ],
   "source": [
    "print(\"\\nConfigure the rounding to round to the nearest, with ties going away from 0:\")"
   ]
  },
  {
   "cell_type": "code",
   "execution_count": 7,
   "id": "51363cd8",
   "metadata": {},
   "outputs": [],
   "source": [
    "decimal.getcontext().prec = 1"
   ]
  },
  {
   "cell_type": "code",
   "execution_count": 8,
   "id": "30828f40",
   "metadata": {},
   "outputs": [],
   "source": [
    "decimal.getcontext().rounding = decimal.ROUND_HALF_UP"
   ]
  },
  {
   "cell_type": "code",
   "execution_count": 9,
   "id": "84b80411",
   "metadata": {},
   "outputs": [
    {
     "name": "stdout",
     "output_type": "stream",
     "text": [
      "3\n"
     ]
    }
   ],
   "source": [
    "print(decimal.Decimal(10) / decimal.Decimal(4))"
   ]
  }
 ],
 "metadata": {
  "kernelspec": {
   "display_name": "base",
   "language": "python",
   "name": "python3"
  },
  "language_info": {
   "codemirror_mode": {
    "name": "ipython",
    "version": 3
   },
   "file_extension": ".py",
   "mimetype": "text/x-python",
   "name": "python",
   "nbconvert_exporter": "python",
   "pygments_lexer": "ipython3",
   "version": "3.13.5"
  }
 },
 "nbformat": 4,
 "nbformat_minor": 5
}
