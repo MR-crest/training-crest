{
 "cells": [
  {
   "cell_type": "markdown",
   "id": "40af415f",
   "metadata": {},
   "source": [
    "# Task: Random Value Generation\n",
    "\n",
    "## Problem Statement:\n",
    "Write a Python program that generates:\n",
    "- A random color hex.\n",
    "- A random alphabetical string.\n",
    "- A random value between two integers (inclusive).\n",
    "- A random multiple of 7 between 0 and 70.\n",
    "\n",
    "## Steps:\n",
    "1. **Generate a random color hex**: Use `random.randint()` to generate a random integer between `0` and `0xFFFFFF`, then format it into a 6-digit hexadecimal string.\n",
    "2. **Generate a random alphabetical string**: Generate a random string of alphabets using `string.ascii_letters` and `random.choice()`, with a random length between 1 and 255.\n",
    "3. **Generate a random value between two integers (inclusive)**: Use `random.randint()` to generate a random value between a specified range.\n",
    "4. **Generate a random multiple of 7 between 0 and 70**: Use `random.randint()` to generate a random integer and then multiply it by 7 to get the desired multiple.\n"
   ]
  },
  {
   "cell_type": "code",
   "execution_count": 1,
   "id": "9ba358c6",
   "metadata": {},
   "outputs": [],
   "source": [
    "import random\n",
    "import string"
   ]
  },
  {
   "cell_type": "code",
   "execution_count": 2,
   "id": "709fc041",
   "metadata": {},
   "outputs": [
    {
     "name": "stdout",
     "output_type": "stream",
     "text": [
      "Generate a random color hex:\n",
      "#784822\n"
     ]
    }
   ],
   "source": [
    "print(\"Generate a random color hex:\")\n",
    "print(\"#{:06x}\".format(random.randint(0, 0xFFFFFF)))"
   ]
  },
  {
   "cell_type": "code",
   "execution_count": 3,
   "id": "018a35fc",
   "metadata": {},
   "outputs": [
    {
     "name": "stdout",
     "output_type": "stream",
     "text": [
      "\n",
      "Generate a random alphabetical string:\n",
      "qoZlkTUTwykabDHuTEHkfammKOxyGANlgyIfkqzVcVDHhUlrdRRZqDKqyATCYyOmKbfCIxVryXqmXOQuGojJmDCqcaoTwL\n"
     ]
    }
   ],
   "source": [
    "print(\"\\nGenerate a random alphabetical string:\")\n",
    "max_length = 255\n",
    "s = \"\"\n",
    "for i in range(random.randint(1, max_length)):\n",
    "    s += random.choice(string.ascii_letters)\n",
    "print(s)"
   ]
  },
  {
   "cell_type": "code",
   "execution_count": 4,
   "id": "470f3052",
   "metadata": {},
   "outputs": [
    {
     "name": "stdout",
     "output_type": "stream",
     "text": [
      "Generate a random value between two integers, inclusive:\n",
      "3\n",
      "3\n",
      "1\n"
     ]
    }
   ],
   "source": [
    "print(\"Generate a random value between two integers, inclusive:\")\n",
    "print(random.randint(0, 10))\n",
    "print(random.randint(-7, 7))\n",
    "print(random.randint(1, 1))"
   ]
  },
  {
   "cell_type": "code",
   "execution_count": 5,
   "id": "7fe8cbbf",
   "metadata": {},
   "outputs": [
    {
     "name": "stdout",
     "output_type": "stream",
     "text": [
      "Generate a random multiple of 7 between 0 and 70:\n",
      "35\n"
     ]
    }
   ],
   "source": [
    "print(\"Generate a random multiple of 7 between 0 and 70:\")\n",
    "print(random.randint(0, 10) * 7)"
   ]
  }
 ],
 "metadata": {
  "kernelspec": {
   "display_name": "base",
   "language": "python",
   "name": "python3"
  },
  "language_info": {
   "codemirror_mode": {
    "name": "ipython",
    "version": 3
   },
   "file_extension": ".py",
   "mimetype": "text/x-python",
   "name": "python",
   "nbconvert_exporter": "python",
   "pygments_lexer": "ipython3",
   "version": "3.13.5"
  }
 },
 "nbformat": 4,
 "nbformat_minor": 5
}
