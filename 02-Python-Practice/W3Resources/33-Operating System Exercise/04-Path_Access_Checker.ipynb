{
 "cells": [
  {
   "cell_type": "markdown",
   "id": "e7bf7e05",
   "metadata": {},
   "source": [
    "# Task: Path Access Checker\n",
    "\n",
    "## Problem Statement:\n",
    "Write a Python program to check access to a specified path. The program should verify if the path exists, if it’s readable, writable, and executable.\n",
    "\n",
    "## Steps:\n",
    "1. Use `os.path.exists()` to check if the path exists.\n",
    "2. Use `os.access()` with flags `os.R_OK`, `os.W_OK`, and `os.X_OK` to check readability, writability, and executability.\n",
    "3. Display the results of each check.\n"
   ]
  },
  {
   "cell_type": "code",
   "execution_count": 1,
   "id": "5cf39631",
   "metadata": {},
   "outputs": [],
   "source": [
    "import os"
   ]
  },
  {
   "cell_type": "code",
   "execution_count": 2,
   "id": "a3cdc753",
   "metadata": {},
   "outputs": [],
   "source": [
    "file_name = 'Graph_abstract_data_type.html'\n",
    "path = os.path.join(os.getcwd(), file_name)"
   ]
  },
  {
   "cell_type": "code",
   "execution_count": 3,
   "id": "89bb4c8b",
   "metadata": {},
   "outputs": [
    {
     "name": "stdout",
     "output_type": "stream",
     "text": [
      "Exist: True\n",
      "Readable: True\n",
      "Writable: True\n",
      "Executable: True\n"
     ]
    }
   ],
   "source": [
    "print('Exist:', os.access(path, os.F_OK))\n",
    "print('Readable:', os.access(path, os.R_OK))\n",
    "print('Writable:', os.access(path, os.W_OK))\n",
    "print('Executable:', os.access(path, os.X_OK))"
   ]
  }
 ],
 "metadata": {
  "kernelspec": {
   "display_name": "base",
   "language": "python",
   "name": "python3"
  },
  "language_info": {
   "codemirror_mode": {
    "name": "ipython",
    "version": 3
   },
   "file_extension": ".py",
   "mimetype": "text/x-python",
   "name": "python",
   "nbconvert_exporter": "python",
   "pygments_lexer": "ipython3",
   "version": "3.13.5"
  }
 },
 "nbformat": 4,
 "nbformat_minor": 5
}
