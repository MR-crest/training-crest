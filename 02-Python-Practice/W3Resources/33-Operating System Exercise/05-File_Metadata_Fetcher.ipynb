{
 "cells": [
  {
   "cell_type": "code",
   "execution_count": 1,
   "id": "a77f8c30",
   "metadata": {},
   "outputs": [],
   "source": [
    "import os\n",
    "import sys\n",
    "import time"
   ]
  },
  {
   "cell_type": "code",
   "execution_count": 2,
   "id": "6008bcd2",
   "metadata": {},
   "outputs": [],
   "source": [
    "file_name = 'Graph_abstract_data_type.html'"
   ]
  },
  {
   "cell_type": "code",
   "execution_count": 3,
   "id": "e402c225",
   "metadata": {},
   "outputs": [],
   "source": [
    "path = os.path.join(os.getcwd(), file_name)"
   ]
  },
  {
   "cell_type": "code",
   "execution_count": 4,
   "id": "2e336a5e",
   "metadata": {},
   "outputs": [
    {
     "name": "stdout",
     "output_type": "stream",
     "text": [
      "Path Name (c:\\Users\\MeetRadadiya\\training-crest\\02-Python-Practice\\W3Resources\\33-Operating System Exercise\\Graph_abstract_data_type.html):\n",
      "Size: 168717 bytes\n",
      "Permissions: 0o100666\n",
      "Owner: 0\n",
      "Device: 1636770816479347123\n",
      "Created     : Fri Jul 25 10:41:17 2025\n",
      "Last modified: Fri Jul 25 09:53:39 2025\n",
      "Last accessed: Fri Jul 25 10:41:17 2025\n"
     ]
    }
   ],
   "source": [
    "if os.path.exists(path):\n",
    "    stat_info = os.stat(path)\n",
    "    \n",
    "    print(f'Path Name ({path}):')\n",
    "    print('Size:', stat_info.st_size, 'bytes')\n",
    "    print('Permissions:', oct(stat_info.st_mode))\n",
    "    print('Owner:', stat_info.st_uid)\n",
    "    print('Device:', stat_info.st_dev)\n",
    "    print('Created     :', time.ctime(stat_info.st_ctime))\n",
    "    print('Last modified:', time.ctime(stat_info.st_mtime))\n",
    "    print('Last accessed:', time.ctime(stat_info.st_atime))\n",
    "else:\n",
    "    print(f\"The file {file_name} does not exist in the current working directory.\")"
   ]
  }
 ],
 "metadata": {
  "kernelspec": {
   "display_name": "base",
   "language": "python",
   "name": "python3"
  },
  "language_info": {
   "codemirror_mode": {
    "name": "ipython",
    "version": 3
   },
   "file_extension": ".py",
   "mimetype": "text/x-python",
   "name": "python",
   "nbconvert_exporter": "python",
   "pygments_lexer": "ipython3",
   "version": "3.13.5"
  }
 },
 "nbformat": 4,
 "nbformat_minor": 5
}
