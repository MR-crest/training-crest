{
 "cells": [
  {
   "cell_type": "markdown",
   "id": "37acbf2c",
   "metadata": {},
   "source": [
    "# Task: Display Upcoming Hackathons\n",
    "\n",
    "## Problem Statement:\n",
    "Write a Python program to fetch and display the date, days, title, city, and country of the next 25 upcoming hackathons from the hackevents.co website.\n",
    "\n",
    "## Steps:\n",
    "1. **Make an HTTP request** to the HackEvents website using `requests` to retrieve the HTML content.\n",
    "2. **Parse the HTML content** using `BeautifulSoup` to extract the hackathon details.\n",
    "3. **Extract information** such as the date, days, title, city, and country for each hackathon.\n",
    "4. **Display the details** of the next 25 hackathons in a readable format."
   ]
  },
  {
   "cell_type": "code",
   "execution_count": 1,
   "id": "1c883a4a",
   "metadata": {},
   "outputs": [],
   "source": [
    "import requests\n",
    "from bs4 import BeautifulSoup\n",
    "from tabulate import tabulate"
   ]
  },
  {
   "cell_type": "code",
   "execution_count": 2,
   "id": "d677e22c",
   "metadata": {},
   "outputs": [],
   "source": [
    "url = 'https://www.hackerearth.com/challenges/hackathon/'\n",
    "res = requests.get(url)"
   ]
  },
  {
   "cell_type": "code",
   "execution_count": 3,
   "id": "ce9a7cde",
   "metadata": {},
   "outputs": [],
   "source": [
    "bs = BeautifulSoup(res.text, 'html.parser')"
   ]
  },
  {
   "cell_type": "code",
   "execution_count": 4,
   "id": "631d0900",
   "metadata": {},
   "outputs": [],
   "source": [
    "hackathons = bs.find_all('div', class_='challenge-card-modern')"
   ]
  },
  {
   "cell_type": "code",
   "execution_count": 5,
   "id": "d9f0d245",
   "metadata": {},
   "outputs": [],
   "source": [
    "hackathon_data = []"
   ]
  },
  {
   "cell_type": "code",
   "execution_count": 6,
   "id": "8376530f",
   "metadata": {},
   "outputs": [
    {
     "name": "stdout",
     "output_type": "stream",
     "text": [
      "Error processing hackathon 6\n",
      "Error processing hackathon 7\n",
      "Error processing hackathon 8\n"
     ]
    }
   ],
   "source": [
    "for i, hack in enumerate(hackathons, 1):\n",
    "    try:\n",
    "        title = hack.find('span', class_='challenge-list-title').text.strip()\n",
    "        event_url = hack.find('a', class_='challenge-card-link')['href']\n",
    "        company = hack.find('div', class_='company-details').text.strip()\n",
    "        registrations = hack.find('div', class_='registrations').text.strip()\n",
    "        image_url = hack.find('div', class_='event-image')['style'].split(\"url('\")[1].split(\"')\")[0]\n",
    "        countdown = hack.find('div', class_='countdown')\n",
    "        time_remaining = \"Not Available\"\n",
    "        if countdown:\n",
    "            days = countdown.find(id='days-0').text.strip()\n",
    "            hours = countdown.find(id='hours-0').text.strip()\n",
    "            minutes = countdown.find(id='minutes-0').text.strip()\n",
    "            time_remaining = f\"{days} days, {hours} hours, {minutes} minutes\"\n",
    "        \n",
    "        hackathon_data.append({\n",
    "            'Index': i,\n",
    "            'Title': title,\n",
    "            'Event URL': event_url,\n",
    "            'Company': company,\n",
    "            'Registrations': registrations,\n",
    "            'Image URL': image_url,\n",
    "            'Time Remaining': time_remaining\n",
    "        })\n",
    "    except AttributeError:\n",
    "        print(f\"Error processing hackathon {i}\")"
   ]
  },
  {
   "cell_type": "code",
   "execution_count": 7,
   "id": "8a12f643",
   "metadata": {},
   "outputs": [
    {
     "name": "stdout",
     "output_type": "stream",
     "text": [
      "+-------+------------------------------------------------+------------------------------------------------------------------------------------------------------------+-----------------+---------------+-----------------------------------------------------------------------------------------------------------------------------------------------------------+------------------------+\n",
      "| Index |                     Title                      |                                                 Event URL                                                  |     Company     | Registrations |                                                                         Image URL                                                                         |     Time Remaining     |\n",
      "+-------+------------------------------------------------+------------------------------------------------------------------------------------------------------------+-----------------+---------------+-----------------------------------------------------------------------------------------------------------------------------------------------------------+------------------------+\n",
      "|   1   |                Forge the Future                |                                      https://elastic.hackerearth.com/                                      |     Elastic     |     1542      |                             https://media.hackerearth.com/media/hackathon/elastics-hackathon/images/5197ad4b63-listing_3.png                              | days,  hours,  minutes |\n",
      "|   2   |     Nasscom Tech Developer Hackathon 2025      | https://www.hackerearth.com/challenges/hackathon/infinite-impact-one-platform-to-build-whats-next-theme-3/ |     Nasscom     |      532      |     https://media.hackerearth.com/media/hackathon/infinite-impact-one-platform-to-build-whats-next-theme-3/images/da70b4db69-listing_nascom_gnani.png     | days,  hours,  minutes |\n",
      "|   3   |     Nasscom Tech Developer Hackathon 2025      | https://www.hackerearth.com/challenges/hackathon/infinite-impact-one-platform-to-build-whats-next-theme-1/ |     Nasscom     |      307      |      https://media.hackerearth.com/media/hackathon/infinite-impact-one-platform-to-build-whats-next-theme-1/images/7de21edc69-listing_listing_1.png       | days,  hours,  minutes |\n",
      "|   4   | Building Location Applications With Foursquare |                                    https://foursquare.hackerearth.com/                                     | Foursquare Labs |     1462      | https://media.hackerearth.com/media/hackathon/building-agentic-location-based-applications-with-the-foursquare-places-api/images/e44e5ddd5f-listing_3.jpg | days,  hours,  minutes |\n",
      "|   5   |      Capital One Launchpad 2025 Hackathon      |                                    https://capitalone.hackerearth.com/                                     |   CapitalOne    |      615      |                   https://media.hackerearth.com/media/hackathon/capitalone-2025-hackathon/images/dcf61e7b69-Listing_cover_image_1_1.jpg                   |     Not Available      |\n",
      "+-------+------------------------------------------------+------------------------------------------------------------------------------------------------------------+-----------------+---------------+-----------------------------------------------------------------------------------------------------------------------------------------------------------+------------------------+\n"
     ]
    }
   ],
   "source": [
    "print(tabulate(hackathon_data[:5], headers=\"keys\", tablefmt=\"pretty\", numalign=\"left\"))"
   ]
  }
 ],
 "metadata": {
  "kernelspec": {
   "display_name": "base",
   "language": "python",
   "name": "python3"
  },
  "language_info": {
   "codemirror_mode": {
    "name": "ipython",
    "version": 3
   },
   "file_extension": ".py",
   "mimetype": "text/x-python",
   "name": "python",
   "nbconvert_exporter": "python",
   "pygments_lexer": "ipython3",
   "version": "3.13.5"
  }
 },
 "nbformat": 4,
 "nbformat_minor": 5
}
