{
 "cells": [
  {
   "cell_type": "code",
   "execution_count": 1,
   "id": "c7202cdd-54aa-4f72-a988-d326df803b2b",
   "metadata": {},
   "outputs": [
    {
     "name": "stdout",
     "output_type": "stream",
     "text": [
      "Original 2D array:\n",
      " [[84 32 60]\n",
      " [16 51 51]\n",
      " [96 43 66]]\n",
      "Square root of each element:\n",
      " [[9.16515139 5.65685425 7.74596669]\n",
      " [4.         7.14142843 7.14142843]\n",
      " [9.79795897 6.55743852 8.1240384 ]]\n"
     ]
    }
   ],
   "source": [
    "import numpy as np\n",
    "\n",
    "array_2d = np.random.randint(1, 100, size=(3, 3))\n",
    "\n",
    "sqrt_array = np.sqrt(array_2d)\n",
    "\n",
    "print('Original 2D array:\\n', array_2d)\n",
    "print('Square root of each element:\\n', sqrt_array)"
   ]
  },
  {
   "cell_type": "code",
   "execution_count": 2,
   "id": "e1574f87-70c2-404a-9ba5-917e81d292b5",
   "metadata": {},
   "outputs": [
    {
     "name": "stdout",
     "output_type": "stream",
     "text": [
      "Original Masked Array:\n",
      "[1 -- 3 -- 5 -- 7 -- 9 --]\n",
      "\n",
      "Filled Array:\n",
      "[ 1 -1  3 -1  5 -1  7 -1  9 -1]\n"
     ]
    }
   ],
   "source": [
    "import numpy as np  \n",
    "\n",
    "data = np.array([1, 2, 3, 4, 5, 6, 7, 8, 9, 10])\n",
    "\n",
    "mask = np.array([False, True, False, True, False, True, False, True, False, True])\n",
    "\n",
    "masked_array = np.ma.masked_array(data, mask=mask)\n",
    "\n",
    "filled_array = np.ma.filled(masked_array, fill_value=-1)\n",
    "\n",
    "print(\"Original Masked Array:\")\n",
    "print(masked_array)\n",
    "\n",
    "print(\"\\nFilled Array:\")\n",
    "print(filled_array)"
   ]
  },
  {
   "cell_type": "code",
   "execution_count": null,
   "id": "cd5709c9-d46c-4613-8a1c-6508ec095050",
   "metadata": {},
   "outputs": [],
   "source": []
  }
 ],
 "metadata": {
  "kernelspec": {
   "display_name": "Python 3 (ipykernel)",
   "language": "python",
   "name": "python3"
  },
  "language_info": {
   "codemirror_mode": {
    "name": "ipython",
    "version": 3
   },
   "file_extension": ".py",
   "mimetype": "text/x-python",
   "name": "python",
   "nbconvert_exporter": "python",
   "pygments_lexer": "ipython3",
   "version": "3.13.5"
  }
 },
 "nbformat": 4,
 "nbformat_minor": 5
}
