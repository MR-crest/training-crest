{
 "cells": [
  {
   "cell_type": "markdown",
   "id": "537a6fc9",
   "metadata": {},
   "source": [
    "# Task: Create a Dynamic Class Using a Function\n",
    "\n",
    "## Problem Statement:\n",
    "Write a Python function `create_class` that takes a class name and a dictionary of attributes and methods, and returns a dynamically created class with those attributes and methods.\n",
    "\n",
    "## Steps:\n",
    "1. Define a function `create_class` that uses the `type()` function to create a new class with the specified attributes and methods.\n",
    "2. Pass the class name and a dictionary containing attributes and methods to the function.\n",
    "3. Create an instance of the dynamically created class and test the attributes and methods.\n",
    "\n"
   ]
  },
  {
   "cell_type": "code",
   "execution_count": 1,
   "id": "327aae31",
   "metadata": {},
   "outputs": [],
   "source": [
    "def create_class(name, attrs):\n",
    "    return type(name, (object,), attrs)"
   ]
  },
  {
   "cell_type": "code",
   "execution_count": 2,
   "id": "0a939abe",
   "metadata": {},
   "outputs": [],
   "source": [
    "attrs = {\n",
    "    'greet': lambda self: \"Hello, MR!\",\n",
    "    'age': 25\n",
    "}"
   ]
  },
  {
   "cell_type": "code",
   "execution_count": 3,
   "id": "4cf980c0",
   "metadata": {},
   "outputs": [],
   "source": [
    "MyDynamicClass = create_class('MyDynamicClass', attrs)"
   ]
  },
  {
   "cell_type": "code",
   "execution_count": 4,
   "id": "e191167c",
   "metadata": {},
   "outputs": [
    {
     "name": "stdout",
     "output_type": "stream",
     "text": [
      "Hello, MR!\n",
      "25\n"
     ]
    }
   ],
   "source": [
    "instance = MyDynamicClass()\n",
    "print(instance.greet())\n",
    "print(instance.age)"
   ]
  }
 ],
 "metadata": {
  "kernelspec": {
   "display_name": "base",
   "language": "python",
   "name": "python3"
  },
  "language_info": {
   "codemirror_mode": {
    "name": "ipython",
    "version": 3
   },
   "file_extension": ".py",
   "mimetype": "text/x-python",
   "name": "python",
   "nbconvert_exporter": "python",
   "pygments_lexer": "ipython3",
   "version": "3.13.5"
  }
 },
 "nbformat": 4,
 "nbformat_minor": 5
}
