{
 "cells": [
  {
   "cell_type": "markdown",
   "id": "771a40c2",
   "metadata": {},
   "source": [
    "# Task: Implement Singleton Pattern Using Metaclass\n",
    "\n",
    "## Problem Statement:\n",
    "Write a Python program to create a metaclass `SingletonMeta` that ensures a class only has one instance, enforcing the Singleton pattern. The program should ensure that even if multiple objects of the class are created, they will always refer to the same instance.\n",
    "\n",
    "## Steps:\n",
    "1. **Define a Metaclass**: Create a metaclass `SingletonMeta` by inheriting from `type` and overriding the `__call__` method to check if the class already has an instance.\n",
    "2. **Create Singleton Class**: Use the `SingletonMeta` as the metaclass for a class to ensure only one instance of that class can be created.\n",
    "3. **Test Singleton Behavior**: Create two instances of the class and check if they are the same instance by comparing them using the `is` operator."
   ]
  },
  {
   "cell_type": "code",
   "execution_count": 1,
   "id": "0cd24395",
   "metadata": {},
   "outputs": [],
   "source": [
    "class SingletonMeta(type):\n",
    "    _instances = {}\n",
    "\n",
    "    def __call__(cls, *args, **kwargs):\n",
    "        if cls not in cls._instances:\n",
    "            cls._instances[cls] = super().__call__(*args, **kwargs)\n",
    "        return cls._instances[cls]"
   ]
  },
  {
   "cell_type": "code",
   "execution_count": 2,
   "id": "97c678c1",
   "metadata": {},
   "outputs": [],
   "source": [
    "class SingletonClass(metaclass=SingletonMeta):\n",
    "    pass"
   ]
  },
  {
   "cell_type": "code",
   "execution_count": 3,
   "id": "bf14b34f",
   "metadata": {},
   "outputs": [
    {
     "name": "stdout",
     "output_type": "stream",
     "text": [
      "True\n"
     ]
    }
   ],
   "source": [
    "instance1 = SingletonClass()\n",
    "instance2 = SingletonClass()\n",
    "print(instance1 is instance2)"
   ]
  }
 ],
 "metadata": {
  "kernelspec": {
   "display_name": "base",
   "language": "python",
   "name": "python3"
  },
  "language_info": {
   "codemirror_mode": {
    "name": "ipython",
    "version": 3
   },
   "file_extension": ".py",
   "mimetype": "text/x-python",
   "name": "python",
   "nbconvert_exporter": "python",
   "pygments_lexer": "ipython3",
   "version": "3.13.5"
  }
 },
 "nbformat": 4,
 "nbformat_minor": 5
}
