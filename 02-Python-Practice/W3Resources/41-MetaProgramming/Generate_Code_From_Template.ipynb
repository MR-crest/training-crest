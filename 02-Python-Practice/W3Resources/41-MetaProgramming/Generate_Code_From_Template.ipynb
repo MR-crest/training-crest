{
 "cells": [
  {
   "cell_type": "markdown",
   "id": "4384640d",
   "metadata": {},
   "source": [
    "# Task: Generate Code from a Template\n",
    "\n",
    "## Problem Statement:\n",
    "Write a Python function `generate_code` that takes a template string with placeholders and a dictionary of values, and returns the generated code with placeholders replaced by corresponding values.\n",
    "\n",
    "## Steps:\n",
    "1. Define a template string with placeholders for class name, constructor arguments, and initialization body.\n",
    "2. Pass the template string and a dictionary of values to the `generate_code` function, which replaces the placeholders with the corresponding values from the dictionary.\n",
    "3. Use the `exec()` function to execute the generated code and define the class dynamically.\n",
    "4. Create an instance of the dynamically generated class and access its attributes to verify the functionality.\n",
    "\n"
   ]
  },
  {
   "cell_type": "code",
   "execution_count": null,
   "id": "4bb1bdfe",
   "metadata": {},
   "outputs": [],
   "source": [
    "def generate_code(template, values):\n",
    "    return template.format(**values)"
   ]
  },
  {
   "cell_type": "code",
   "execution_count": null,
   "id": "3cfe2885",
   "metadata": {},
   "outputs": [],
   "source": [
    "template = \"\"\"\n",
    "class {class_name}:\n",
    "    def __init__(self, {args}):\n",
    "        {init_body}\n",
    "\"\"\""
   ]
  },
  {
   "cell_type": "code",
   "execution_count": null,
   "id": "cf83f17c",
   "metadata": {},
   "outputs": [],
   "source": [
    "values = {\n",
    "    'class_name': 'Person',\n",
    "    'args': 'name, age',\n",
    "    'init_body': 'self.name = name\\n        self.age = age'\n",
    "}"
   ]
  },
  {
   "cell_type": "code",
   "execution_count": null,
   "id": "29359f98",
   "metadata": {},
   "outputs": [],
   "source": [
    "generated_code = generate_code(template, values)"
   ]
  },
  {
   "cell_type": "code",
   "execution_count": null,
   "id": "3f3ed2c2",
   "metadata": {},
   "outputs": [],
   "source": [
    "exec(generated_code)"
   ]
  },
  {
   "cell_type": "code",
   "execution_count": null,
   "id": "cfdacc89",
   "metadata": {},
   "outputs": [
    {
     "name": "stdout",
     "output_type": "stream",
     "text": [
      "MR\n",
      "25\n"
     ]
    }
   ],
   "source": [
    "person = Person('MR', 25)\n",
    "print(person.name)\n",
    "print(person.age)"
   ]
  }
 ],
 "metadata": {
  "kernelspec": {
   "display_name": "base",
   "language": "python",
   "name": "python3"
  },
  "language_info": {
   "codemirror_mode": {
    "name": "ipython",
    "version": 3
   },
   "file_extension": ".py",
   "mimetype": "text/x-python",
   "name": "python",
   "nbconvert_exporter": "python",
   "pygments_lexer": "ipython3",
   "version": "3.13.5"
  }
 },
 "nbformat": 4,
 "nbformat_minor": 5
}
