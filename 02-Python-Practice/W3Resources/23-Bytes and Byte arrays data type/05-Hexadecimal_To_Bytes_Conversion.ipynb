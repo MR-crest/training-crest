{
 "cells": [
  {
   "cell_type": "markdown",
   "id": "146438cd",
   "metadata": {},
   "source": [
    "# Task: Hexadecimal to Bytes Conversion\n",
    "\n",
    "## Problem Statement\n",
    "Write a Python program that converts a **hexadecimal string** into a **bytes sequence**.  \n",
    "This is useful when decoding hex-encoded binary data for communication, file I/O, or cryptography tasks.\n",
    "\n",
    "## Steps\n",
    "1. Take a valid hexadecimal string as input.\n",
    "2. Use the built-in `bytes.fromhex()` method to convert the string to a byte sequence.\n",
    "3. Print or return the resulting bytes object.\n"
   ]
  },
  {
   "cell_type": "code",
   "execution_count": 1,
   "id": "b75786e1",
   "metadata": {},
   "outputs": [],
   "source": [
    "def hex_str_to_bytes(hex_string):\n",
    "    try:\n",
    "        bytes_sequence = bytes.fromhex(hex_string)\n",
    "        return bytes_sequence\n",
    "    except ValueError as ve:\n",
    "        print(\"Error:\", ve)\n",
    "        return None"
   ]
  },
  {
   "cell_type": "code",
   "execution_count": 2,
   "id": "39140438",
   "metadata": {},
   "outputs": [],
   "source": [
    "def main():\n",
    "    try:\n",
    "        hex_string = \"4861636b657220436f6465\" \n",
    "        \n",
    "        bytes_result = hex_str_to_bytes(hex_string)\n",
    "        \n",
    "        if bytes_result is not None:\n",
    "            print(\"Hexadecimal String:\", hex_string)\n",
    "            print(\"Bytes Sequence:\", bytes_result)\n",
    "            print(\"Decoded String:\", bytes_result.decode(\"utf-8\"))\n",
    "    except Exception as e:\n",
    "        print(\"An error occurred:\", e)"
   ]
  },
  {
   "cell_type": "code",
   "execution_count": 3,
   "id": "88ccd99a",
   "metadata": {},
   "outputs": [
    {
     "name": "stdout",
     "output_type": "stream",
     "text": [
      "Hexadecimal String: 4861636b657220436f6465\n",
      "Bytes Sequence: b'Hacker Code'\n",
      "Decoded String: Hacker Code\n"
     ]
    }
   ],
   "source": [
    "if __name__ == \"__main__\":\n",
    "    main()"
   ]
  }
 ],
 "metadata": {
  "kernelspec": {
   "display_name": "base",
   "language": "python",
   "name": "python3"
  },
  "language_info": {
   "codemirror_mode": {
    "name": "ipython",
    "version": 3
   },
   "file_extension": ".py",
   "mimetype": "text/x-python",
   "name": "python",
   "nbconvert_exporter": "python",
   "pygments_lexer": "ipython3",
   "version": "3.13.5"
  }
 },
 "nbformat": 4,
 "nbformat_minor": 5
}
