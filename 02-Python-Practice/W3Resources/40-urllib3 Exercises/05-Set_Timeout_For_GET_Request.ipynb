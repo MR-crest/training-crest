{
 "cells": [
  {
   "cell_type": "markdown",
   "id": "1362bc44",
   "metadata": {},
   "source": [
    "# Task: Set Timeout for GET Request to Handle Long Server Response Times\n",
    "\n",
    "## Problem Statement:\n",
    "Write a Python program that makes a GET request to a given URL with a timeout. If the server takes too long to respond, the program should handle the timeout gracefully and print an appropriate error message.\n",
    "\n",
    "## Steps:\n",
    "1. **Create a PoolManager instance** with a specified timeout value (e.g., 5 seconds).\n",
    "2. **Send a GET request** to the server using the `request` method from `urllib3.PoolManager`.\n",
    "3. **Handle potential timeout or request errors** using a `try-except` block and print appropriate messages based on the response or error.\n"
   ]
  },
  {
   "cell_type": "code",
   "execution_count": 1,
   "id": "3baa7c57",
   "metadata": {},
   "outputs": [],
   "source": [
    "import urllib3"
   ]
  },
  {
   "cell_type": "code",
   "execution_count": 2,
   "id": "df9bceac",
   "metadata": {},
   "outputs": [],
   "source": [
    "def make_get_request_with_timeout():\n",
    "    http = urllib3.PoolManager(timeout=5)\n",
    "\n",
    "    api_url = 'https://jsonplaceholder.typicode.com/posts/1'\n",
    "\n",
    "    try:\n",
    "        response = http.request('GET',api_url)\n",
    "        if response.status == 200:\n",
    "            print(\"GET Request Successful: \")\n",
    "            print(response.data.decode('utf-8'))\n",
    "        else:\n",
    "            print(f\"Error: Unable to make GET request. Status code: {response.status}\")\n",
    "    except urllib3.exceptions.RequestError as e:\n",
    "        print(f\"Error: {e}\")"
   ]
  },
  {
   "cell_type": "code",
   "execution_count": 3,
   "id": "a98f8e28",
   "metadata": {},
   "outputs": [
    {
     "name": "stdout",
     "output_type": "stream",
     "text": [
      "GET Request Successful: \n",
      "{\n",
      "  \"userId\": 1,\n",
      "  \"id\": 1,\n",
      "  \"title\": \"sunt aut facere repellat provident occaecati excepturi optio reprehenderit\",\n",
      "  \"body\": \"quia et suscipit\\nsuscipit recusandae consequuntur expedita et cum\\nreprehenderit molestiae ut ut quas totam\\nnostrum rerum est autem sunt rem eveniet architecto\"\n",
      "}\n"
     ]
    }
   ],
   "source": [
    "if __name__ == \"__main__\":\n",
    "    make_get_request_with_timeout()"
   ]
  }
 ],
 "metadata": {
  "kernelspec": {
   "display_name": "base",
   "language": "python",
   "name": "python3"
  },
  "language_info": {
   "codemirror_mode": {
    "name": "ipython",
    "version": 3
   },
   "file_extension": ".py",
   "mimetype": "text/x-python",
   "name": "python",
   "nbconvert_exporter": "python",
   "pygments_lexer": "ipython3",
   "version": "3.13.5"
  }
 },
 "nbformat": 4,
 "nbformat_minor": 5
}
