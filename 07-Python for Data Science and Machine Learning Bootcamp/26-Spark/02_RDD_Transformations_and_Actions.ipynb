{
  "cells": [
    {
      "cell_type": "markdown",
      "metadata": {
        "id": "ZcJZBNxrWQUN"
      },
      "source": [
        "# RDD Transformations and Actions\n",
        "\n",
        "In this lecture we will begin to delve deeper into using Spark and Python. Please view the video lecture for a full explanation.\n",
        "\n",
        "## Important Terms\n",
        "\n",
        "Let's quickly go over some important terms:\n",
        "\n",
        "Term                   |Definition\n",
        "----                   |-------\n",
        "RDD                    |Resilient Distributed Dataset\n",
        "Transformation         |Spark operation that produces an RDD\n",
        "Action                 |Spark operation that produces a local object\n",
        "Spark Job              |Sequence of transformations on data with a final action"
      ]
    },
    {
      "cell_type": "markdown",
      "metadata": {
        "id": "mINxf5K4WQUR"
      },
      "source": [
        "## Creating an RDD\n",
        "\n",
        "There are two common ways to create an RDD:\n",
        "\n",
        "Method                      |Result\n",
        "----------                               |-------\n",
        "`sc.parallelize(array)`                  |Create RDD of elements of array (or list)\n",
        "`sc.textFile(path/to/file)`                      |Create RDD of lines from file"
      ]
    },
    {
      "cell_type": "markdown",
      "metadata": {
        "id": "2n7nbmFmWQUS"
      },
      "source": [
        "## RDD Transformations\n",
        "\n",
        "We can use transformations to create a set of instructions we want to preform on the RDD (before we call an action and actually execute them).\n",
        "\n",
        "Transformation Example                          |Result\n",
        "----------                               |-------\n",
        "`filter(lambda x: x % 2 == 0)`           |Discard non-even elements\n",
        "`map(lambda x: x * 2)`                   |Multiply each RDD element by `2`\n",
        "`map(lambda x: x.split())`               |Split each string into words\n",
        "`flatMap(lambda x: x.split())`           |Split each string into words and flatten sequence\n",
        "`sample(withReplacement=True,0.25)`      |Create sample of 25% of elements with replacement\n",
        "`union(rdd)`                             |Append `rdd` to existing RDD\n",
        "`distinct()`                             |Remove duplicates in RDD\n",
        "`sortBy(lambda x: x, ascending=False)`   |Sort elements in descending order"
      ]
    },
    {
      "cell_type": "markdown",
      "metadata": {
        "id": "7onDbCN3WQUT"
      },
      "source": [
        "## RDD Actions\n",
        "\n",
        "Once you have your 'recipe' of transformations ready, what you will do next is execute them by calling an action. Here are some common actions:\n",
        "\n",
        "Action                             |Result\n",
        "----------                             |-------\n",
        "`collect()`                            |Convert RDD to in-memory list\n",
        "`take(3)`                              |First 3 elements of RDD\n",
        "`top(3)`                               |Top 3 elements of RDD\n",
        "`takeSample(withReplacement=True,3)`   |Create sample of 3 elements with replacement\n",
        "`sum()`                                |Find element sum (assumes numeric elements)\n",
        "`mean()`                               |Find element mean (assumes numeric elements)\n",
        "`stdev()`                              |Find element deviation (assumes numeric elements)"
      ]
    },
    {
      "cell_type": "markdown",
      "metadata": {
        "id": "lFVjBRfmWQUU"
      },
      "source": [
        "____\n",
        "# Examples\n",
        "\n",
        "Now the best way to show all of this is by going through examples! We'll first review a bit by creating and working with a simple text file, then we will move on to more realistic data, such as customers and sales data.\n",
        "\n",
        "### Creating an RDD from a text file:\n",
        "\n",
        "** Creating the textfile **"
      ]
    },
    {
      "cell_type": "code",
      "execution_count": 1,
      "metadata": {
        "colab": {
          "base_uri": "https://localhost:8080/"
        },
        "id": "yPDNHq4cWQUU",
        "outputId": "c4e7802e-4f3b-4d0f-eb59-267463714a5a"
      },
      "outputs": [
        {
          "output_type": "stream",
          "name": "stdout",
          "text": [
            "Writing example2.txt\n"
          ]
        }
      ],
      "source": [
        "%%writefile example2.txt\n",
        "first\n",
        "second line\n",
        "the third line\n",
        "then a fourth line"
      ]
    },
    {
      "cell_type": "markdown",
      "metadata": {
        "id": "BbpHj9caWQUX"
      },
      "source": [
        "Now let's perform some transformations and actions on this text file:"
      ]
    },
    {
      "cell_type": "code",
      "execution_count": 2,
      "metadata": {
        "collapsed": true,
        "id": "jbWd8502WQUY"
      },
      "outputs": [],
      "source": [
        "from pyspark import SparkContext"
      ]
    },
    {
      "cell_type": "code",
      "execution_count": 3,
      "metadata": {
        "collapsed": true,
        "id": "tcageeeLWQUY"
      },
      "outputs": [],
      "source": [
        "sc = SparkContext()"
      ]
    },
    {
      "cell_type": "code",
      "execution_count": 4,
      "metadata": {
        "colab": {
          "base_uri": "https://localhost:8080/"
        },
        "id": "QKAc1PEaWQUZ",
        "outputId": "114231ac-58ca-4cab-af88-7cbada6033d3"
      },
      "outputs": [
        {
          "output_type": "execute_result",
          "data": {
            "text/plain": [
              "example2.txt MapPartitionsRDD[1] at textFile at NativeMethodAccessorImpl.java:0"
            ]
          },
          "metadata": {},
          "execution_count": 4
        }
      ],
      "source": [
        "# Show RDD\n",
        "sc.textFile('example2.txt')"
      ]
    },
    {
      "cell_type": "code",
      "execution_count": 5,
      "metadata": {
        "collapsed": true,
        "id": "CdGopYFAWQUZ"
      },
      "outputs": [],
      "source": [
        "# Save a reference to this RDD\n",
        "text_rdd = sc.textFile('example2.txt')"
      ]
    },
    {
      "cell_type": "code",
      "execution_count": 6,
      "metadata": {
        "colab": {
          "base_uri": "https://localhost:8080/"
        },
        "id": "IFb0u20hWQUa",
        "outputId": "e891cbef-a291-489b-ba5c-b3ebbe457bc6"
      },
      "outputs": [
        {
          "output_type": "execute_result",
          "data": {
            "text/plain": [
              "[['first'],\n",
              " ['second', 'line'],\n",
              " ['the', 'third', 'line'],\n",
              " ['then', 'a', 'fourth', 'line']]"
            ]
          },
          "metadata": {},
          "execution_count": 6
        }
      ],
      "source": [
        "# Map a function (or lambda expression) to each line\n",
        "# Then collect the results.\n",
        "text_rdd.map(lambda line: line.split()).collect()"
      ]
    },
    {
      "cell_type": "markdown",
      "metadata": {
        "id": "YJAl3e_zWQUa"
      },
      "source": [
        "## Map vs flatMap"
      ]
    },
    {
      "cell_type": "code",
      "execution_count": 7,
      "metadata": {
        "colab": {
          "base_uri": "https://localhost:8080/"
        },
        "id": "Hg-wBTRLWQUb",
        "outputId": "486c1c7e-812c-4f69-bb56-713e0f8f149b"
      },
      "outputs": [
        {
          "output_type": "execute_result",
          "data": {
            "text/plain": [
              "['first',\n",
              " 'second',\n",
              " 'line',\n",
              " 'the',\n",
              " 'third',\n",
              " 'line',\n",
              " 'then',\n",
              " 'a',\n",
              " 'fourth',\n",
              " 'line']"
            ]
          },
          "metadata": {},
          "execution_count": 7
        }
      ],
      "source": [
        "# Collect everything as a single flat map\n",
        "text_rdd.flatMap(lambda line: line.split()).collect()"
      ]
    },
    {
      "cell_type": "markdown",
      "metadata": {
        "id": "BrSjbDAoWQUb"
      },
      "source": [
        "# RDDs and Key Value Pairs\n",
        "\n",
        "Now that we've worked with RDDs and how to aggregate values with them, we can begin to look into working with Key Value Pairs. In order to do this, let's create some fake data as a new text file.\n",
        "\n",
        "This data represents some services sold to customers for some SAAS business."
      ]
    },
    {
      "cell_type": "code",
      "execution_count": 8,
      "metadata": {
        "colab": {
          "base_uri": "https://localhost:8080/"
        },
        "id": "b1g_nEBtWQUb",
        "outputId": "55d7c023-c4d8-4b46-a2a3-94ffa1b06e4d"
      },
      "outputs": [
        {
          "output_type": "stream",
          "name": "stdout",
          "text": [
            "Writing services.txt\n"
          ]
        }
      ],
      "source": [
        "%%writefile services.txt\n",
        "#EventId    Timestamp    Customer   State    ServiceID    Amount\n",
        "201       10/13/2017      100       NY       131          100.00\n",
        "204       10/18/2017      700       TX       129          450.00\n",
        "202       10/15/2017      203       CA       121          200.00\n",
        "206       10/19/2017      202       CA       131          500.00\n",
        "203       10/17/2017      101       NY       173          750.00\n",
        "205       10/19/2017      202       TX       121          200.00"
      ]
    },
    {
      "cell_type": "code",
      "execution_count": 9,
      "metadata": {
        "collapsed": true,
        "id": "LrMZcpQvWQUc"
      },
      "outputs": [],
      "source": [
        "services = sc.textFile('services.txt')"
      ]
    },
    {
      "cell_type": "code",
      "execution_count": 10,
      "metadata": {
        "colab": {
          "base_uri": "https://localhost:8080/"
        },
        "id": "7P7R9hXdWQUc",
        "outputId": "d4ad91fa-d949-4757-be3b-189a70810024"
      },
      "outputs": [
        {
          "output_type": "execute_result",
          "data": {
            "text/plain": [
              "['#EventId    Timestamp    Customer   State    ServiceID    Amount',\n",
              " '201       10/13/2017      100       NY       131          100.00']"
            ]
          },
          "metadata": {},
          "execution_count": 10
        }
      ],
      "source": [
        "services.take(2)"
      ]
    },
    {
      "cell_type": "code",
      "execution_count": 11,
      "metadata": {
        "colab": {
          "base_uri": "https://localhost:8080/"
        },
        "id": "1zbiUjhQWQUd",
        "outputId": "0d4d41a8-0cc5-40d7-d05e-df87244f6213"
      },
      "outputs": [
        {
          "output_type": "execute_result",
          "data": {
            "text/plain": [
              "PythonRDD[9] at RDD at PythonRDD.scala:53"
            ]
          },
          "metadata": {},
          "execution_count": 11
        }
      ],
      "source": [
        "services.map(lambda x: x.split())"
      ]
    },
    {
      "cell_type": "code",
      "execution_count": 12,
      "metadata": {
        "colab": {
          "base_uri": "https://localhost:8080/"
        },
        "id": "imsJhe4OWQUe",
        "outputId": "45c6fa80-1ccb-4298-8615-8e3a2a9ab93e"
      },
      "outputs": [
        {
          "output_type": "execute_result",
          "data": {
            "text/plain": [
              "[['#EventId', 'Timestamp', 'Customer', 'State', 'ServiceID', 'Amount'],\n",
              " ['201', '10/13/2017', '100', 'NY', '131', '100.00'],\n",
              " ['204', '10/18/2017', '700', 'TX', '129', '450.00']]"
            ]
          },
          "metadata": {},
          "execution_count": 12
        }
      ],
      "source": [
        "services.map(lambda x: x.split()).take(3)"
      ]
    },
    {
      "cell_type": "markdown",
      "metadata": {
        "id": "CxSstiOzWQUe"
      },
      "source": [
        "Let's remove that first hash-tag!"
      ]
    },
    {
      "cell_type": "code",
      "execution_count": 13,
      "metadata": {
        "colab": {
          "base_uri": "https://localhost:8080/"
        },
        "id": "YSNQM57UWQUf",
        "outputId": "785bee5d-1ea7-4b66-a597-600583a4540f"
      },
      "outputs": [
        {
          "output_type": "execute_result",
          "data": {
            "text/plain": [
              "['EventId    Timestamp    Customer   State    ServiceID    Amount',\n",
              " '201       10/13/2017      100       NY       131          100.00',\n",
              " '204       10/18/2017      700       TX       129          450.00',\n",
              " '202       10/15/2017      203       CA       121          200.00',\n",
              " '206       10/19/2017      202       CA       131          500.00',\n",
              " '203       10/17/2017      101       NY       173          750.00',\n",
              " '205       10/19/2017      202       TX       121          200.00']"
            ]
          },
          "metadata": {},
          "execution_count": 13
        }
      ],
      "source": [
        "services.map(lambda x: x[1:] if x[0]=='#' else x).collect()"
      ]
    },
    {
      "cell_type": "code",
      "execution_count": 14,
      "metadata": {
        "colab": {
          "base_uri": "https://localhost:8080/"
        },
        "id": "ZFpzQwviWQUf",
        "outputId": "9961bf11-9387-45c0-a5f3-735d7f4329e0"
      },
      "outputs": [
        {
          "output_type": "execute_result",
          "data": {
            "text/plain": [
              "[['EventId', 'Timestamp', 'Customer', 'State', 'ServiceID', 'Amount'],\n",
              " ['201', '10/13/2017', '100', 'NY', '131', '100.00'],\n",
              " ['204', '10/18/2017', '700', 'TX', '129', '450.00'],\n",
              " ['202', '10/15/2017', '203', 'CA', '121', '200.00'],\n",
              " ['206', '10/19/2017', '202', 'CA', '131', '500.00'],\n",
              " ['203', '10/17/2017', '101', 'NY', '173', '750.00'],\n",
              " ['205', '10/19/2017', '202', 'TX', '121', '200.00']]"
            ]
          },
          "metadata": {},
          "execution_count": 14
        }
      ],
      "source": [
        "services.map(lambda x: x[1:] if x[0]=='#' else x).map(lambda x: x.split()).collect()"
      ]
    },
    {
      "cell_type": "markdown",
      "metadata": {
        "id": "Okfbh776WQUg"
      },
      "source": [
        "## Using Key Value Pairs for Operations\n",
        "\n",
        "Let us now begin to use methods that combine lambda expressions that use a ByKey argument. These ByKey methods will assume that your data is in a Key,Value form.\n",
        "\n",
        "\n",
        "For example let's find out the total sales per state:"
      ]
    },
    {
      "cell_type": "code",
      "execution_count": 15,
      "metadata": {
        "collapsed": true,
        "id": "IhjEEdV5WQUg"
      },
      "outputs": [],
      "source": [
        "# From Previous\n",
        "cleanServ = services.map(lambda x: x[1:] if x[0]=='#' else x).map(lambda x: x.split())"
      ]
    },
    {
      "cell_type": "code",
      "execution_count": 16,
      "metadata": {
        "colab": {
          "base_uri": "https://localhost:8080/"
        },
        "id": "lX-HGV1ZWQUg",
        "outputId": "1868677e-770a-4cfa-f5ad-dc2df2b961c6"
      },
      "outputs": [
        {
          "output_type": "execute_result",
          "data": {
            "text/plain": [
              "[['EventId', 'Timestamp', 'Customer', 'State', 'ServiceID', 'Amount'],\n",
              " ['201', '10/13/2017', '100', 'NY', '131', '100.00'],\n",
              " ['204', '10/18/2017', '700', 'TX', '129', '450.00'],\n",
              " ['202', '10/15/2017', '203', 'CA', '121', '200.00'],\n",
              " ['206', '10/19/2017', '202', 'CA', '131', '500.00'],\n",
              " ['203', '10/17/2017', '101', 'NY', '173', '750.00'],\n",
              " ['205', '10/19/2017', '202', 'TX', '121', '200.00']]"
            ]
          },
          "metadata": {},
          "execution_count": 16
        }
      ],
      "source": [
        "cleanServ.collect()"
      ]
    },
    {
      "cell_type": "code",
      "execution_count": 17,
      "metadata": {
        "colab": {
          "base_uri": "https://localhost:8080/"
        },
        "id": "GTffu2lpWQUh",
        "outputId": "4c2256cf-c91c-47f4-a17b-3ebaa96403d3"
      },
      "outputs": [
        {
          "output_type": "execute_result",
          "data": {
            "text/plain": [
              "[('State', 'Amount'),\n",
              " ('NY', '100.00'),\n",
              " ('TX', '450.00'),\n",
              " ('CA', '200.00'),\n",
              " ('CA', '500.00'),\n",
              " ('NY', '750.00'),\n",
              " ('TX', '200.00')]"
            ]
          },
          "metadata": {},
          "execution_count": 17
        }
      ],
      "source": [
        "# Let's start by practicing grabbing fields\n",
        "cleanServ.map(lambda lst: (lst[3],lst[-1])).collect()"
      ]
    },
    {
      "cell_type": "code",
      "execution_count": 18,
      "metadata": {
        "colab": {
          "base_uri": "https://localhost:8080/"
        },
        "id": "kM-ITejyWQUh",
        "outputId": "7311e51c-7a9d-4e75-ad68-fa1e0bad7a39"
      },
      "outputs": [
        {
          "output_type": "execute_result",
          "data": {
            "text/plain": [
              "[('NY', '100.00750.00'),\n",
              " ('CA', '200.00500.00'),\n",
              " ('State', 'Amount'),\n",
              " ('TX', '450.00200.00')]"
            ]
          },
          "metadata": {},
          "execution_count": 18
        }
      ],
      "source": [
        "# Continue with reduceByKey\n",
        "# Notice how it assumes that the first item is the key!\n",
        "cleanServ.map(lambda lst: (lst[3],lst[-1]))\\\n",
        "         .reduceByKey(lambda amt1,amt2 : amt1+amt2)\\\n",
        "         .collect()"
      ]
    },
    {
      "cell_type": "markdown",
      "metadata": {
        "id": "15XFP75nWQUi"
      },
      "source": [
        "Uh oh! Looks like we forgot that the amounts are still strings! Let's fix that:"
      ]
    },
    {
      "cell_type": "code",
      "execution_count": 19,
      "metadata": {
        "colab": {
          "base_uri": "https://localhost:8080/"
        },
        "id": "D3UZqj71WQUi",
        "outputId": "566bd076-e9d6-485e-99d0-2dcd5165b47c"
      },
      "outputs": [
        {
          "output_type": "execute_result",
          "data": {
            "text/plain": [
              "[('NY', 850.0), ('CA', 700.0), ('State', 'Amount'), ('TX', 650.0)]"
            ]
          },
          "metadata": {},
          "execution_count": 19
        }
      ],
      "source": [
        "# Continue with reduceByKey\n",
        "# Notice how it assumes that the first item is the key!\n",
        "cleanServ.map(lambda lst: (lst[3],lst[-1]))\\\n",
        "         .reduceByKey(lambda amt1,amt2 : float(amt1)+float(amt2))\\\n",
        "         .collect()"
      ]
    },
    {
      "cell_type": "markdown",
      "metadata": {
        "id": "gdFzbDiVWQUj"
      },
      "source": [
        "We can continue our analysis by sorting this output:"
      ]
    },
    {
      "cell_type": "code",
      "execution_count": 20,
      "metadata": {
        "colab": {
          "base_uri": "https://localhost:8080/"
        },
        "id": "RZUDDmKWWQUk",
        "outputId": "f60b8814-4adc-413c-cbb9-cf31ba72f13e"
      },
      "outputs": [
        {
          "output_type": "execute_result",
          "data": {
            "text/plain": [
              "[('NY', 850.0), ('CA', 700.0), ('TX', 650.0)]"
            ]
          },
          "metadata": {},
          "execution_count": 20
        }
      ],
      "source": [
        "# Grab state and amounts\n",
        "# Add them\n",
        "# Get rid of ('State','Amount')\n",
        "# Sort them by the amount value\n",
        "cleanServ.map(lambda lst: (lst[3],lst[-1]))\\\n",
        ".reduceByKey(lambda amt1,amt2 : float(amt1)+float(amt2))\\\n",
        ".filter(lambda x: not x[0]=='State')\\\n",
        ".sortBy(lambda stateAmount: stateAmount[1], ascending=False)\\\n",
        ".collect()"
      ]
    },
    {
      "cell_type": "markdown",
      "metadata": {
        "id": "NxAvTv97WQUk"
      },
      "source": [
        "** Remember to try to use unpacking for readability. For example: **"
      ]
    },
    {
      "cell_type": "code",
      "execution_count": 21,
      "metadata": {
        "id": "jxzgvvopWQUl"
      },
      "outputs": [],
      "source": [
        "x = ['ID','State','Amount']"
      ]
    },
    {
      "cell_type": "code",
      "execution_count": 22,
      "metadata": {
        "collapsed": true,
        "id": "72nAGM0rWQUl"
      },
      "outputs": [],
      "source": [
        "def func1(lst):\n",
        "    return lst[-1]"
      ]
    },
    {
      "cell_type": "code",
      "execution_count": 23,
      "metadata": {
        "id": "McYzy_zlWQUl"
      },
      "outputs": [],
      "source": [
        "def func2(id_st_amt):\n",
        "    # Unpack Values\n",
        "    (Id,st,amt) = id_st_amt\n",
        "    return amt"
      ]
    },
    {
      "cell_type": "code",
      "execution_count": 24,
      "metadata": {
        "colab": {
          "base_uri": "https://localhost:8080/",
          "height": 36
        },
        "id": "-vpE7G0WWQUm",
        "outputId": "c0ce88b2-d55d-4b4a-9a1a-a8e5184942d3"
      },
      "outputs": [
        {
          "output_type": "execute_result",
          "data": {
            "text/plain": [
              "'Amount'"
            ],
            "application/vnd.google.colaboratory.intrinsic+json": {
              "type": "string"
            }
          },
          "metadata": {},
          "execution_count": 24
        }
      ],
      "source": [
        "func1(x)"
      ]
    },
    {
      "cell_type": "code",
      "execution_count": 25,
      "metadata": {
        "colab": {
          "base_uri": "https://localhost:8080/",
          "height": 36
        },
        "id": "YHdFlxn4WQUm",
        "outputId": "0ba39681-928b-4e83-e36c-79c21f6dd187"
      },
      "outputs": [
        {
          "output_type": "execute_result",
          "data": {
            "text/plain": [
              "'Amount'"
            ],
            "application/vnd.google.colaboratory.intrinsic+json": {
              "type": "string"
            }
          },
          "metadata": {},
          "execution_count": 25
        }
      ],
      "source": [
        "func2(x)"
      ]
    }
  ],
  "metadata": {
    "kernelspec": {
      "display_name": "Python 3",
      "language": "python",
      "name": "python3"
    },
    "language_info": {
      "codemirror_mode": {
        "name": "ipython",
        "version": 3
      },
      "file_extension": ".py",
      "mimetype": "text/x-python",
      "name": "python",
      "nbconvert_exporter": "python",
      "pygments_lexer": "ipython3",
      "version": "3.12.10"
    },
    "colab": {
      "provenance": []
    }
  },
  "nbformat": 4,
  "nbformat_minor": 0
}